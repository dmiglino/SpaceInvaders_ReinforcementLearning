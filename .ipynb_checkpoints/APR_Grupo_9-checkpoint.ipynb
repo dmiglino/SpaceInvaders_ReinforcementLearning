{
 "cells": [
  {
   "cell_type": "markdown",
   "metadata": {
    "id": "jUehXgCyIRdq"
   },
   "source": [
    "# Actividad - Proyecto práctico\n",
    "\n",
    "\n",
    "> La actividad se desarrollará en grupos pre-definidos de 2-3 alumnos. Se debe indicar los nombres en orden alfabético (de apellidos). Recordad que esta actividad se corresponde con un 30% de la nota final de la asignatura. Se debe entregar entregar el trabajo en la presente notebook.\n",
    "*   Alumno 1: Granizo, Mateo\n",
    "*   Alumno 2: Maiolo, Pablo\n",
    "*   Alumno 3: Miglino, Diego\n",
    "\n",
    "\n",
    "\n",
    "\n"
   ]
  },
  {
   "cell_type": "markdown",
   "metadata": {
    "id": "JwpYlnjWJhS9"
   },
   "source": [
    "---\n",
    "## **PARTE 1** - Instalación y requisitos previos\n",
    "\n",
    "> Las prácticas han sido preparadas para poder realizarse en el entorno de trabajo de Google Colab. Sin embargo, esta plataforma presenta ciertas incompatibilidades a la hora de visualizar la renderización en gym. Por ello, para obtener estas visualizaciones, se deberá trasladar el entorno de trabajo a local. Por ello, el presente dosier presenta instrucciones para poder trabajar en ambos entornos. Siga los siguientes pasos para un correcto funcionamiento:\n",
    "1.   **LOCAL:** Preparar el enviroment, siguiendo las intrucciones detalladas en la sección *1.1.Preparar enviroment*.\n",
    "2.  **AMBOS:** Modificar las variables \"mount\" y \"drive_mount\" a la carpeta de trabajo en drive en el caso de estar en Colab, y ejecturar la celda *1.2.Localizar entorno de trabajo*.\n",
    "3. **COLAB:** se deberá ejecutar las celdas correspondientes al montaje de la carpeta de trabajo en Drive. Esta corresponde a la sección *1.3.Montar carpeta de datos local*.\n",
    "4.  **AMBOS:** Instalar las librerías necesarias, siguiendo la sección *1.4.Instalar librerías necesarias*.\n"
   ]
  },
  {
   "cell_type": "markdown",
   "metadata": {
    "id": "RU2BPrK2JkP0"
   },
   "source": [
    "---\n",
    "### 1.1. Preparar enviroment (solo local)\n",
    "\n",
    "\n",
    "\n",
    "> Para preparar el entorno de trabajo en local, se han seguido los siguientes pasos:\n",
    "1. En Windows, puede ser necesario instalar las C++ Build Tools. Para ello, siga los siguientes pasos: https://towardsdatascience.com/how-to-install-openai-gym-in-a-windows-environment-338969e24d30.\n",
    "2. Instalar Anaconda\n",
    "3. Siguiendo el código que se presenta comentado en la próxima celda: Crear un enviroment, cambiar la ruta de trabajo, e instalar librerías básicas.\n",
    "\n",
    "\n",
    "```\n",
    "conda create --name miar_rl python=3.8\n",
    "conda activate miar_rl\n",
    "cd \"PATH_TO_FOLDER\"\n",
    "conda install git\n",
    "pip install jupyter\n",
    "```\n",
    "\n",
    "\n",
    "4. Abrir la notebook con *jupyter-notebook*.\n",
    "\n",
    "\n",
    "\n",
    "```\n",
    "jupyter-notebook\n",
    "```\n"
   ]
  },
  {
   "cell_type": "markdown",
   "metadata": {
    "id": "w-kixNPiJqTc"
   },
   "source": [
    "---\n",
    "### 1.2. Localizar entorno de trabajo: Google colab o local"
   ]
  },
  {
   "cell_type": "code",
   "execution_count": 1,
   "metadata": {
    "colab": {
     "base_uri": "https://localhost:8080/"
    },
    "id": "S_YDFwZ-JscI",
    "outputId": "01a99aa0-3d4e-4cd1-b1bc-309aef65070a"
   },
   "outputs": [
    {
     "name": "stdout",
     "output_type": "stream",
     "text": [
      "False\n"
     ]
    }
   ],
   "source": [
    "# ATENCIÓN!! Modificar ruta relativa a la práctica si es distinta (drive_root)\n",
    "mount='/content/gdrive'\n",
    "drive_root = mount + \"/My Drive/08_MIAR/actividades/TP_Grupal\"\n",
    "mount='./'\n",
    "\n",
    "try:\n",
    "  from google.colab import drive\n",
    "  IN_COLAB=True\n",
    "except:\n",
    "  IN_COLAB=False\n",
    "print(IN_COLAB)"
   ]
  },
  {
   "cell_type": "markdown",
   "metadata": {
    "id": "8Dp_a1iBJ0tf"
   },
   "source": [
    "---\n",
    "### 1.3. Montar carpeta de datos local (solo Colab)"
   ]
  },
  {
   "cell_type": "code",
   "execution_count": 2,
   "metadata": {
    "colab": {
     "base_uri": "https://localhost:8080/"
    },
    "id": "I6n7MIefJ21i",
    "outputId": "9a6fc610-9fb0-4f63-8562-46754d7d75fc",
    "scrolled": true
   },
   "outputs": [
    {
     "name": "stdout",
     "output_type": "stream",
     "text": [
      "Archivos en el directorio: \n",
      "['.git', '.ipynb_checkpoints', 'anaconda_projects', 'apr_g9_dqn_SpaceInvaders-v0_log.json', 'apr_g9_dqn_SpaceInvaders-v0_weights.h5f.data-00000-of-00001', 'apr_g9_dqn_SpaceInvaders-v0_weights.h5f.index', 'apr_g9_dqn_SpaceInvaders-v0_weights_10000.h5f.data-00000-of-00001', 'apr_g9_dqn_SpaceInvaders-v0_weights_10000.h5f.index', 'apr_g9_dqn_SpaceInvaders-v0_weights_100000.h5f.data-00000-of-00001', 'apr_g9_dqn_SpaceInvaders-v0_weights_100000.h5f.index', 'apr_g9_dqn_SpaceInvaders-v0_weights_1000000.h5f.data-00000-of-00001', 'apr_g9_dqn_SpaceInvaders-v0_weights_1000000.h5f.index', 'apr_g9_dqn_SpaceInvaders-v0_weights_1002500.h5f.data-00000-of-00001', 'apr_g9_dqn_SpaceInvaders-v0_weights_1002500.h5f.index', 'apr_g9_dqn_SpaceInvaders-v0_weights_1005000.h5f.data-00000-of-00001', 'apr_g9_dqn_SpaceInvaders-v0_weights_1005000.h5f.index', 'apr_g9_dqn_SpaceInvaders-v0_weights_1007500.h5f.data-00000-of-00001', 'apr_g9_dqn_SpaceInvaders-v0_weights_1007500.h5f.index', 'apr_g9_dqn_SpaceInvaders-v0_weights_1010000.h5f.data-00000-of-00001', 'apr_g9_dqn_SpaceInvaders-v0_weights_1010000.h5f.index', 'apr_g9_dqn_SpaceInvaders-v0_weights_1012500.h5f.data-00000-of-00001', 'apr_g9_dqn_SpaceInvaders-v0_weights_1012500.h5f.index', 'apr_g9_dqn_SpaceInvaders-v0_weights_1015000.h5f.data-00000-of-00001', 'apr_g9_dqn_SpaceInvaders-v0_weights_1015000.h5f.index', 'apr_g9_dqn_SpaceInvaders-v0_weights_1017500.h5f.data-00000-of-00001', 'apr_g9_dqn_SpaceInvaders-v0_weights_1017500.h5f.index', 'apr_g9_dqn_SpaceInvaders-v0_weights_1020000.h5f.data-00000-of-00001', 'apr_g9_dqn_SpaceInvaders-v0_weights_1020000.h5f.index', 'apr_g9_dqn_SpaceInvaders-v0_weights_1022500.h5f.data-00000-of-00001', 'apr_g9_dqn_SpaceInvaders-v0_weights_1022500.h5f.index', 'apr_g9_dqn_SpaceInvaders-v0_weights_102500.h5f.data-00000-of-00001', 'apr_g9_dqn_SpaceInvaders-v0_weights_102500.h5f.index', 'apr_g9_dqn_SpaceInvaders-v0_weights_1025000.h5f.data-00000-of-00001', 'apr_g9_dqn_SpaceInvaders-v0_weights_1025000.h5f.index', 'apr_g9_dqn_SpaceInvaders-v0_weights_1027500.h5f.data-00000-of-00001', 'apr_g9_dqn_SpaceInvaders-v0_weights_1027500.h5f.index', 'apr_g9_dqn_SpaceInvaders-v0_weights_1030000.h5f.data-00000-of-00001', 'apr_g9_dqn_SpaceInvaders-v0_weights_1030000.h5f.index', 'apr_g9_dqn_SpaceInvaders-v0_weights_1032500.h5f.data-00000-of-00001', 'apr_g9_dqn_SpaceInvaders-v0_weights_1032500.h5f.index', 'apr_g9_dqn_SpaceInvaders-v0_weights_1035000.h5f.data-00000-of-00001', 'apr_g9_dqn_SpaceInvaders-v0_weights_1035000.h5f.index', 'apr_g9_dqn_SpaceInvaders-v0_weights_1037500.h5f.data-00000-of-00001', 'apr_g9_dqn_SpaceInvaders-v0_weights_1037500.h5f.index', 'apr_g9_dqn_SpaceInvaders-v0_weights_1040000.h5f.data-00000-of-00001', 'apr_g9_dqn_SpaceInvaders-v0_weights_1040000.h5f.index', 'apr_g9_dqn_SpaceInvaders-v0_weights_1042500.h5f.data-00000-of-00001', 'apr_g9_dqn_SpaceInvaders-v0_weights_1042500.h5f.index', 'apr_g9_dqn_SpaceInvaders-v0_weights_1045000.h5f.data-00000-of-00001', 'apr_g9_dqn_SpaceInvaders-v0_weights_1045000.h5f.index', 'apr_g9_dqn_SpaceInvaders-v0_weights_1047500.h5f.data-00000-of-00001', 'apr_g9_dqn_SpaceInvaders-v0_weights_1047500.h5f.index', 'apr_g9_dqn_SpaceInvaders-v0_weights_105000.h5f.data-00000-of-00001', 'apr_g9_dqn_SpaceInvaders-v0_weights_105000.h5f.index', 'apr_g9_dqn_SpaceInvaders-v0_weights_1050000.h5f.data-00000-of-00001', 'apr_g9_dqn_SpaceInvaders-v0_weights_1050000.h5f.index', 'apr_g9_dqn_SpaceInvaders-v0_weights_1052500.h5f.data-00000-of-00001', 'apr_g9_dqn_SpaceInvaders-v0_weights_1052500.h5f.index', 'apr_g9_dqn_SpaceInvaders-v0_weights_1055000.h5f.data-00000-of-00001', 'apr_g9_dqn_SpaceInvaders-v0_weights_1055000.h5f.index', 'apr_g9_dqn_SpaceInvaders-v0_weights_1057500.h5f.data-00000-of-00001', 'apr_g9_dqn_SpaceInvaders-v0_weights_1057500.h5f.index', 'apr_g9_dqn_SpaceInvaders-v0_weights_1060000.h5f.data-00000-of-00001', 'apr_g9_dqn_SpaceInvaders-v0_weights_1060000.h5f.index', 'apr_g9_dqn_SpaceInvaders-v0_weights_1062500.h5f.data-00000-of-00001', 'apr_g9_dqn_SpaceInvaders-v0_weights_1062500.h5f.index', 'apr_g9_dqn_SpaceInvaders-v0_weights_1065000.h5f.data-00000-of-00001', 'apr_g9_dqn_SpaceInvaders-v0_weights_1065000.h5f.index', 'apr_g9_dqn_SpaceInvaders-v0_weights_1067500.h5f.data-00000-of-00001', 'apr_g9_dqn_SpaceInvaders-v0_weights_1067500.h5f.index', 'apr_g9_dqn_SpaceInvaders-v0_weights_1070000.h5f.data-00000-of-00001', 'apr_g9_dqn_SpaceInvaders-v0_weights_1070000.h5f.index', 'apr_g9_dqn_SpaceInvaders-v0_weights_1072500.h5f.data-00000-of-00001', 'apr_g9_dqn_SpaceInvaders-v0_weights_1072500.h5f.index', 'apr_g9_dqn_SpaceInvaders-v0_weights_107500.h5f.data-00000-of-00001', 'apr_g9_dqn_SpaceInvaders-v0_weights_107500.h5f.index', 'apr_g9_dqn_SpaceInvaders-v0_weights_1075000.h5f.data-00000-of-00001', 'apr_g9_dqn_SpaceInvaders-v0_weights_1075000.h5f.index', 'apr_g9_dqn_SpaceInvaders-v0_weights_1077500.h5f.data-00000-of-00001', 'apr_g9_dqn_SpaceInvaders-v0_weights_1077500.h5f.index', 'apr_g9_dqn_SpaceInvaders-v0_weights_1080000.h5f.data-00000-of-00001', 'apr_g9_dqn_SpaceInvaders-v0_weights_1080000.h5f.index', 'apr_g9_dqn_SpaceInvaders-v0_weights_1082500.h5f.data-00000-of-00001', 'apr_g9_dqn_SpaceInvaders-v0_weights_1082500.h5f.index', 'apr_g9_dqn_SpaceInvaders-v0_weights_1085000.h5f.data-00000-of-00001', 'apr_g9_dqn_SpaceInvaders-v0_weights_1085000.h5f.index', 'apr_g9_dqn_SpaceInvaders-v0_weights_1087500.h5f.data-00000-of-00001', 'apr_g9_dqn_SpaceInvaders-v0_weights_1087500.h5f.index', 'apr_g9_dqn_SpaceInvaders-v0_weights_1090000.h5f.data-00000-of-00001', 'apr_g9_dqn_SpaceInvaders-v0_weights_1090000.h5f.index', 'apr_g9_dqn_SpaceInvaders-v0_weights_1092500.h5f.data-00000-of-00001', 'apr_g9_dqn_SpaceInvaders-v0_weights_1092500.h5f.index', 'apr_g9_dqn_SpaceInvaders-v0_weights_1095000.h5f.data-00000-of-00001', 'apr_g9_dqn_SpaceInvaders-v0_weights_1095000.h5f.index', 'apr_g9_dqn_SpaceInvaders-v0_weights_1097500.h5f.data-00000-of-00001', 'apr_g9_dqn_SpaceInvaders-v0_weights_1097500.h5f.index', 'apr_g9_dqn_SpaceInvaders-v0_weights_110000.h5f.data-00000-of-00001', 'apr_g9_dqn_SpaceInvaders-v0_weights_110000.h5f.index', 'apr_g9_dqn_SpaceInvaders-v0_weights_1100000.h5f.data-00000-of-00001', 'apr_g9_dqn_SpaceInvaders-v0_weights_1100000.h5f.index', 'apr_g9_dqn_SpaceInvaders-v0_weights_1102500.h5f.data-00000-of-00001', 'apr_g9_dqn_SpaceInvaders-v0_weights_1102500.h5f.index', 'apr_g9_dqn_SpaceInvaders-v0_weights_1105000.h5f.data-00000-of-00001', 'apr_g9_dqn_SpaceInvaders-v0_weights_1105000.h5f.index', 'apr_g9_dqn_SpaceInvaders-v0_weights_1107500.h5f.data-00000-of-00001', 'apr_g9_dqn_SpaceInvaders-v0_weights_1107500.h5f.index', 'apr_g9_dqn_SpaceInvaders-v0_weights_1110000.h5f.data-00000-of-00001', 'apr_g9_dqn_SpaceInvaders-v0_weights_1110000.h5f.index', 'apr_g9_dqn_SpaceInvaders-v0_weights_1112500.h5f.data-00000-of-00001', 'apr_g9_dqn_SpaceInvaders-v0_weights_1112500.h5f.index', 'apr_g9_dqn_SpaceInvaders-v0_weights_1115000.h5f.data-00000-of-00001', 'apr_g9_dqn_SpaceInvaders-v0_weights_1115000.h5f.index', 'apr_g9_dqn_SpaceInvaders-v0_weights_1117500.h5f.data-00000-of-00001', 'apr_g9_dqn_SpaceInvaders-v0_weights_1117500.h5f.index', 'apr_g9_dqn_SpaceInvaders-v0_weights_1120000.h5f.data-00000-of-00001', 'apr_g9_dqn_SpaceInvaders-v0_weights_1120000.h5f.index', 'apr_g9_dqn_SpaceInvaders-v0_weights_1122500.h5f.data-00000-of-00001', 'apr_g9_dqn_SpaceInvaders-v0_weights_1122500.h5f.index', 'apr_g9_dqn_SpaceInvaders-v0_weights_112500.h5f.data-00000-of-00001', 'apr_g9_dqn_SpaceInvaders-v0_weights_112500.h5f.index', 'apr_g9_dqn_SpaceInvaders-v0_weights_1125000.h5f.data-00000-of-00001', 'apr_g9_dqn_SpaceInvaders-v0_weights_1125000.h5f.index', 'apr_g9_dqn_SpaceInvaders-v0_weights_1127500.h5f.data-00000-of-00001', 'apr_g9_dqn_SpaceInvaders-v0_weights_1127500.h5f.index', 'apr_g9_dqn_SpaceInvaders-v0_weights_1130000.h5f.data-00000-of-00001', 'apr_g9_dqn_SpaceInvaders-v0_weights_1130000.h5f.index', 'apr_g9_dqn_SpaceInvaders-v0_weights_1132500.h5f.data-00000-of-00001', 'apr_g9_dqn_SpaceInvaders-v0_weights_1132500.h5f.index', 'apr_g9_dqn_SpaceInvaders-v0_weights_1135000.h5f.data-00000-of-00001', 'apr_g9_dqn_SpaceInvaders-v0_weights_1135000.h5f.index', 'apr_g9_dqn_SpaceInvaders-v0_weights_1137500.h5f.data-00000-of-00001', 'apr_g9_dqn_SpaceInvaders-v0_weights_1137500.h5f.index', 'apr_g9_dqn_SpaceInvaders-v0_weights_1140000.h5f.data-00000-of-00001', 'apr_g9_dqn_SpaceInvaders-v0_weights_1140000.h5f.index', 'apr_g9_dqn_SpaceInvaders-v0_weights_1142500.h5f.data-00000-of-00001', 'apr_g9_dqn_SpaceInvaders-v0_weights_1142500.h5f.index', 'apr_g9_dqn_SpaceInvaders-v0_weights_1145000.h5f.data-00000-of-00001', 'apr_g9_dqn_SpaceInvaders-v0_weights_1145000.h5f.index', 'apr_g9_dqn_SpaceInvaders-v0_weights_1147500.h5f.data-00000-of-00001', 'apr_g9_dqn_SpaceInvaders-v0_weights_1147500.h5f.index', 'apr_g9_dqn_SpaceInvaders-v0_weights_115000.h5f.data-00000-of-00001', 'apr_g9_dqn_SpaceInvaders-v0_weights_115000.h5f.index', 'apr_g9_dqn_SpaceInvaders-v0_weights_1150000.h5f.data-00000-of-00001', 'apr_g9_dqn_SpaceInvaders-v0_weights_1150000.h5f.index', 'apr_g9_dqn_SpaceInvaders-v0_weights_1152500.h5f.data-00000-of-00001', 'apr_g9_dqn_SpaceInvaders-v0_weights_1152500.h5f.index', 'apr_g9_dqn_SpaceInvaders-v0_weights_1155000.h5f.data-00000-of-00001', 'apr_g9_dqn_SpaceInvaders-v0_weights_1155000.h5f.index', 'apr_g9_dqn_SpaceInvaders-v0_weights_1157500.h5f.data-00000-of-00001', 'apr_g9_dqn_SpaceInvaders-v0_weights_1157500.h5f.index', 'apr_g9_dqn_SpaceInvaders-v0_weights_1160000.h5f.data-00000-of-00001', 'apr_g9_dqn_SpaceInvaders-v0_weights_1160000.h5f.index', 'apr_g9_dqn_SpaceInvaders-v0_weights_1162500.h5f.data-00000-of-00001', 'apr_g9_dqn_SpaceInvaders-v0_weights_1162500.h5f.index', 'apr_g9_dqn_SpaceInvaders-v0_weights_1165000.h5f.data-00000-of-00001', 'apr_g9_dqn_SpaceInvaders-v0_weights_1165000.h5f.index', 'apr_g9_dqn_SpaceInvaders-v0_weights_1167500.h5f.data-00000-of-00001', 'apr_g9_dqn_SpaceInvaders-v0_weights_1167500.h5f.index', 'apr_g9_dqn_SpaceInvaders-v0_weights_1170000.h5f.data-00000-of-00001', 'apr_g9_dqn_SpaceInvaders-v0_weights_1170000.h5f.index', 'apr_g9_dqn_SpaceInvaders-v0_weights_1172500.h5f.data-00000-of-00001', 'apr_g9_dqn_SpaceInvaders-v0_weights_1172500.h5f.index', 'apr_g9_dqn_SpaceInvaders-v0_weights_117500.h5f.data-00000-of-00001', 'apr_g9_dqn_SpaceInvaders-v0_weights_117500.h5f.index', 'apr_g9_dqn_SpaceInvaders-v0_weights_1175000.h5f.data-00000-of-00001', 'apr_g9_dqn_SpaceInvaders-v0_weights_1175000.h5f.index', 'apr_g9_dqn_SpaceInvaders-v0_weights_1177500.h5f.data-00000-of-00001', 'apr_g9_dqn_SpaceInvaders-v0_weights_1177500.h5f.index', 'apr_g9_dqn_SpaceInvaders-v0_weights_1180000.h5f.data-00000-of-00001', 'apr_g9_dqn_SpaceInvaders-v0_weights_1180000.h5f.index', 'apr_g9_dqn_SpaceInvaders-v0_weights_1182500.h5f.data-00000-of-00001', 'apr_g9_dqn_SpaceInvaders-v0_weights_1182500.h5f.index', 'apr_g9_dqn_SpaceInvaders-v0_weights_1185000.h5f.data-00000-of-00001', 'apr_g9_dqn_SpaceInvaders-v0_weights_1185000.h5f.index', 'apr_g9_dqn_SpaceInvaders-v0_weights_1187500.h5f.data-00000-of-00001', 'apr_g9_dqn_SpaceInvaders-v0_weights_1187500.h5f.index', 'apr_g9_dqn_SpaceInvaders-v0_weights_1190000.h5f.data-00000-of-00001', 'apr_g9_dqn_SpaceInvaders-v0_weights_1190000.h5f.index', 'apr_g9_dqn_SpaceInvaders-v0_weights_1192500.h5f.data-00000-of-00001', 'apr_g9_dqn_SpaceInvaders-v0_weights_1192500.h5f.index', 'apr_g9_dqn_SpaceInvaders-v0_weights_1195000.h5f.data-00000-of-00001', 'apr_g9_dqn_SpaceInvaders-v0_weights_1195000.h5f.index', 'apr_g9_dqn_SpaceInvaders-v0_weights_1197500.h5f.data-00000-of-00001', 'apr_g9_dqn_SpaceInvaders-v0_weights_1197500.h5f.index', 'apr_g9_dqn_SpaceInvaders-v0_weights_120000.h5f.data-00000-of-00001', 'apr_g9_dqn_SpaceInvaders-v0_weights_120000.h5f.index', 'apr_g9_dqn_SpaceInvaders-v0_weights_1200000.h5f.data-00000-of-00001', 'apr_g9_dqn_SpaceInvaders-v0_weights_1200000.h5f.index', 'apr_g9_dqn_SpaceInvaders-v0_weights_1202500.h5f.data-00000-of-00001', 'apr_g9_dqn_SpaceInvaders-v0_weights_1202500.h5f.index', 'apr_g9_dqn_SpaceInvaders-v0_weights_1205000.h5f.data-00000-of-00001', 'apr_g9_dqn_SpaceInvaders-v0_weights_1205000.h5f.index', 'apr_g9_dqn_SpaceInvaders-v0_weights_1207500.h5f.data-00000-of-00001', 'apr_g9_dqn_SpaceInvaders-v0_weights_1207500.h5f.index', 'apr_g9_dqn_SpaceInvaders-v0_weights_1210000.h5f.data-00000-of-00001', 'apr_g9_dqn_SpaceInvaders-v0_weights_1210000.h5f.index', 'apr_g9_dqn_SpaceInvaders-v0_weights_1212500.h5f.data-00000-of-00001', 'apr_g9_dqn_SpaceInvaders-v0_weights_1212500.h5f.index', 'apr_g9_dqn_SpaceInvaders-v0_weights_1215000.h5f.data-00000-of-00001', 'apr_g9_dqn_SpaceInvaders-v0_weights_1215000.h5f.index', 'apr_g9_dqn_SpaceInvaders-v0_weights_1217500.h5f.data-00000-of-00001', 'apr_g9_dqn_SpaceInvaders-v0_weights_1217500.h5f.index', 'apr_g9_dqn_SpaceInvaders-v0_weights_1220000.h5f.data-00000-of-00001', 'apr_g9_dqn_SpaceInvaders-v0_weights_1220000.h5f.index', 'apr_g9_dqn_SpaceInvaders-v0_weights_1222500.h5f.data-00000-of-00001', 'apr_g9_dqn_SpaceInvaders-v0_weights_1222500.h5f.index', 'apr_g9_dqn_SpaceInvaders-v0_weights_122500.h5f.data-00000-of-00001', 'apr_g9_dqn_SpaceInvaders-v0_weights_122500.h5f.index', 'apr_g9_dqn_SpaceInvaders-v0_weights_1225000.h5f.data-00000-of-00001', 'apr_g9_dqn_SpaceInvaders-v0_weights_1225000.h5f.index', 'apr_g9_dqn_SpaceInvaders-v0_weights_1227500.h5f.data-00000-of-00001', 'apr_g9_dqn_SpaceInvaders-v0_weights_1227500.h5f.index', 'apr_g9_dqn_SpaceInvaders-v0_weights_1230000.h5f.data-00000-of-00001', 'apr_g9_dqn_SpaceInvaders-v0_weights_1230000.h5f.index', 'apr_g9_dqn_SpaceInvaders-v0_weights_1232500.h5f.data-00000-of-00001', 'apr_g9_dqn_SpaceInvaders-v0_weights_1232500.h5f.index', 'apr_g9_dqn_SpaceInvaders-v0_weights_1235000.h5f.data-00000-of-00001', 'apr_g9_dqn_SpaceInvaders-v0_weights_1235000.h5f.index', 'apr_g9_dqn_SpaceInvaders-v0_weights_1237500.h5f.data-00000-of-00001', 'apr_g9_dqn_SpaceInvaders-v0_weights_1237500.h5f.index', 'apr_g9_dqn_SpaceInvaders-v0_weights_1240000.h5f.data-00000-of-00001', 'apr_g9_dqn_SpaceInvaders-v0_weights_1240000.h5f.index', 'apr_g9_dqn_SpaceInvaders-v0_weights_1242500.h5f.data-00000-of-00001', 'apr_g9_dqn_SpaceInvaders-v0_weights_1242500.h5f.index', 'apr_g9_dqn_SpaceInvaders-v0_weights_1245000.h5f.data-00000-of-00001', 'apr_g9_dqn_SpaceInvaders-v0_weights_1245000.h5f.index', 'apr_g9_dqn_SpaceInvaders-v0_weights_1247500.h5f.data-00000-of-00001', 'apr_g9_dqn_SpaceInvaders-v0_weights_1247500.h5f.index', 'apr_g9_dqn_SpaceInvaders-v0_weights_12500.h5f.data-00000-of-00001', 'apr_g9_dqn_SpaceInvaders-v0_weights_12500.h5f.index', 'apr_g9_dqn_SpaceInvaders-v0_weights_125000.h5f.data-00000-of-00001', 'apr_g9_dqn_SpaceInvaders-v0_weights_125000.h5f.index', 'apr_g9_dqn_SpaceInvaders-v0_weights_1250000.h5f.data-00000-of-00001', 'apr_g9_dqn_SpaceInvaders-v0_weights_1250000.h5f.index', 'apr_g9_dqn_SpaceInvaders-v0_weights_1252500.h5f.data-00000-of-00001', 'apr_g9_dqn_SpaceInvaders-v0_weights_1252500.h5f.index', 'apr_g9_dqn_SpaceInvaders-v0_weights_1255000.h5f.data-00000-of-00001', 'apr_g9_dqn_SpaceInvaders-v0_weights_1255000.h5f.index', 'apr_g9_dqn_SpaceInvaders-v0_weights_1257500.h5f.data-00000-of-00001', 'apr_g9_dqn_SpaceInvaders-v0_weights_1257500.h5f.index', 'apr_g9_dqn_SpaceInvaders-v0_weights_1260000.h5f.data-00000-of-00001', 'apr_g9_dqn_SpaceInvaders-v0_weights_1260000.h5f.index', 'apr_g9_dqn_SpaceInvaders-v0_weights_1262500.h5f.data-00000-of-00001', 'apr_g9_dqn_SpaceInvaders-v0_weights_1262500.h5f.index', 'apr_g9_dqn_SpaceInvaders-v0_weights_1265000.h5f.data-00000-of-00001', 'apr_g9_dqn_SpaceInvaders-v0_weights_1265000.h5f.index', 'apr_g9_dqn_SpaceInvaders-v0_weights_1267500.h5f.data-00000-of-00001', 'apr_g9_dqn_SpaceInvaders-v0_weights_1267500.h5f.index', 'apr_g9_dqn_SpaceInvaders-v0_weights_1270000.h5f.data-00000-of-00001', 'apr_g9_dqn_SpaceInvaders-v0_weights_1270000.h5f.index', 'apr_g9_dqn_SpaceInvaders-v0_weights_1272500.h5f.data-00000-of-00001', 'apr_g9_dqn_SpaceInvaders-v0_weights_1272500.h5f.index', 'apr_g9_dqn_SpaceInvaders-v0_weights_127500.h5f.data-00000-of-00001', 'apr_g9_dqn_SpaceInvaders-v0_weights_127500.h5f.index', 'apr_g9_dqn_SpaceInvaders-v0_weights_1275000.h5f.data-00000-of-00001', 'apr_g9_dqn_SpaceInvaders-v0_weights_1275000.h5f.index', 'apr_g9_dqn_SpaceInvaders-v0_weights_1277500.h5f.data-00000-of-00001', 'apr_g9_dqn_SpaceInvaders-v0_weights_1277500.h5f.index', 'apr_g9_dqn_SpaceInvaders-v0_weights_1280000.h5f.data-00000-of-00001', 'apr_g9_dqn_SpaceInvaders-v0_weights_1280000.h5f.index', 'apr_g9_dqn_SpaceInvaders-v0_weights_1282500.h5f.data-00000-of-00001', 'apr_g9_dqn_SpaceInvaders-v0_weights_1282500.h5f.index', 'apr_g9_dqn_SpaceInvaders-v0_weights_1285000.h5f.data-00000-of-00001', 'apr_g9_dqn_SpaceInvaders-v0_weights_1285000.h5f.index', 'apr_g9_dqn_SpaceInvaders-v0_weights_1287500.h5f.data-00000-of-00001', 'apr_g9_dqn_SpaceInvaders-v0_weights_1287500.h5f.index', 'apr_g9_dqn_SpaceInvaders-v0_weights_1290000.h5f.data-00000-of-00001', 'apr_g9_dqn_SpaceInvaders-v0_weights_1290000.h5f.index', 'apr_g9_dqn_SpaceInvaders-v0_weights_1292500.h5f.data-00000-of-00001', 'apr_g9_dqn_SpaceInvaders-v0_weights_1292500.h5f.index', 'apr_g9_dqn_SpaceInvaders-v0_weights_1295000.h5f.data-00000-of-00001', 'apr_g9_dqn_SpaceInvaders-v0_weights_1295000.h5f.index', 'apr_g9_dqn_SpaceInvaders-v0_weights_1297500.h5f.data-00000-of-00001', 'apr_g9_dqn_SpaceInvaders-v0_weights_1297500.h5f.index', 'apr_g9_dqn_SpaceInvaders-v0_weights_130000.h5f.data-00000-of-00001', 'apr_g9_dqn_SpaceInvaders-v0_weights_130000.h5f.index', 'apr_g9_dqn_SpaceInvaders-v0_weights_1300000.h5f.data-00000-of-00001', 'apr_g9_dqn_SpaceInvaders-v0_weights_1300000.h5f.index', 'apr_g9_dqn_SpaceInvaders-v0_weights_1302500.h5f.data-00000-of-00001', 'apr_g9_dqn_SpaceInvaders-v0_weights_1302500.h5f.index', 'apr_g9_dqn_SpaceInvaders-v0_weights_1305000.h5f.data-00000-of-00001', 'apr_g9_dqn_SpaceInvaders-v0_weights_1305000.h5f.index', 'apr_g9_dqn_SpaceInvaders-v0_weights_1307500.h5f.data-00000-of-00001', 'apr_g9_dqn_SpaceInvaders-v0_weights_1307500.h5f.index', 'apr_g9_dqn_SpaceInvaders-v0_weights_1310000.h5f.data-00000-of-00001', 'apr_g9_dqn_SpaceInvaders-v0_weights_1310000.h5f.index', 'apr_g9_dqn_SpaceInvaders-v0_weights_1312500.h5f.data-00000-of-00001', 'apr_g9_dqn_SpaceInvaders-v0_weights_1312500.h5f.index', 'apr_g9_dqn_SpaceInvaders-v0_weights_1315000.h5f.data-00000-of-00001', 'apr_g9_dqn_SpaceInvaders-v0_weights_1315000.h5f.index', 'apr_g9_dqn_SpaceInvaders-v0_weights_1317500.h5f.data-00000-of-00001', 'apr_g9_dqn_SpaceInvaders-v0_weights_1317500.h5f.index', 'apr_g9_dqn_SpaceInvaders-v0_weights_1320000.h5f.data-00000-of-00001', 'apr_g9_dqn_SpaceInvaders-v0_weights_1320000.h5f.index', 'apr_g9_dqn_SpaceInvaders-v0_weights_1322500.h5f.data-00000-of-00001', 'apr_g9_dqn_SpaceInvaders-v0_weights_1322500.h5f.index', 'apr_g9_dqn_SpaceInvaders-v0_weights_132500.h5f.data-00000-of-00001', 'apr_g9_dqn_SpaceInvaders-v0_weights_132500.h5f.index', 'apr_g9_dqn_SpaceInvaders-v0_weights_1325000.h5f.data-00000-of-00001', 'apr_g9_dqn_SpaceInvaders-v0_weights_1325000.h5f.index', 'apr_g9_dqn_SpaceInvaders-v0_weights_1327500.h5f.data-00000-of-00001', 'apr_g9_dqn_SpaceInvaders-v0_weights_1327500.h5f.index', 'apr_g9_dqn_SpaceInvaders-v0_weights_1330000.h5f.data-00000-of-00001', 'apr_g9_dqn_SpaceInvaders-v0_weights_1330000.h5f.index', 'apr_g9_dqn_SpaceInvaders-v0_weights_1332500.h5f.data-00000-of-00001', 'apr_g9_dqn_SpaceInvaders-v0_weights_1332500.h5f.index', 'apr_g9_dqn_SpaceInvaders-v0_weights_1335000.h5f.data-00000-of-00001', 'apr_g9_dqn_SpaceInvaders-v0_weights_1335000.h5f.index', 'apr_g9_dqn_SpaceInvaders-v0_weights_1337500.h5f.data-00000-of-00001', 'apr_g9_dqn_SpaceInvaders-v0_weights_1337500.h5f.index', 'apr_g9_dqn_SpaceInvaders-v0_weights_1340000.h5f.data-00000-of-00001', 'apr_g9_dqn_SpaceInvaders-v0_weights_1340000.h5f.index', 'apr_g9_dqn_SpaceInvaders-v0_weights_1342500.h5f.data-00000-of-00001', 'apr_g9_dqn_SpaceInvaders-v0_weights_1342500.h5f.index', 'apr_g9_dqn_SpaceInvaders-v0_weights_1345000.h5f.data-00000-of-00001', 'apr_g9_dqn_SpaceInvaders-v0_weights_1345000.h5f.index', 'apr_g9_dqn_SpaceInvaders-v0_weights_1347500.h5f.data-00000-of-00001', 'apr_g9_dqn_SpaceInvaders-v0_weights_1347500.h5f.index', 'apr_g9_dqn_SpaceInvaders-v0_weights_135000.h5f.data-00000-of-00001', 'apr_g9_dqn_SpaceInvaders-v0_weights_135000.h5f.index', 'apr_g9_dqn_SpaceInvaders-v0_weights_1350000.h5f.data-00000-of-00001', 'apr_g9_dqn_SpaceInvaders-v0_weights_1350000.h5f.index', 'apr_g9_dqn_SpaceInvaders-v0_weights_1352500.h5f.data-00000-of-00001', 'apr_g9_dqn_SpaceInvaders-v0_weights_1352500.h5f.index', 'apr_g9_dqn_SpaceInvaders-v0_weights_1355000.h5f.data-00000-of-00001', 'apr_g9_dqn_SpaceInvaders-v0_weights_1355000.h5f.index', 'apr_g9_dqn_SpaceInvaders-v0_weights_1357500.h5f.data-00000-of-00001', 'apr_g9_dqn_SpaceInvaders-v0_weights_1357500.h5f.index', 'apr_g9_dqn_SpaceInvaders-v0_weights_1360000.h5f.data-00000-of-00001', 'apr_g9_dqn_SpaceInvaders-v0_weights_1360000.h5f.index', 'apr_g9_dqn_SpaceInvaders-v0_weights_1362500.h5f.data-00000-of-00001', 'apr_g9_dqn_SpaceInvaders-v0_weights_1362500.h5f.index', 'apr_g9_dqn_SpaceInvaders-v0_weights_1365000.h5f.data-00000-of-00001', 'apr_g9_dqn_SpaceInvaders-v0_weights_1365000.h5f.index', 'apr_g9_dqn_SpaceInvaders-v0_weights_1367500.h5f.data-00000-of-00001', 'apr_g9_dqn_SpaceInvaders-v0_weights_1367500.h5f.index', 'apr_g9_dqn_SpaceInvaders-v0_weights_1370000.h5f.data-00000-of-00001', 'apr_g9_dqn_SpaceInvaders-v0_weights_1370000.h5f.index', 'apr_g9_dqn_SpaceInvaders-v0_weights_1372500.h5f.data-00000-of-00001', 'apr_g9_dqn_SpaceInvaders-v0_weights_1372500.h5f.index', 'apr_g9_dqn_SpaceInvaders-v0_weights_137500.h5f.data-00000-of-00001', 'apr_g9_dqn_SpaceInvaders-v0_weights_137500.h5f.index', 'apr_g9_dqn_SpaceInvaders-v0_weights_1375000.h5f.data-00000-of-00001', 'apr_g9_dqn_SpaceInvaders-v0_weights_1375000.h5f.index', 'apr_g9_dqn_SpaceInvaders-v0_weights_1377500.h5f.data-00000-of-00001', 'apr_g9_dqn_SpaceInvaders-v0_weights_1377500.h5f.index', 'apr_g9_dqn_SpaceInvaders-v0_weights_1380000.h5f.data-00000-of-00001', 'apr_g9_dqn_SpaceInvaders-v0_weights_1380000.h5f.index', 'apr_g9_dqn_SpaceInvaders-v0_weights_1382500.h5f.data-00000-of-00001', 'apr_g9_dqn_SpaceInvaders-v0_weights_1382500.h5f.index', 'apr_g9_dqn_SpaceInvaders-v0_weights_1385000.h5f.data-00000-of-00001', 'apr_g9_dqn_SpaceInvaders-v0_weights_1385000.h5f.index', 'apr_g9_dqn_SpaceInvaders-v0_weights_1387500.h5f.data-00000-of-00001', 'apr_g9_dqn_SpaceInvaders-v0_weights_1387500.h5f.index', 'apr_g9_dqn_SpaceInvaders-v0_weights_1390000.h5f.data-00000-of-00001', 'apr_g9_dqn_SpaceInvaders-v0_weights_1390000.h5f.index', 'apr_g9_dqn_SpaceInvaders-v0_weights_1392500.h5f.data-00000-of-00001', 'apr_g9_dqn_SpaceInvaders-v0_weights_1392500.h5f.index', 'apr_g9_dqn_SpaceInvaders-v0_weights_1395000.h5f.data-00000-of-00001', 'apr_g9_dqn_SpaceInvaders-v0_weights_1395000.h5f.index', 'apr_g9_dqn_SpaceInvaders-v0_weights_1397500.h5f.data-00000-of-00001', 'apr_g9_dqn_SpaceInvaders-v0_weights_1397500.h5f.index', 'apr_g9_dqn_SpaceInvaders-v0_weights_140000.h5f.data-00000-of-00001', 'apr_g9_dqn_SpaceInvaders-v0_weights_140000.h5f.index', 'apr_g9_dqn_SpaceInvaders-v0_weights_1400000.h5f.data-00000-of-00001', 'apr_g9_dqn_SpaceInvaders-v0_weights_1400000.h5f.index', 'apr_g9_dqn_SpaceInvaders-v0_weights_1402500.h5f.data-00000-of-00001', 'apr_g9_dqn_SpaceInvaders-v0_weights_1402500.h5f.index', 'apr_g9_dqn_SpaceInvaders-v0_weights_1405000.h5f.data-00000-of-00001', 'apr_g9_dqn_SpaceInvaders-v0_weights_1405000.h5f.index', 'apr_g9_dqn_SpaceInvaders-v0_weights_1407500.h5f.data-00000-of-00001', 'apr_g9_dqn_SpaceInvaders-v0_weights_1407500.h5f.index', 'apr_g9_dqn_SpaceInvaders-v0_weights_1410000.h5f.data-00000-of-00001', 'apr_g9_dqn_SpaceInvaders-v0_weights_1410000.h5f.index', 'apr_g9_dqn_SpaceInvaders-v0_weights_1412500.h5f.data-00000-of-00001', 'apr_g9_dqn_SpaceInvaders-v0_weights_1412500.h5f.index', 'apr_g9_dqn_SpaceInvaders-v0_weights_1415000.h5f.data-00000-of-00001', 'apr_g9_dqn_SpaceInvaders-v0_weights_1415000.h5f.index', 'apr_g9_dqn_SpaceInvaders-v0_weights_1417500.h5f.data-00000-of-00001', 'apr_g9_dqn_SpaceInvaders-v0_weights_1417500.h5f.index', 'apr_g9_dqn_SpaceInvaders-v0_weights_1420000.h5f.data-00000-of-00001', 'apr_g9_dqn_SpaceInvaders-v0_weights_1420000.h5f.index', 'apr_g9_dqn_SpaceInvaders-v0_weights_1422500.h5f.data-00000-of-00001', 'apr_g9_dqn_SpaceInvaders-v0_weights_1422500.h5f.index', 'apr_g9_dqn_SpaceInvaders-v0_weights_142500.h5f.data-00000-of-00001', 'apr_g9_dqn_SpaceInvaders-v0_weights_142500.h5f.index', 'apr_g9_dqn_SpaceInvaders-v0_weights_1425000.h5f.data-00000-of-00001', 'apr_g9_dqn_SpaceInvaders-v0_weights_1425000.h5f.index', 'apr_g9_dqn_SpaceInvaders-v0_weights_1427500.h5f.data-00000-of-00001', 'apr_g9_dqn_SpaceInvaders-v0_weights_1427500.h5f.index', 'apr_g9_dqn_SpaceInvaders-v0_weights_1430000.h5f.data-00000-of-00001', 'apr_g9_dqn_SpaceInvaders-v0_weights_1430000.h5f.index', 'apr_g9_dqn_SpaceInvaders-v0_weights_1432500.h5f.data-00000-of-00001', 'apr_g9_dqn_SpaceInvaders-v0_weights_1432500.h5f.index', 'apr_g9_dqn_SpaceInvaders-v0_weights_1435000.h5f.data-00000-of-00001', 'apr_g9_dqn_SpaceInvaders-v0_weights_1435000.h5f.index', 'apr_g9_dqn_SpaceInvaders-v0_weights_1437500.h5f.data-00000-of-00001', 'apr_g9_dqn_SpaceInvaders-v0_weights_1437500.h5f.index', 'apr_g9_dqn_SpaceInvaders-v0_weights_1440000.h5f.data-00000-of-00001', 'apr_g9_dqn_SpaceInvaders-v0_weights_1440000.h5f.index', 'apr_g9_dqn_SpaceInvaders-v0_weights_1442500.h5f.data-00000-of-00001', 'apr_g9_dqn_SpaceInvaders-v0_weights_1442500.h5f.index', 'apr_g9_dqn_SpaceInvaders-v0_weights_1445000.h5f.data-00000-of-00001', 'apr_g9_dqn_SpaceInvaders-v0_weights_1445000.h5f.index', 'apr_g9_dqn_SpaceInvaders-v0_weights_1447500.h5f.data-00000-of-00001', 'apr_g9_dqn_SpaceInvaders-v0_weights_1447500.h5f.index', 'apr_g9_dqn_SpaceInvaders-v0_weights_145000.h5f.data-00000-of-00001', 'apr_g9_dqn_SpaceInvaders-v0_weights_145000.h5f.index', 'apr_g9_dqn_SpaceInvaders-v0_weights_1450000.h5f.data-00000-of-00001', 'apr_g9_dqn_SpaceInvaders-v0_weights_1450000.h5f.index', 'apr_g9_dqn_SpaceInvaders-v0_weights_1452500.h5f.data-00000-of-00001', 'apr_g9_dqn_SpaceInvaders-v0_weights_1452500.h5f.index', 'apr_g9_dqn_SpaceInvaders-v0_weights_1455000.h5f.data-00000-of-00001', 'apr_g9_dqn_SpaceInvaders-v0_weights_1455000.h5f.index', 'apr_g9_dqn_SpaceInvaders-v0_weights_1457500.h5f.data-00000-of-00001', 'apr_g9_dqn_SpaceInvaders-v0_weights_1457500.h5f.index', 'apr_g9_dqn_SpaceInvaders-v0_weights_1460000.h5f.data-00000-of-00001', 'apr_g9_dqn_SpaceInvaders-v0_weights_1460000.h5f.index', 'apr_g9_dqn_SpaceInvaders-v0_weights_1462500.h5f.data-00000-of-00001', 'apr_g9_dqn_SpaceInvaders-v0_weights_1462500.h5f.index', 'apr_g9_dqn_SpaceInvaders-v0_weights_1465000.h5f.data-00000-of-00001', 'apr_g9_dqn_SpaceInvaders-v0_weights_1465000.h5f.index', 'apr_g9_dqn_SpaceInvaders-v0_weights_1467500.h5f.data-00000-of-00001', 'apr_g9_dqn_SpaceInvaders-v0_weights_1467500.h5f.index', 'apr_g9_dqn_SpaceInvaders-v0_weights_1470000.h5f.data-00000-of-00001', 'apr_g9_dqn_SpaceInvaders-v0_weights_1470000.h5f.index', 'apr_g9_dqn_SpaceInvaders-v0_weights_1472500.h5f.data-00000-of-00001', 'apr_g9_dqn_SpaceInvaders-v0_weights_1472500.h5f.index', 'apr_g9_dqn_SpaceInvaders-v0_weights_147500.h5f.data-00000-of-00001', 'apr_g9_dqn_SpaceInvaders-v0_weights_147500.h5f.index', 'apr_g9_dqn_SpaceInvaders-v0_weights_1475000.h5f.data-00000-of-00001', 'apr_g9_dqn_SpaceInvaders-v0_weights_1475000.h5f.index', 'apr_g9_dqn_SpaceInvaders-v0_weights_1477500.h5f.data-00000-of-00001', 'apr_g9_dqn_SpaceInvaders-v0_weights_1477500.h5f.index', 'apr_g9_dqn_SpaceInvaders-v0_weights_1480000.h5f.data-00000-of-00001', 'apr_g9_dqn_SpaceInvaders-v0_weights_1480000.h5f.index', 'apr_g9_dqn_SpaceInvaders-v0_weights_1482500.h5f.data-00000-of-00001', 'apr_g9_dqn_SpaceInvaders-v0_weights_1482500.h5f.index', 'apr_g9_dqn_SpaceInvaders-v0_weights_1485000.h5f.data-00000-of-00001', 'apr_g9_dqn_SpaceInvaders-v0_weights_1485000.h5f.index', 'apr_g9_dqn_SpaceInvaders-v0_weights_1487500.h5f.data-00000-of-00001', 'apr_g9_dqn_SpaceInvaders-v0_weights_1487500.h5f.index', 'apr_g9_dqn_SpaceInvaders-v0_weights_1490000.h5f.data-00000-of-00001', 'apr_g9_dqn_SpaceInvaders-v0_weights_1490000.h5f.index', 'apr_g9_dqn_SpaceInvaders-v0_weights_1492500.h5f.data-00000-of-00001', 'apr_g9_dqn_SpaceInvaders-v0_weights_1492500.h5f.index', 'apr_g9_dqn_SpaceInvaders-v0_weights_1495000.h5f.data-00000-of-00001', 'apr_g9_dqn_SpaceInvaders-v0_weights_1495000.h5f.index', 'apr_g9_dqn_SpaceInvaders-v0_weights_1497500.h5f.data-00000-of-00001', 'apr_g9_dqn_SpaceInvaders-v0_weights_1497500.h5f.index', 'apr_g9_dqn_SpaceInvaders-v0_weights_15000.h5f.data-00000-of-00001', 'apr_g9_dqn_SpaceInvaders-v0_weights_15000.h5f.index', 'apr_g9_dqn_SpaceInvaders-v0_weights_150000.h5f.data-00000-of-00001', 'apr_g9_dqn_SpaceInvaders-v0_weights_150000.h5f.index', 'apr_g9_dqn_SpaceInvaders-v0_weights_1500000.h5f.data-00000-of-00001', 'apr_g9_dqn_SpaceInvaders-v0_weights_1500000.h5f.index', 'apr_g9_dqn_SpaceInvaders-v0_weights_1502500.h5f.data-00000-of-00001', 'apr_g9_dqn_SpaceInvaders-v0_weights_1502500.h5f.index', 'apr_g9_dqn_SpaceInvaders-v0_weights_1505000.h5f.data-00000-of-00001', 'apr_g9_dqn_SpaceInvaders-v0_weights_1505000.h5f.index', 'apr_g9_dqn_SpaceInvaders-v0_weights_1507500.h5f.data-00000-of-00001', 'apr_g9_dqn_SpaceInvaders-v0_weights_1507500.h5f.index', 'apr_g9_dqn_SpaceInvaders-v0_weights_1510000.h5f.data-00000-of-00001', 'apr_g9_dqn_SpaceInvaders-v0_weights_1510000.h5f.index', 'apr_g9_dqn_SpaceInvaders-v0_weights_1512500.h5f.data-00000-of-00001', 'apr_g9_dqn_SpaceInvaders-v0_weights_1512500.h5f.index', 'apr_g9_dqn_SpaceInvaders-v0_weights_1515000.h5f.data-00000-of-00001', 'apr_g9_dqn_SpaceInvaders-v0_weights_1515000.h5f.index', 'apr_g9_dqn_SpaceInvaders-v0_weights_1517500.h5f.data-00000-of-00001', 'apr_g9_dqn_SpaceInvaders-v0_weights_1517500.h5f.index', 'apr_g9_dqn_SpaceInvaders-v0_weights_1520000.h5f.data-00000-of-00001', 'apr_g9_dqn_SpaceInvaders-v0_weights_1520000.h5f.index', 'apr_g9_dqn_SpaceInvaders-v0_weights_1522500.h5f.data-00000-of-00001', 'apr_g9_dqn_SpaceInvaders-v0_weights_1522500.h5f.index', 'apr_g9_dqn_SpaceInvaders-v0_weights_152500.h5f.data-00000-of-00001', 'apr_g9_dqn_SpaceInvaders-v0_weights_152500.h5f.index', 'apr_g9_dqn_SpaceInvaders-v0_weights_1525000.h5f.data-00000-of-00001', 'apr_g9_dqn_SpaceInvaders-v0_weights_1525000.h5f.index', 'apr_g9_dqn_SpaceInvaders-v0_weights_1527500.h5f.data-00000-of-00001', 'apr_g9_dqn_SpaceInvaders-v0_weights_1527500.h5f.index', 'apr_g9_dqn_SpaceInvaders-v0_weights_1530000.h5f.data-00000-of-00001', 'apr_g9_dqn_SpaceInvaders-v0_weights_1530000.h5f.index', 'apr_g9_dqn_SpaceInvaders-v0_weights_1532500.h5f.data-00000-of-00001', 'apr_g9_dqn_SpaceInvaders-v0_weights_1532500.h5f.index', 'apr_g9_dqn_SpaceInvaders-v0_weights_1535000.h5f.data-00000-of-00001', 'apr_g9_dqn_SpaceInvaders-v0_weights_1535000.h5f.index', 'apr_g9_dqn_SpaceInvaders-v0_weights_1537500.h5f.data-00000-of-00001', 'apr_g9_dqn_SpaceInvaders-v0_weights_1537500.h5f.index', 'apr_g9_dqn_SpaceInvaders-v0_weights_1540000.h5f.data-00000-of-00001', 'apr_g9_dqn_SpaceInvaders-v0_weights_1540000.h5f.index', 'apr_g9_dqn_SpaceInvaders-v0_weights_1542500.h5f.data-00000-of-00001', 'apr_g9_dqn_SpaceInvaders-v0_weights_1542500.h5f.index', 'apr_g9_dqn_SpaceInvaders-v0_weights_1545000.h5f.data-00000-of-00001', 'apr_g9_dqn_SpaceInvaders-v0_weights_1545000.h5f.index', 'apr_g9_dqn_SpaceInvaders-v0_weights_1547500.h5f.data-00000-of-00001', 'apr_g9_dqn_SpaceInvaders-v0_weights_1547500.h5f.index', 'apr_g9_dqn_SpaceInvaders-v0_weights_155000.h5f.data-00000-of-00001', 'apr_g9_dqn_SpaceInvaders-v0_weights_155000.h5f.index', 'apr_g9_dqn_SpaceInvaders-v0_weights_1550000.h5f.data-00000-of-00001', 'apr_g9_dqn_SpaceInvaders-v0_weights_1550000.h5f.index', 'apr_g9_dqn_SpaceInvaders-v0_weights_1552500.h5f.data-00000-of-00001', 'apr_g9_dqn_SpaceInvaders-v0_weights_1552500.h5f.index', 'apr_g9_dqn_SpaceInvaders-v0_weights_1555000.h5f.data-00000-of-00001', 'apr_g9_dqn_SpaceInvaders-v0_weights_1555000.h5f.index', 'apr_g9_dqn_SpaceInvaders-v0_weights_1557500.h5f.data-00000-of-00001', 'apr_g9_dqn_SpaceInvaders-v0_weights_1557500.h5f.index', 'apr_g9_dqn_SpaceInvaders-v0_weights_1560000.h5f.data-00000-of-00001', 'apr_g9_dqn_SpaceInvaders-v0_weights_1560000.h5f.index', 'apr_g9_dqn_SpaceInvaders-v0_weights_1562500.h5f.data-00000-of-00001', 'apr_g9_dqn_SpaceInvaders-v0_weights_1562500.h5f.index', 'apr_g9_dqn_SpaceInvaders-v0_weights_1565000.h5f.data-00000-of-00001', 'apr_g9_dqn_SpaceInvaders-v0_weights_1565000.h5f.index', 'apr_g9_dqn_SpaceInvaders-v0_weights_1567500.h5f.data-00000-of-00001', 'apr_g9_dqn_SpaceInvaders-v0_weights_1567500.h5f.index', 'apr_g9_dqn_SpaceInvaders-v0_weights_1570000.h5f.data-00000-of-00001', 'apr_g9_dqn_SpaceInvaders-v0_weights_1570000.h5f.index', 'apr_g9_dqn_SpaceInvaders-v0_weights_1572500.h5f.data-00000-of-00001', 'apr_g9_dqn_SpaceInvaders-v0_weights_1572500.h5f.index', 'apr_g9_dqn_SpaceInvaders-v0_weights_157500.h5f.data-00000-of-00001', 'apr_g9_dqn_SpaceInvaders-v0_weights_157500.h5f.index', 'apr_g9_dqn_SpaceInvaders-v0_weights_1575000.h5f.data-00000-of-00001', 'apr_g9_dqn_SpaceInvaders-v0_weights_1575000.h5f.index', 'apr_g9_dqn_SpaceInvaders-v0_weights_1577500.h5f.data-00000-of-00001', 'apr_g9_dqn_SpaceInvaders-v0_weights_1577500.h5f.index', 'apr_g9_dqn_SpaceInvaders-v0_weights_1580000.h5f.data-00000-of-00001', 'apr_g9_dqn_SpaceInvaders-v0_weights_1580000.h5f.index', 'apr_g9_dqn_SpaceInvaders-v0_weights_1582500.h5f.data-00000-of-00001', 'apr_g9_dqn_SpaceInvaders-v0_weights_1582500.h5f.index', 'apr_g9_dqn_SpaceInvaders-v0_weights_1585000.h5f.data-00000-of-00001', 'apr_g9_dqn_SpaceInvaders-v0_weights_1585000.h5f.index', 'apr_g9_dqn_SpaceInvaders-v0_weights_1587500.h5f.data-00000-of-00001', 'apr_g9_dqn_SpaceInvaders-v0_weights_1587500.h5f.index', 'apr_g9_dqn_SpaceInvaders-v0_weights_1590000.h5f.data-00000-of-00001', 'apr_g9_dqn_SpaceInvaders-v0_weights_1590000.h5f.index', 'apr_g9_dqn_SpaceInvaders-v0_weights_1592500.h5f.data-00000-of-00001', 'apr_g9_dqn_SpaceInvaders-v0_weights_1592500.h5f.index', 'apr_g9_dqn_SpaceInvaders-v0_weights_1595000.h5f.data-00000-of-00001', 'apr_g9_dqn_SpaceInvaders-v0_weights_1595000.h5f.index', 'apr_g9_dqn_SpaceInvaders-v0_weights_1597500.h5f.data-00000-of-00001', 'apr_g9_dqn_SpaceInvaders-v0_weights_1597500.h5f.index', 'apr_g9_dqn_SpaceInvaders-v0_weights_160000.h5f.data-00000-of-00001', 'apr_g9_dqn_SpaceInvaders-v0_weights_160000.h5f.index', 'apr_g9_dqn_SpaceInvaders-v0_weights_1600000.h5f.data-00000-of-00001', 'apr_g9_dqn_SpaceInvaders-v0_weights_1600000.h5f.index', 'apr_g9_dqn_SpaceInvaders-v0_weights_1602500.h5f.data-00000-of-00001', 'apr_g9_dqn_SpaceInvaders-v0_weights_1602500.h5f.index', 'apr_g9_dqn_SpaceInvaders-v0_weights_1605000.h5f.data-00000-of-00001', 'apr_g9_dqn_SpaceInvaders-v0_weights_1605000.h5f.index', 'apr_g9_dqn_SpaceInvaders-v0_weights_1607500.h5f.data-00000-of-00001', 'apr_g9_dqn_SpaceInvaders-v0_weights_1607500.h5f.index', 'apr_g9_dqn_SpaceInvaders-v0_weights_1610000.h5f.data-00000-of-00001', 'apr_g9_dqn_SpaceInvaders-v0_weights_1610000.h5f.index', 'apr_g9_dqn_SpaceInvaders-v0_weights_1612500.h5f.data-00000-of-00001', 'apr_g9_dqn_SpaceInvaders-v0_weights_1612500.h5f.index', 'apr_g9_dqn_SpaceInvaders-v0_weights_1615000.h5f.data-00000-of-00001', 'apr_g9_dqn_SpaceInvaders-v0_weights_1615000.h5f.index', 'apr_g9_dqn_SpaceInvaders-v0_weights_1617500.h5f.data-00000-of-00001', 'apr_g9_dqn_SpaceInvaders-v0_weights_1617500.h5f.index', 'apr_g9_dqn_SpaceInvaders-v0_weights_1620000.h5f.data-00000-of-00001', 'apr_g9_dqn_SpaceInvaders-v0_weights_1620000.h5f.index', 'apr_g9_dqn_SpaceInvaders-v0_weights_1622500.h5f.data-00000-of-00001', 'apr_g9_dqn_SpaceInvaders-v0_weights_1622500.h5f.index', 'apr_g9_dqn_SpaceInvaders-v0_weights_162500.h5f.data-00000-of-00001', 'apr_g9_dqn_SpaceInvaders-v0_weights_162500.h5f.index', 'apr_g9_dqn_SpaceInvaders-v0_weights_1625000.h5f.data-00000-of-00001', 'apr_g9_dqn_SpaceInvaders-v0_weights_1625000.h5f.index', 'apr_g9_dqn_SpaceInvaders-v0_weights_1627500.h5f.data-00000-of-00001', 'apr_g9_dqn_SpaceInvaders-v0_weights_1627500.h5f.index', 'apr_g9_dqn_SpaceInvaders-v0_weights_1630000.h5f.data-00000-of-00001', 'apr_g9_dqn_SpaceInvaders-v0_weights_1630000.h5f.index', 'apr_g9_dqn_SpaceInvaders-v0_weights_1632500.h5f.data-00000-of-00001', 'apr_g9_dqn_SpaceInvaders-v0_weights_1632500.h5f.index', 'apr_g9_dqn_SpaceInvaders-v0_weights_1635000.h5f.data-00000-of-00001', 'apr_g9_dqn_SpaceInvaders-v0_weights_1635000.h5f.index', 'apr_g9_dqn_SpaceInvaders-v0_weights_1637500.h5f.data-00000-of-00001', 'apr_g9_dqn_SpaceInvaders-v0_weights_1637500.h5f.index', 'apr_g9_dqn_SpaceInvaders-v0_weights_1640000.h5f.data-00000-of-00001', 'apr_g9_dqn_SpaceInvaders-v0_weights_1640000.h5f.index', 'apr_g9_dqn_SpaceInvaders-v0_weights_1642500.h5f.data-00000-of-00001', 'apr_g9_dqn_SpaceInvaders-v0_weights_1642500.h5f.index', 'apr_g9_dqn_SpaceInvaders-v0_weights_1645000.h5f.data-00000-of-00001', 'apr_g9_dqn_SpaceInvaders-v0_weights_1645000.h5f.index', 'apr_g9_dqn_SpaceInvaders-v0_weights_1647500.h5f.data-00000-of-00001', 'apr_g9_dqn_SpaceInvaders-v0_weights_1647500.h5f.index', 'apr_g9_dqn_SpaceInvaders-v0_weights_165000.h5f.data-00000-of-00001', 'apr_g9_dqn_SpaceInvaders-v0_weights_165000.h5f.index', 'apr_g9_dqn_SpaceInvaders-v0_weights_1650000.h5f.data-00000-of-00001', 'apr_g9_dqn_SpaceInvaders-v0_weights_1650000.h5f.index', 'apr_g9_dqn_SpaceInvaders-v0_weights_1652500.h5f.data-00000-of-00001', 'apr_g9_dqn_SpaceInvaders-v0_weights_1652500.h5f.index', 'apr_g9_dqn_SpaceInvaders-v0_weights_1655000.h5f.data-00000-of-00001', 'apr_g9_dqn_SpaceInvaders-v0_weights_1655000.h5f.index', 'apr_g9_dqn_SpaceInvaders-v0_weights_1657500.h5f.data-00000-of-00001', 'apr_g9_dqn_SpaceInvaders-v0_weights_1657500.h5f.index', 'apr_g9_dqn_SpaceInvaders-v0_weights_1660000.h5f.data-00000-of-00001', 'apr_g9_dqn_SpaceInvaders-v0_weights_1660000.h5f.index', 'apr_g9_dqn_SpaceInvaders-v0_weights_1662500.h5f.data-00000-of-00001', 'apr_g9_dqn_SpaceInvaders-v0_weights_1662500.h5f.index', 'apr_g9_dqn_SpaceInvaders-v0_weights_1665000.h5f.data-00000-of-00001', 'apr_g9_dqn_SpaceInvaders-v0_weights_1665000.h5f.index', 'apr_g9_dqn_SpaceInvaders-v0_weights_1667500.h5f.data-00000-of-00001', 'apr_g9_dqn_SpaceInvaders-v0_weights_1667500.h5f.index', 'apr_g9_dqn_SpaceInvaders-v0_weights_1670000.h5f.data-00000-of-00001', 'apr_g9_dqn_SpaceInvaders-v0_weights_1670000.h5f.index', 'apr_g9_dqn_SpaceInvaders-v0_weights_1672500.h5f.data-00000-of-00001', 'apr_g9_dqn_SpaceInvaders-v0_weights_1672500.h5f.index', 'apr_g9_dqn_SpaceInvaders-v0_weights_167500.h5f.data-00000-of-00001', 'apr_g9_dqn_SpaceInvaders-v0_weights_167500.h5f.index', 'apr_g9_dqn_SpaceInvaders-v0_weights_1675000.h5f.data-00000-of-00001', 'apr_g9_dqn_SpaceInvaders-v0_weights_1675000.h5f.index', 'apr_g9_dqn_SpaceInvaders-v0_weights_1677500.h5f.data-00000-of-00001', 'apr_g9_dqn_SpaceInvaders-v0_weights_1677500.h5f.index', 'apr_g9_dqn_SpaceInvaders-v0_weights_1680000.h5f.data-00000-of-00001', 'apr_g9_dqn_SpaceInvaders-v0_weights_1680000.h5f.index', 'apr_g9_dqn_SpaceInvaders-v0_weights_1682500.h5f.data-00000-of-00001', 'apr_g9_dqn_SpaceInvaders-v0_weights_1682500.h5f.index', 'apr_g9_dqn_SpaceInvaders-v0_weights_1685000.h5f.data-00000-of-00001', 'apr_g9_dqn_SpaceInvaders-v0_weights_1685000.h5f.index', 'apr_g9_dqn_SpaceInvaders-v0_weights_1687500.h5f.data-00000-of-00001', 'apr_g9_dqn_SpaceInvaders-v0_weights_1687500.h5f.index', 'apr_g9_dqn_SpaceInvaders-v0_weights_1690000.h5f.data-00000-of-00001', 'apr_g9_dqn_SpaceInvaders-v0_weights_1690000.h5f.index', 'apr_g9_dqn_SpaceInvaders-v0_weights_1692500.h5f.data-00000-of-00001', 'apr_g9_dqn_SpaceInvaders-v0_weights_1692500.h5f.index', 'apr_g9_dqn_SpaceInvaders-v0_weights_1695000.h5f.data-00000-of-00001', 'apr_g9_dqn_SpaceInvaders-v0_weights_1695000.h5f.index', 'apr_g9_dqn_SpaceInvaders-v0_weights_1697500.h5f.data-00000-of-00001', 'apr_g9_dqn_SpaceInvaders-v0_weights_1697500.h5f.index', 'apr_g9_dqn_SpaceInvaders-v0_weights_170000.h5f.data-00000-of-00001', 'apr_g9_dqn_SpaceInvaders-v0_weights_170000.h5f.index', 'apr_g9_dqn_SpaceInvaders-v0_weights_1700000.h5f.data-00000-of-00001', 'apr_g9_dqn_SpaceInvaders-v0_weights_1700000.h5f.index', 'apr_g9_dqn_SpaceInvaders-v0_weights_1702500.h5f.data-00000-of-00001', 'apr_g9_dqn_SpaceInvaders-v0_weights_1702500.h5f.index', 'apr_g9_dqn_SpaceInvaders-v0_weights_1705000.h5f.data-00000-of-00001', 'apr_g9_dqn_SpaceInvaders-v0_weights_1705000.h5f.index', 'apr_g9_dqn_SpaceInvaders-v0_weights_1707500.h5f.data-00000-of-00001', 'apr_g9_dqn_SpaceInvaders-v0_weights_1707500.h5f.index', 'apr_g9_dqn_SpaceInvaders-v0_weights_1710000.h5f.data-00000-of-00001', 'apr_g9_dqn_SpaceInvaders-v0_weights_1710000.h5f.index', 'apr_g9_dqn_SpaceInvaders-v0_weights_1712500.h5f.data-00000-of-00001', 'apr_g9_dqn_SpaceInvaders-v0_weights_1712500.h5f.index', 'apr_g9_dqn_SpaceInvaders-v0_weights_1715000.h5f.data-00000-of-00001', 'apr_g9_dqn_SpaceInvaders-v0_weights_1715000.h5f.index', 'apr_g9_dqn_SpaceInvaders-v0_weights_1717500.h5f.data-00000-of-00001', 'apr_g9_dqn_SpaceInvaders-v0_weights_1717500.h5f.index', 'apr_g9_dqn_SpaceInvaders-v0_weights_1720000.h5f.data-00000-of-00001', 'apr_g9_dqn_SpaceInvaders-v0_weights_1720000.h5f.index', 'apr_g9_dqn_SpaceInvaders-v0_weights_1722500.h5f.data-00000-of-00001', 'apr_g9_dqn_SpaceInvaders-v0_weights_1722500.h5f.index', 'apr_g9_dqn_SpaceInvaders-v0_weights_172500.h5f.data-00000-of-00001', 'apr_g9_dqn_SpaceInvaders-v0_weights_172500.h5f.index', 'apr_g9_dqn_SpaceInvaders-v0_weights_1725000.h5f.data-00000-of-00001', 'apr_g9_dqn_SpaceInvaders-v0_weights_1725000.h5f.index', 'apr_g9_dqn_SpaceInvaders-v0_weights_1727500.h5f.data-00000-of-00001', 'apr_g9_dqn_SpaceInvaders-v0_weights_1727500.h5f.index', 'apr_g9_dqn_SpaceInvaders-v0_weights_1730000.h5f.data-00000-of-00001', 'apr_g9_dqn_SpaceInvaders-v0_weights_1730000.h5f.index', 'apr_g9_dqn_SpaceInvaders-v0_weights_1732500.h5f.data-00000-of-00001', 'apr_g9_dqn_SpaceInvaders-v0_weights_1732500.h5f.index', 'apr_g9_dqn_SpaceInvaders-v0_weights_1735000.h5f.data-00000-of-00001', 'apr_g9_dqn_SpaceInvaders-v0_weights_1735000.h5f.index', 'apr_g9_dqn_SpaceInvaders-v0_weights_1737500.h5f.data-00000-of-00001', 'apr_g9_dqn_SpaceInvaders-v0_weights_1737500.h5f.index', 'apr_g9_dqn_SpaceInvaders-v0_weights_1740000.h5f.data-00000-of-00001', 'apr_g9_dqn_SpaceInvaders-v0_weights_1740000.h5f.index', 'apr_g9_dqn_SpaceInvaders-v0_weights_1742500.h5f.data-00000-of-00001', 'apr_g9_dqn_SpaceInvaders-v0_weights_1742500.h5f.index', 'apr_g9_dqn_SpaceInvaders-v0_weights_1745000.h5f.data-00000-of-00001', 'apr_g9_dqn_SpaceInvaders-v0_weights_1745000.h5f.index', 'apr_g9_dqn_SpaceInvaders-v0_weights_1747500.h5f.data-00000-of-00001', 'apr_g9_dqn_SpaceInvaders-v0_weights_1747500.h5f.index', 'apr_g9_dqn_SpaceInvaders-v0_weights_17500.h5f.data-00000-of-00001', 'apr_g9_dqn_SpaceInvaders-v0_weights_17500.h5f.index', 'apr_g9_dqn_SpaceInvaders-v0_weights_175000.h5f.data-00000-of-00001', 'apr_g9_dqn_SpaceInvaders-v0_weights_175000.h5f.index', 'apr_g9_dqn_SpaceInvaders-v0_weights_1750000.h5f.data-00000-of-00001', 'apr_g9_dqn_SpaceInvaders-v0_weights_1750000.h5f.index', 'apr_g9_dqn_SpaceInvaders-v0_weights_1752500.h5f.data-00000-of-00001', 'apr_g9_dqn_SpaceInvaders-v0_weights_1752500.h5f.index', 'apr_g9_dqn_SpaceInvaders-v0_weights_1755000.h5f.data-00000-of-00001', 'apr_g9_dqn_SpaceInvaders-v0_weights_1755000.h5f.index', 'apr_g9_dqn_SpaceInvaders-v0_weights_1757500.h5f.data-00000-of-00001', 'apr_g9_dqn_SpaceInvaders-v0_weights_1757500.h5f.index', 'apr_g9_dqn_SpaceInvaders-v0_weights_1760000.h5f.data-00000-of-00001', 'apr_g9_dqn_SpaceInvaders-v0_weights_1760000.h5f.index', 'apr_g9_dqn_SpaceInvaders-v0_weights_1762500.h5f.data-00000-of-00001', 'apr_g9_dqn_SpaceInvaders-v0_weights_1762500.h5f.index', 'apr_g9_dqn_SpaceInvaders-v0_weights_1765000.h5f.data-00000-of-00001', 'apr_g9_dqn_SpaceInvaders-v0_weights_1765000.h5f.index', 'apr_g9_dqn_SpaceInvaders-v0_weights_1767500.h5f.data-00000-of-00001', 'apr_g9_dqn_SpaceInvaders-v0_weights_1767500.h5f.index', 'apr_g9_dqn_SpaceInvaders-v0_weights_1770000.h5f.data-00000-of-00001', 'apr_g9_dqn_SpaceInvaders-v0_weights_1770000.h5f.index', 'apr_g9_dqn_SpaceInvaders-v0_weights_1772500.h5f.data-00000-of-00001', 'apr_g9_dqn_SpaceInvaders-v0_weights_1772500.h5f.index', 'apr_g9_dqn_SpaceInvaders-v0_weights_177500.h5f.data-00000-of-00001', 'apr_g9_dqn_SpaceInvaders-v0_weights_177500.h5f.index', 'apr_g9_dqn_SpaceInvaders-v0_weights_1775000.h5f.data-00000-of-00001', 'apr_g9_dqn_SpaceInvaders-v0_weights_1775000.h5f.index', 'apr_g9_dqn_SpaceInvaders-v0_weights_1777500.h5f.data-00000-of-00001', 'apr_g9_dqn_SpaceInvaders-v0_weights_1777500.h5f.index', 'apr_g9_dqn_SpaceInvaders-v0_weights_1780000.h5f.data-00000-of-00001', 'apr_g9_dqn_SpaceInvaders-v0_weights_1780000.h5f.index', 'apr_g9_dqn_SpaceInvaders-v0_weights_1782500.h5f.data-00000-of-00001', 'apr_g9_dqn_SpaceInvaders-v0_weights_1782500.h5f.index', 'apr_g9_dqn_SpaceInvaders-v0_weights_1785000.h5f.data-00000-of-00001', 'apr_g9_dqn_SpaceInvaders-v0_weights_1785000.h5f.index', 'apr_g9_dqn_SpaceInvaders-v0_weights_1787500.h5f.data-00000-of-00001', 'apr_g9_dqn_SpaceInvaders-v0_weights_1787500.h5f.index', 'apr_g9_dqn_SpaceInvaders-v0_weights_1790000.h5f.data-00000-of-00001', 'apr_g9_dqn_SpaceInvaders-v0_weights_1790000.h5f.index', 'apr_g9_dqn_SpaceInvaders-v0_weights_1792500.h5f.data-00000-of-00001', 'apr_g9_dqn_SpaceInvaders-v0_weights_1792500.h5f.index', 'apr_g9_dqn_SpaceInvaders-v0_weights_1795000.h5f.data-00000-of-00001', 'apr_g9_dqn_SpaceInvaders-v0_weights_1795000.h5f.index', 'apr_g9_dqn_SpaceInvaders-v0_weights_1797500.h5f.data-00000-of-00001', 'apr_g9_dqn_SpaceInvaders-v0_weights_1797500.h5f.index', 'apr_g9_dqn_SpaceInvaders-v0_weights_180000.h5f.data-00000-of-00001', 'apr_g9_dqn_SpaceInvaders-v0_weights_180000.h5f.index', 'apr_g9_dqn_SpaceInvaders-v0_weights_1800000.h5f.data-00000-of-00001', 'apr_g9_dqn_SpaceInvaders-v0_weights_1800000.h5f.index', 'apr_g9_dqn_SpaceInvaders-v0_weights_1802500.h5f.data-00000-of-00001', 'apr_g9_dqn_SpaceInvaders-v0_weights_1802500.h5f.index', 'apr_g9_dqn_SpaceInvaders-v0_weights_1805000.h5f.data-00000-of-00001', 'apr_g9_dqn_SpaceInvaders-v0_weights_1805000.h5f.index', 'apr_g9_dqn_SpaceInvaders-v0_weights_1807500.h5f.data-00000-of-00001', 'apr_g9_dqn_SpaceInvaders-v0_weights_1807500.h5f.index', 'apr_g9_dqn_SpaceInvaders-v0_weights_1810000.h5f.data-00000-of-00001', 'apr_g9_dqn_SpaceInvaders-v0_weights_1810000.h5f.index', 'apr_g9_dqn_SpaceInvaders-v0_weights_1812500.h5f.data-00000-of-00001', 'apr_g9_dqn_SpaceInvaders-v0_weights_1812500.h5f.index', 'apr_g9_dqn_SpaceInvaders-v0_weights_1815000.h5f.data-00000-of-00001', 'apr_g9_dqn_SpaceInvaders-v0_weights_1815000.h5f.index', 'apr_g9_dqn_SpaceInvaders-v0_weights_1817500.h5f.data-00000-of-00001', 'apr_g9_dqn_SpaceInvaders-v0_weights_1817500.h5f.index', 'apr_g9_dqn_SpaceInvaders-v0_weights_1820000.h5f.data-00000-of-00001', 'apr_g9_dqn_SpaceInvaders-v0_weights_1820000.h5f.index', 'apr_g9_dqn_SpaceInvaders-v0_weights_1822500.h5f.data-00000-of-00001', 'apr_g9_dqn_SpaceInvaders-v0_weights_1822500.h5f.index', 'apr_g9_dqn_SpaceInvaders-v0_weights_182500.h5f.data-00000-of-00001', 'apr_g9_dqn_SpaceInvaders-v0_weights_182500.h5f.index', 'apr_g9_dqn_SpaceInvaders-v0_weights_1825000.h5f.data-00000-of-00001', 'apr_g9_dqn_SpaceInvaders-v0_weights_1825000.h5f.index', 'apr_g9_dqn_SpaceInvaders-v0_weights_1827500.h5f.data-00000-of-00001', 'apr_g9_dqn_SpaceInvaders-v0_weights_1827500.h5f.index', 'apr_g9_dqn_SpaceInvaders-v0_weights_1830000.h5f.data-00000-of-00001', 'apr_g9_dqn_SpaceInvaders-v0_weights_1830000.h5f.index', 'apr_g9_dqn_SpaceInvaders-v0_weights_1832500.h5f.data-00000-of-00001', 'apr_g9_dqn_SpaceInvaders-v0_weights_1832500.h5f.index', 'apr_g9_dqn_SpaceInvaders-v0_weights_1835000.h5f.data-00000-of-00001', 'apr_g9_dqn_SpaceInvaders-v0_weights_1835000.h5f.index', 'apr_g9_dqn_SpaceInvaders-v0_weights_1837500.h5f.data-00000-of-00001', 'apr_g9_dqn_SpaceInvaders-v0_weights_1837500.h5f.index', 'apr_g9_dqn_SpaceInvaders-v0_weights_1840000.h5f.data-00000-of-00001', 'apr_g9_dqn_SpaceInvaders-v0_weights_1840000.h5f.index', 'apr_g9_dqn_SpaceInvaders-v0_weights_1842500.h5f.data-00000-of-00001', 'apr_g9_dqn_SpaceInvaders-v0_weights_1842500.h5f.index', 'apr_g9_dqn_SpaceInvaders-v0_weights_1845000.h5f.data-00000-of-00001', 'apr_g9_dqn_SpaceInvaders-v0_weights_1845000.h5f.index', 'apr_g9_dqn_SpaceInvaders-v0_weights_1847500.h5f.data-00000-of-00001', 'apr_g9_dqn_SpaceInvaders-v0_weights_1847500.h5f.index', 'apr_g9_dqn_SpaceInvaders-v0_weights_185000.h5f.data-00000-of-00001', 'apr_g9_dqn_SpaceInvaders-v0_weights_185000.h5f.index', 'apr_g9_dqn_SpaceInvaders-v0_weights_1850000.h5f.data-00000-of-00001', 'apr_g9_dqn_SpaceInvaders-v0_weights_1850000.h5f.index', 'apr_g9_dqn_SpaceInvaders-v0_weights_1852500.h5f.data-00000-of-00001', 'apr_g9_dqn_SpaceInvaders-v0_weights_1852500.h5f.index', 'apr_g9_dqn_SpaceInvaders-v0_weights_1855000.h5f.data-00000-of-00001', 'apr_g9_dqn_SpaceInvaders-v0_weights_1855000.h5f.index', 'apr_g9_dqn_SpaceInvaders-v0_weights_1857500.h5f.data-00000-of-00001', 'apr_g9_dqn_SpaceInvaders-v0_weights_1857500.h5f.index', 'apr_g9_dqn_SpaceInvaders-v0_weights_1860000.h5f.data-00000-of-00001', 'apr_g9_dqn_SpaceInvaders-v0_weights_1860000.h5f.index', 'apr_g9_dqn_SpaceInvaders-v0_weights_1862500.h5f.data-00000-of-00001', 'apr_g9_dqn_SpaceInvaders-v0_weights_1862500.h5f.index', 'apr_g9_dqn_SpaceInvaders-v0_weights_1865000.h5f.data-00000-of-00001', 'apr_g9_dqn_SpaceInvaders-v0_weights_1865000.h5f.index', 'apr_g9_dqn_SpaceInvaders-v0_weights_1867500.h5f.data-00000-of-00001', 'apr_g9_dqn_SpaceInvaders-v0_weights_1867500.h5f.index', 'apr_g9_dqn_SpaceInvaders-v0_weights_1870000.h5f.data-00000-of-00001', 'apr_g9_dqn_SpaceInvaders-v0_weights_1870000.h5f.index', 'apr_g9_dqn_SpaceInvaders-v0_weights_1872500.h5f.data-00000-of-00001', 'apr_g9_dqn_SpaceInvaders-v0_weights_1872500.h5f.index', 'apr_g9_dqn_SpaceInvaders-v0_weights_187500.h5f.data-00000-of-00001', 'apr_g9_dqn_SpaceInvaders-v0_weights_187500.h5f.index', 'apr_g9_dqn_SpaceInvaders-v0_weights_1875000.h5f.data-00000-of-00001', 'apr_g9_dqn_SpaceInvaders-v0_weights_1875000.h5f.index', 'apr_g9_dqn_SpaceInvaders-v0_weights_1877500.h5f.data-00000-of-00001', 'apr_g9_dqn_SpaceInvaders-v0_weights_1877500.h5f.index', 'apr_g9_dqn_SpaceInvaders-v0_weights_1880000.h5f.data-00000-of-00001', 'apr_g9_dqn_SpaceInvaders-v0_weights_1880000.h5f.index', 'apr_g9_dqn_SpaceInvaders-v0_weights_1882500.h5f.data-00000-of-00001', 'apr_g9_dqn_SpaceInvaders-v0_weights_1882500.h5f.index', 'apr_g9_dqn_SpaceInvaders-v0_weights_1885000.h5f.data-00000-of-00001', 'apr_g9_dqn_SpaceInvaders-v0_weights_1885000.h5f.index', 'apr_g9_dqn_SpaceInvaders-v0_weights_1887500.h5f.data-00000-of-00001', 'apr_g9_dqn_SpaceInvaders-v0_weights_1887500.h5f.index', 'apr_g9_dqn_SpaceInvaders-v0_weights_1890000.h5f.data-00000-of-00001', 'apr_g9_dqn_SpaceInvaders-v0_weights_1890000.h5f.index', 'apr_g9_dqn_SpaceInvaders-v0_weights_1892500.h5f.data-00000-of-00001', 'apr_g9_dqn_SpaceInvaders-v0_weights_1892500.h5f.index', 'apr_g9_dqn_SpaceInvaders-v0_weights_1895000.h5f.data-00000-of-00001', 'apr_g9_dqn_SpaceInvaders-v0_weights_1895000.h5f.index', 'apr_g9_dqn_SpaceInvaders-v0_weights_1897500.h5f.data-00000-of-00001', 'apr_g9_dqn_SpaceInvaders-v0_weights_1897500.h5f.index', 'apr_g9_dqn_SpaceInvaders-v0_weights_190000.h5f.data-00000-of-00001', 'apr_g9_dqn_SpaceInvaders-v0_weights_190000.h5f.index', 'apr_g9_dqn_SpaceInvaders-v0_weights_1900000.h5f.data-00000-of-00001', 'apr_g9_dqn_SpaceInvaders-v0_weights_1900000.h5f.index', 'apr_g9_dqn_SpaceInvaders-v0_weights_1902500.h5f.data-00000-of-00001', 'apr_g9_dqn_SpaceInvaders-v0_weights_1902500.h5f.index', 'apr_g9_dqn_SpaceInvaders-v0_weights_1905000.h5f.data-00000-of-00001', 'apr_g9_dqn_SpaceInvaders-v0_weights_1905000.h5f.index', 'apr_g9_dqn_SpaceInvaders-v0_weights_1907500.h5f.data-00000-of-00001', 'apr_g9_dqn_SpaceInvaders-v0_weights_1907500.h5f.index', 'apr_g9_dqn_SpaceInvaders-v0_weights_1910000.h5f.data-00000-of-00001', 'apr_g9_dqn_SpaceInvaders-v0_weights_1910000.h5f.index', 'apr_g9_dqn_SpaceInvaders-v0_weights_1912500.h5f.data-00000-of-00001', 'apr_g9_dqn_SpaceInvaders-v0_weights_1912500.h5f.index', 'apr_g9_dqn_SpaceInvaders-v0_weights_1915000.h5f.data-00000-of-00001', 'apr_g9_dqn_SpaceInvaders-v0_weights_1915000.h5f.index', 'apr_g9_dqn_SpaceInvaders-v0_weights_1917500.h5f.data-00000-of-00001', 'apr_g9_dqn_SpaceInvaders-v0_weights_1917500.h5f.index', 'apr_g9_dqn_SpaceInvaders-v0_weights_1920000.h5f.data-00000-of-00001', 'apr_g9_dqn_SpaceInvaders-v0_weights_1920000.h5f.index', 'apr_g9_dqn_SpaceInvaders-v0_weights_1922500.h5f.data-00000-of-00001', 'apr_g9_dqn_SpaceInvaders-v0_weights_1922500.h5f.index', 'apr_g9_dqn_SpaceInvaders-v0_weights_192500.h5f.data-00000-of-00001', 'apr_g9_dqn_SpaceInvaders-v0_weights_192500.h5f.index', 'apr_g9_dqn_SpaceInvaders-v0_weights_1925000.h5f.data-00000-of-00001', 'apr_g9_dqn_SpaceInvaders-v0_weights_1925000.h5f.index', 'apr_g9_dqn_SpaceInvaders-v0_weights_1927500.h5f.data-00000-of-00001', 'apr_g9_dqn_SpaceInvaders-v0_weights_1927500.h5f.index', 'apr_g9_dqn_SpaceInvaders-v0_weights_1930000.h5f.data-00000-of-00001', 'apr_g9_dqn_SpaceInvaders-v0_weights_1930000.h5f.index', 'apr_g9_dqn_SpaceInvaders-v0_weights_1932500.h5f.data-00000-of-00001', 'apr_g9_dqn_SpaceInvaders-v0_weights_1932500.h5f.index', 'apr_g9_dqn_SpaceInvaders-v0_weights_1935000.h5f.data-00000-of-00001', 'apr_g9_dqn_SpaceInvaders-v0_weights_1935000.h5f.index', 'apr_g9_dqn_SpaceInvaders-v0_weights_1937500.h5f.data-00000-of-00001', 'apr_g9_dqn_SpaceInvaders-v0_weights_1937500.h5f.index', 'apr_g9_dqn_SpaceInvaders-v0_weights_1940000.h5f.data-00000-of-00001', 'apr_g9_dqn_SpaceInvaders-v0_weights_1940000.h5f.index', 'apr_g9_dqn_SpaceInvaders-v0_weights_1942500.h5f.data-00000-of-00001', 'apr_g9_dqn_SpaceInvaders-v0_weights_1942500.h5f.index', 'apr_g9_dqn_SpaceInvaders-v0_weights_1945000.h5f.data-00000-of-00001', 'apr_g9_dqn_SpaceInvaders-v0_weights_1945000.h5f.index', 'apr_g9_dqn_SpaceInvaders-v0_weights_1947500.h5f.data-00000-of-00001', 'apr_g9_dqn_SpaceInvaders-v0_weights_1947500.h5f.index', 'apr_g9_dqn_SpaceInvaders-v0_weights_195000.h5f.data-00000-of-00001', 'apr_g9_dqn_SpaceInvaders-v0_weights_195000.h5f.index', 'apr_g9_dqn_SpaceInvaders-v0_weights_1950000.h5f.data-00000-of-00001', 'apr_g9_dqn_SpaceInvaders-v0_weights_1950000.h5f.index', 'apr_g9_dqn_SpaceInvaders-v0_weights_1952500.h5f.data-00000-of-00001', 'apr_g9_dqn_SpaceInvaders-v0_weights_1952500.h5f.index', 'apr_g9_dqn_SpaceInvaders-v0_weights_1955000.h5f.data-00000-of-00001', 'apr_g9_dqn_SpaceInvaders-v0_weights_1955000.h5f.index', 'apr_g9_dqn_SpaceInvaders-v0_weights_1957500.h5f.data-00000-of-00001', 'apr_g9_dqn_SpaceInvaders-v0_weights_1957500.h5f.index', 'apr_g9_dqn_SpaceInvaders-v0_weights_1960000.h5f.data-00000-of-00001', 'apr_g9_dqn_SpaceInvaders-v0_weights_1960000.h5f.index', 'apr_g9_dqn_SpaceInvaders-v0_weights_1962500.h5f.data-00000-of-00001', 'apr_g9_dqn_SpaceInvaders-v0_weights_1962500.h5f.index', 'apr_g9_dqn_SpaceInvaders-v0_weights_1965000.h5f.data-00000-of-00001', 'apr_g9_dqn_SpaceInvaders-v0_weights_1965000.h5f.index', 'apr_g9_dqn_SpaceInvaders-v0_weights_1967500.h5f.data-00000-of-00001', 'apr_g9_dqn_SpaceInvaders-v0_weights_1967500.h5f.index', 'apr_g9_dqn_SpaceInvaders-v0_weights_1970000.h5f.data-00000-of-00001', 'apr_g9_dqn_SpaceInvaders-v0_weights_1970000.h5f.index', 'apr_g9_dqn_SpaceInvaders-v0_weights_1972500.h5f.data-00000-of-00001', 'apr_g9_dqn_SpaceInvaders-v0_weights_1972500.h5f.index', 'apr_g9_dqn_SpaceInvaders-v0_weights_197500.h5f.data-00000-of-00001', 'apr_g9_dqn_SpaceInvaders-v0_weights_197500.h5f.index', 'apr_g9_dqn_SpaceInvaders-v0_weights_1975000.h5f.data-00000-of-00001', 'apr_g9_dqn_SpaceInvaders-v0_weights_1975000.h5f.index', 'apr_g9_dqn_SpaceInvaders-v0_weights_1977500.h5f.data-00000-of-00001', 'apr_g9_dqn_SpaceInvaders-v0_weights_1977500.h5f.index', 'apr_g9_dqn_SpaceInvaders-v0_weights_1980000.h5f.data-00000-of-00001', 'apr_g9_dqn_SpaceInvaders-v0_weights_1980000.h5f.index', 'apr_g9_dqn_SpaceInvaders-v0_weights_1982500.h5f.data-00000-of-00001', 'apr_g9_dqn_SpaceInvaders-v0_weights_1982500.h5f.index', 'apr_g9_dqn_SpaceInvaders-v0_weights_1985000.h5f.data-00000-of-00001', 'apr_g9_dqn_SpaceInvaders-v0_weights_1985000.h5f.index', 'apr_g9_dqn_SpaceInvaders-v0_weights_1987500.h5f.data-00000-of-00001', 'apr_g9_dqn_SpaceInvaders-v0_weights_1987500.h5f.index', 'apr_g9_dqn_SpaceInvaders-v0_weights_1990000.h5f.data-00000-of-00001', 'apr_g9_dqn_SpaceInvaders-v0_weights_1990000.h5f.index', 'apr_g9_dqn_SpaceInvaders-v0_weights_20000.h5f.data-00000-of-00001', 'apr_g9_dqn_SpaceInvaders-v0_weights_20000.h5f.index', 'apr_g9_dqn_SpaceInvaders-v0_weights_200000.h5f.data-00000-of-00001', 'apr_g9_dqn_SpaceInvaders-v0_weights_200000.h5f.index', 'apr_g9_dqn_SpaceInvaders-v0_weights_202500.h5f.data-00000-of-00001', 'apr_g9_dqn_SpaceInvaders-v0_weights_202500.h5f.index', 'apr_g9_dqn_SpaceInvaders-v0_weights_205000.h5f.data-00000-of-00001', 'apr_g9_dqn_SpaceInvaders-v0_weights_205000.h5f.index', 'apr_g9_dqn_SpaceInvaders-v0_weights_207500.h5f.data-00000-of-00001', 'apr_g9_dqn_SpaceInvaders-v0_weights_207500.h5f.index', 'apr_g9_dqn_SpaceInvaders-v0_weights_210000.h5f.data-00000-of-00001', 'apr_g9_dqn_SpaceInvaders-v0_weights_210000.h5f.index', 'apr_g9_dqn_SpaceInvaders-v0_weights_212500.h5f.data-00000-of-00001', 'apr_g9_dqn_SpaceInvaders-v0_weights_212500.h5f.index', 'apr_g9_dqn_SpaceInvaders-v0_weights_215000.h5f.data-00000-of-00001', 'apr_g9_dqn_SpaceInvaders-v0_weights_215000.h5f.index', 'apr_g9_dqn_SpaceInvaders-v0_weights_217500.h5f.data-00000-of-00001', 'apr_g9_dqn_SpaceInvaders-v0_weights_217500.h5f.index', 'apr_g9_dqn_SpaceInvaders-v0_weights_220000.h5f.data-00000-of-00001', 'apr_g9_dqn_SpaceInvaders-v0_weights_220000.h5f.index', 'apr_g9_dqn_SpaceInvaders-v0_weights_222500.h5f.data-00000-of-00001', 'apr_g9_dqn_SpaceInvaders-v0_weights_222500.h5f.index', 'apr_g9_dqn_SpaceInvaders-v0_weights_22500.h5f.data-00000-of-00001', 'apr_g9_dqn_SpaceInvaders-v0_weights_22500.h5f.index', 'apr_g9_dqn_SpaceInvaders-v0_weights_225000.h5f.data-00000-of-00001', 'apr_g9_dqn_SpaceInvaders-v0_weights_225000.h5f.index', 'apr_g9_dqn_SpaceInvaders-v0_weights_227500.h5f.data-00000-of-00001', 'apr_g9_dqn_SpaceInvaders-v0_weights_227500.h5f.index', 'apr_g9_dqn_SpaceInvaders-v0_weights_230000.h5f.data-00000-of-00001', 'apr_g9_dqn_SpaceInvaders-v0_weights_230000.h5f.index', 'apr_g9_dqn_SpaceInvaders-v0_weights_232500.h5f.data-00000-of-00001', 'apr_g9_dqn_SpaceInvaders-v0_weights_232500.h5f.index', 'apr_g9_dqn_SpaceInvaders-v0_weights_235000.h5f.data-00000-of-00001', 'apr_g9_dqn_SpaceInvaders-v0_weights_235000.h5f.index', 'apr_g9_dqn_SpaceInvaders-v0_weights_237500.h5f.data-00000-of-00001', 'apr_g9_dqn_SpaceInvaders-v0_weights_237500.h5f.index', 'apr_g9_dqn_SpaceInvaders-v0_weights_240000.h5f.data-00000-of-00001', 'apr_g9_dqn_SpaceInvaders-v0_weights_240000.h5f.index', 'apr_g9_dqn_SpaceInvaders-v0_weights_242500.h5f.data-00000-of-00001', 'apr_g9_dqn_SpaceInvaders-v0_weights_242500.h5f.index', 'apr_g9_dqn_SpaceInvaders-v0_weights_245000.h5f.data-00000-of-00001', 'apr_g9_dqn_SpaceInvaders-v0_weights_245000.h5f.index', 'apr_g9_dqn_SpaceInvaders-v0_weights_247500.h5f.data-00000-of-00001', 'apr_g9_dqn_SpaceInvaders-v0_weights_247500.h5f.index', 'apr_g9_dqn_SpaceInvaders-v0_weights_2500.h5f.data-00000-of-00001', 'apr_g9_dqn_SpaceInvaders-v0_weights_2500.h5f.index', 'apr_g9_dqn_SpaceInvaders-v0_weights_25000.h5f.data-00000-of-00001', 'apr_g9_dqn_SpaceInvaders-v0_weights_25000.h5f.index', 'apr_g9_dqn_SpaceInvaders-v0_weights_250000.h5f.data-00000-of-00001', 'apr_g9_dqn_SpaceInvaders-v0_weights_250000.h5f.index', 'apr_g9_dqn_SpaceInvaders-v0_weights_252500.h5f.data-00000-of-00001', 'apr_g9_dqn_SpaceInvaders-v0_weights_252500.h5f.index', 'apr_g9_dqn_SpaceInvaders-v0_weights_255000.h5f.data-00000-of-00001', 'apr_g9_dqn_SpaceInvaders-v0_weights_255000.h5f.index', 'apr_g9_dqn_SpaceInvaders-v0_weights_257500.h5f.data-00000-of-00001', 'apr_g9_dqn_SpaceInvaders-v0_weights_257500.h5f.index', 'apr_g9_dqn_SpaceInvaders-v0_weights_260000.h5f.data-00000-of-00001', 'apr_g9_dqn_SpaceInvaders-v0_weights_260000.h5f.index', 'apr_g9_dqn_SpaceInvaders-v0_weights_262500.h5f.data-00000-of-00001', 'apr_g9_dqn_SpaceInvaders-v0_weights_262500.h5f.index', 'apr_g9_dqn_SpaceInvaders-v0_weights_265000.h5f.data-00000-of-00001', 'apr_g9_dqn_SpaceInvaders-v0_weights_265000.h5f.index', 'apr_g9_dqn_SpaceInvaders-v0_weights_267500.h5f.data-00000-of-00001', 'apr_g9_dqn_SpaceInvaders-v0_weights_267500.h5f.index', 'apr_g9_dqn_SpaceInvaders-v0_weights_270000.h5f.data-00000-of-00001', 'apr_g9_dqn_SpaceInvaders-v0_weights_270000.h5f.index', 'apr_g9_dqn_SpaceInvaders-v0_weights_272500.h5f.data-00000-of-00001', 'apr_g9_dqn_SpaceInvaders-v0_weights_272500.h5f.index', 'apr_g9_dqn_SpaceInvaders-v0_weights_27500.h5f.data-00000-of-00001', 'apr_g9_dqn_SpaceInvaders-v0_weights_27500.h5f.index', 'apr_g9_dqn_SpaceInvaders-v0_weights_275000.h5f.data-00000-of-00001', 'apr_g9_dqn_SpaceInvaders-v0_weights_275000.h5f.index', 'apr_g9_dqn_SpaceInvaders-v0_weights_277500.h5f.data-00000-of-00001', 'apr_g9_dqn_SpaceInvaders-v0_weights_277500.h5f.index', 'apr_g9_dqn_SpaceInvaders-v0_weights_280000.h5f.data-00000-of-00001', 'apr_g9_dqn_SpaceInvaders-v0_weights_280000.h5f.index', 'apr_g9_dqn_SpaceInvaders-v0_weights_282500.h5f.data-00000-of-00001', 'apr_g9_dqn_SpaceInvaders-v0_weights_282500.h5f.index', 'apr_g9_dqn_SpaceInvaders-v0_weights_285000.h5f.data-00000-of-00001', 'apr_g9_dqn_SpaceInvaders-v0_weights_285000.h5f.index', 'apr_g9_dqn_SpaceInvaders-v0_weights_287500.h5f.data-00000-of-00001', 'apr_g9_dqn_SpaceInvaders-v0_weights_287500.h5f.index', 'apr_g9_dqn_SpaceInvaders-v0_weights_290000.h5f.data-00000-of-00001', 'apr_g9_dqn_SpaceInvaders-v0_weights_290000.h5f.index', 'apr_g9_dqn_SpaceInvaders-v0_weights_292500.h5f.data-00000-of-00001', 'apr_g9_dqn_SpaceInvaders-v0_weights_292500.h5f.index', 'apr_g9_dqn_SpaceInvaders-v0_weights_295000.h5f.data-00000-of-00001', 'apr_g9_dqn_SpaceInvaders-v0_weights_295000.h5f.index', 'apr_g9_dqn_SpaceInvaders-v0_weights_297500.h5f.data-00000-of-00001', 'apr_g9_dqn_SpaceInvaders-v0_weights_297500.h5f.index', 'apr_g9_dqn_SpaceInvaders-v0_weights_30000.h5f.data-00000-of-00001', 'apr_g9_dqn_SpaceInvaders-v0_weights_30000.h5f.index', 'apr_g9_dqn_SpaceInvaders-v0_weights_300000.h5f.data-00000-of-00001', 'apr_g9_dqn_SpaceInvaders-v0_weights_300000.h5f.index', 'apr_g9_dqn_SpaceInvaders-v0_weights_302500.h5f.data-00000-of-00001', 'apr_g9_dqn_SpaceInvaders-v0_weights_302500.h5f.index', 'apr_g9_dqn_SpaceInvaders-v0_weights_305000.h5f.data-00000-of-00001', 'apr_g9_dqn_SpaceInvaders-v0_weights_305000.h5f.index', 'apr_g9_dqn_SpaceInvaders-v0_weights_307500.h5f.data-00000-of-00001', 'apr_g9_dqn_SpaceInvaders-v0_weights_307500.h5f.index', 'apr_g9_dqn_SpaceInvaders-v0_weights_310000.h5f.data-00000-of-00001', 'apr_g9_dqn_SpaceInvaders-v0_weights_310000.h5f.index', 'apr_g9_dqn_SpaceInvaders-v0_weights_312500.h5f.data-00000-of-00001', 'apr_g9_dqn_SpaceInvaders-v0_weights_312500.h5f.index', 'apr_g9_dqn_SpaceInvaders-v0_weights_315000.h5f.data-00000-of-00001', 'apr_g9_dqn_SpaceInvaders-v0_weights_315000.h5f.index', 'apr_g9_dqn_SpaceInvaders-v0_weights_317500.h5f.data-00000-of-00001', 'apr_g9_dqn_SpaceInvaders-v0_weights_317500.h5f.index', 'apr_g9_dqn_SpaceInvaders-v0_weights_320000.h5f.data-00000-of-00001', 'apr_g9_dqn_SpaceInvaders-v0_weights_320000.h5f.index', 'apr_g9_dqn_SpaceInvaders-v0_weights_322500.h5f.data-00000-of-00001', 'apr_g9_dqn_SpaceInvaders-v0_weights_322500.h5f.index', 'apr_g9_dqn_SpaceInvaders-v0_weights_32500.h5f.data-00000-of-00001', 'apr_g9_dqn_SpaceInvaders-v0_weights_32500.h5f.index', 'apr_g9_dqn_SpaceInvaders-v0_weights_325000.h5f.data-00000-of-00001', 'apr_g9_dqn_SpaceInvaders-v0_weights_325000.h5f.index', 'apr_g9_dqn_SpaceInvaders-v0_weights_327500.h5f.data-00000-of-00001', 'apr_g9_dqn_SpaceInvaders-v0_weights_327500.h5f.index', 'apr_g9_dqn_SpaceInvaders-v0_weights_330000.h5f.data-00000-of-00001', 'apr_g9_dqn_SpaceInvaders-v0_weights_330000.h5f.index', 'apr_g9_dqn_SpaceInvaders-v0_weights_332500.h5f.data-00000-of-00001', 'apr_g9_dqn_SpaceInvaders-v0_weights_332500.h5f.index', 'apr_g9_dqn_SpaceInvaders-v0_weights_335000.h5f.data-00000-of-00001', 'apr_g9_dqn_SpaceInvaders-v0_weights_335000.h5f.index', 'apr_g9_dqn_SpaceInvaders-v0_weights_337500.h5f.data-00000-of-00001', 'apr_g9_dqn_SpaceInvaders-v0_weights_337500.h5f.index', 'apr_g9_dqn_SpaceInvaders-v0_weights_340000.h5f.data-00000-of-00001', 'apr_g9_dqn_SpaceInvaders-v0_weights_340000.h5f.index', 'apr_g9_dqn_SpaceInvaders-v0_weights_342500.h5f.data-00000-of-00001', 'apr_g9_dqn_SpaceInvaders-v0_weights_342500.h5f.index', 'apr_g9_dqn_SpaceInvaders-v0_weights_345000.h5f.data-00000-of-00001', 'apr_g9_dqn_SpaceInvaders-v0_weights_345000.h5f.index', 'apr_g9_dqn_SpaceInvaders-v0_weights_347500.h5f.data-00000-of-00001', 'apr_g9_dqn_SpaceInvaders-v0_weights_347500.h5f.index', 'apr_g9_dqn_SpaceInvaders-v0_weights_35000.h5f.data-00000-of-00001', 'apr_g9_dqn_SpaceInvaders-v0_weights_35000.h5f.index', 'apr_g9_dqn_SpaceInvaders-v0_weights_350000.h5f.data-00000-of-00001', 'apr_g9_dqn_SpaceInvaders-v0_weights_350000.h5f.index', 'apr_g9_dqn_SpaceInvaders-v0_weights_352500.h5f.data-00000-of-00001', 'apr_g9_dqn_SpaceInvaders-v0_weights_352500.h5f.index', 'apr_g9_dqn_SpaceInvaders-v0_weights_355000.h5f.data-00000-of-00001', 'apr_g9_dqn_SpaceInvaders-v0_weights_355000.h5f.index', 'apr_g9_dqn_SpaceInvaders-v0_weights_357500.h5f.data-00000-of-00001', 'apr_g9_dqn_SpaceInvaders-v0_weights_357500.h5f.index', 'apr_g9_dqn_SpaceInvaders-v0_weights_360000.h5f.data-00000-of-00001', 'apr_g9_dqn_SpaceInvaders-v0_weights_360000.h5f.index', 'apr_g9_dqn_SpaceInvaders-v0_weights_362500.h5f.data-00000-of-00001', 'apr_g9_dqn_SpaceInvaders-v0_weights_362500.h5f.index', 'apr_g9_dqn_SpaceInvaders-v0_weights_365000.h5f.data-00000-of-00001', 'apr_g9_dqn_SpaceInvaders-v0_weights_365000.h5f.index', 'apr_g9_dqn_SpaceInvaders-v0_weights_367500.h5f.data-00000-of-00001', 'apr_g9_dqn_SpaceInvaders-v0_weights_367500.h5f.index', 'apr_g9_dqn_SpaceInvaders-v0_weights_370000.h5f.data-00000-of-00001', 'apr_g9_dqn_SpaceInvaders-v0_weights_370000.h5f.index', 'apr_g9_dqn_SpaceInvaders-v0_weights_372500.h5f.data-00000-of-00001', 'apr_g9_dqn_SpaceInvaders-v0_weights_372500.h5f.index', 'apr_g9_dqn_SpaceInvaders-v0_weights_37500.h5f.data-00000-of-00001', 'apr_g9_dqn_SpaceInvaders-v0_weights_37500.h5f.index', 'apr_g9_dqn_SpaceInvaders-v0_weights_375000.h5f.data-00000-of-00001', 'apr_g9_dqn_SpaceInvaders-v0_weights_375000.h5f.index', 'apr_g9_dqn_SpaceInvaders-v0_weights_377500.h5f.data-00000-of-00001', 'apr_g9_dqn_SpaceInvaders-v0_weights_377500.h5f.index', 'apr_g9_dqn_SpaceInvaders-v0_weights_380000.h5f.data-00000-of-00001', 'apr_g9_dqn_SpaceInvaders-v0_weights_380000.h5f.index', 'apr_g9_dqn_SpaceInvaders-v0_weights_382500.h5f.data-00000-of-00001', 'apr_g9_dqn_SpaceInvaders-v0_weights_382500.h5f.index', 'apr_g9_dqn_SpaceInvaders-v0_weights_385000.h5f.data-00000-of-00001', 'apr_g9_dqn_SpaceInvaders-v0_weights_385000.h5f.index', 'apr_g9_dqn_SpaceInvaders-v0_weights_387500.h5f.data-00000-of-00001', 'apr_g9_dqn_SpaceInvaders-v0_weights_387500.h5f.index', 'apr_g9_dqn_SpaceInvaders-v0_weights_390000.h5f.data-00000-of-00001', 'apr_g9_dqn_SpaceInvaders-v0_weights_390000.h5f.index', 'apr_g9_dqn_SpaceInvaders-v0_weights_392500.h5f.data-00000-of-00001', 'apr_g9_dqn_SpaceInvaders-v0_weights_392500.h5f.index', 'apr_g9_dqn_SpaceInvaders-v0_weights_395000.h5f.data-00000-of-00001', 'apr_g9_dqn_SpaceInvaders-v0_weights_395000.h5f.index', 'apr_g9_dqn_SpaceInvaders-v0_weights_397500.h5f.data-00000-of-00001', 'apr_g9_dqn_SpaceInvaders-v0_weights_397500.h5f.index', 'apr_g9_dqn_SpaceInvaders-v0_weights_40000.h5f.data-00000-of-00001', 'apr_g9_dqn_SpaceInvaders-v0_weights_40000.h5f.index', 'apr_g9_dqn_SpaceInvaders-v0_weights_400000.h5f.data-00000-of-00001', 'apr_g9_dqn_SpaceInvaders-v0_weights_400000.h5f.index', 'apr_g9_dqn_SpaceInvaders-v0_weights_402500.h5f.data-00000-of-00001', 'apr_g9_dqn_SpaceInvaders-v0_weights_402500.h5f.index', 'apr_g9_dqn_SpaceInvaders-v0_weights_405000.h5f.data-00000-of-00001', 'apr_g9_dqn_SpaceInvaders-v0_weights_405000.h5f.index', 'apr_g9_dqn_SpaceInvaders-v0_weights_407500.h5f.data-00000-of-00001', 'apr_g9_dqn_SpaceInvaders-v0_weights_407500.h5f.index', 'apr_g9_dqn_SpaceInvaders-v0_weights_410000.h5f.data-00000-of-00001', 'apr_g9_dqn_SpaceInvaders-v0_weights_410000.h5f.index', 'apr_g9_dqn_SpaceInvaders-v0_weights_412500.h5f.data-00000-of-00001', 'apr_g9_dqn_SpaceInvaders-v0_weights_412500.h5f.index', 'apr_g9_dqn_SpaceInvaders-v0_weights_415000.h5f.data-00000-of-00001', 'apr_g9_dqn_SpaceInvaders-v0_weights_415000.h5f.index', 'apr_g9_dqn_SpaceInvaders-v0_weights_417500.h5f.data-00000-of-00001', 'apr_g9_dqn_SpaceInvaders-v0_weights_417500.h5f.index', 'apr_g9_dqn_SpaceInvaders-v0_weights_420000.h5f.data-00000-of-00001', 'apr_g9_dqn_SpaceInvaders-v0_weights_420000.h5f.index', 'apr_g9_dqn_SpaceInvaders-v0_weights_422500.h5f.data-00000-of-00001', 'apr_g9_dqn_SpaceInvaders-v0_weights_422500.h5f.index', 'apr_g9_dqn_SpaceInvaders-v0_weights_42500.h5f.data-00000-of-00001', 'apr_g9_dqn_SpaceInvaders-v0_weights_42500.h5f.index', 'apr_g9_dqn_SpaceInvaders-v0_weights_425000.h5f.data-00000-of-00001', 'apr_g9_dqn_SpaceInvaders-v0_weights_425000.h5f.index', 'apr_g9_dqn_SpaceInvaders-v0_weights_427500.h5f.data-00000-of-00001', 'apr_g9_dqn_SpaceInvaders-v0_weights_427500.h5f.index', 'apr_g9_dqn_SpaceInvaders-v0_weights_430000.h5f.data-00000-of-00001', 'apr_g9_dqn_SpaceInvaders-v0_weights_430000.h5f.index', 'apr_g9_dqn_SpaceInvaders-v0_weights_432500.h5f.data-00000-of-00001', 'apr_g9_dqn_SpaceInvaders-v0_weights_432500.h5f.index', 'apr_g9_dqn_SpaceInvaders-v0_weights_435000.h5f.data-00000-of-00001', 'apr_g9_dqn_SpaceInvaders-v0_weights_435000.h5f.index', 'apr_g9_dqn_SpaceInvaders-v0_weights_437500.h5f.data-00000-of-00001', 'apr_g9_dqn_SpaceInvaders-v0_weights_437500.h5f.index', 'apr_g9_dqn_SpaceInvaders-v0_weights_440000.h5f.data-00000-of-00001', 'apr_g9_dqn_SpaceInvaders-v0_weights_440000.h5f.index', 'apr_g9_dqn_SpaceInvaders-v0_weights_442500.h5f.data-00000-of-00001', 'apr_g9_dqn_SpaceInvaders-v0_weights_442500.h5f.index', 'apr_g9_dqn_SpaceInvaders-v0_weights_445000.h5f.data-00000-of-00001', 'apr_g9_dqn_SpaceInvaders-v0_weights_445000.h5f.index', 'apr_g9_dqn_SpaceInvaders-v0_weights_447500.h5f.data-00000-of-00001', 'apr_g9_dqn_SpaceInvaders-v0_weights_447500.h5f.index', 'apr_g9_dqn_SpaceInvaders-v0_weights_45000.h5f.data-00000-of-00001', 'apr_g9_dqn_SpaceInvaders-v0_weights_45000.h5f.index', 'apr_g9_dqn_SpaceInvaders-v0_weights_450000.h5f.data-00000-of-00001', 'apr_g9_dqn_SpaceInvaders-v0_weights_450000.h5f.index', 'apr_g9_dqn_SpaceInvaders-v0_weights_452500.h5f.data-00000-of-00001', 'apr_g9_dqn_SpaceInvaders-v0_weights_452500.h5f.index', 'apr_g9_dqn_SpaceInvaders-v0_weights_455000.h5f.data-00000-of-00001', 'apr_g9_dqn_SpaceInvaders-v0_weights_455000.h5f.index', 'apr_g9_dqn_SpaceInvaders-v0_weights_457500.h5f.data-00000-of-00001', 'apr_g9_dqn_SpaceInvaders-v0_weights_457500.h5f.index', 'apr_g9_dqn_SpaceInvaders-v0_weights_460000.h5f.data-00000-of-00001', 'apr_g9_dqn_SpaceInvaders-v0_weights_460000.h5f.index', 'apr_g9_dqn_SpaceInvaders-v0_weights_462500.h5f.data-00000-of-00001', 'apr_g9_dqn_SpaceInvaders-v0_weights_462500.h5f.index', 'apr_g9_dqn_SpaceInvaders-v0_weights_465000.h5f.data-00000-of-00001', 'apr_g9_dqn_SpaceInvaders-v0_weights_465000.h5f.index', 'apr_g9_dqn_SpaceInvaders-v0_weights_467500.h5f.data-00000-of-00001', 'apr_g9_dqn_SpaceInvaders-v0_weights_467500.h5f.index', 'apr_g9_dqn_SpaceInvaders-v0_weights_470000.h5f.data-00000-of-00001', 'apr_g9_dqn_SpaceInvaders-v0_weights_470000.h5f.index', 'apr_g9_dqn_SpaceInvaders-v0_weights_472500.h5f.data-00000-of-00001', 'apr_g9_dqn_SpaceInvaders-v0_weights_472500.h5f.index', 'apr_g9_dqn_SpaceInvaders-v0_weights_47500.h5f.data-00000-of-00001', 'apr_g9_dqn_SpaceInvaders-v0_weights_47500.h5f.index', 'apr_g9_dqn_SpaceInvaders-v0_weights_475000.h5f.data-00000-of-00001', 'apr_g9_dqn_SpaceInvaders-v0_weights_475000.h5f.index', 'apr_g9_dqn_SpaceInvaders-v0_weights_477500.h5f.data-00000-of-00001', 'apr_g9_dqn_SpaceInvaders-v0_weights_477500.h5f.index', 'apr_g9_dqn_SpaceInvaders-v0_weights_480000.h5f.data-00000-of-00001', 'apr_g9_dqn_SpaceInvaders-v0_weights_480000.h5f.index', 'apr_g9_dqn_SpaceInvaders-v0_weights_482500.h5f.data-00000-of-00001', 'apr_g9_dqn_SpaceInvaders-v0_weights_482500.h5f.index', 'apr_g9_dqn_SpaceInvaders-v0_weights_485000.h5f.data-00000-of-00001', 'apr_g9_dqn_SpaceInvaders-v0_weights_485000.h5f.index', 'apr_g9_dqn_SpaceInvaders-v0_weights_487500.h5f.data-00000-of-00001', 'apr_g9_dqn_SpaceInvaders-v0_weights_487500.h5f.index', 'apr_g9_dqn_SpaceInvaders-v0_weights_490000.h5f.data-00000-of-00001', 'apr_g9_dqn_SpaceInvaders-v0_weights_490000.h5f.index', 'apr_g9_dqn_SpaceInvaders-v0_weights_492500.h5f.data-00000-of-00001', 'apr_g9_dqn_SpaceInvaders-v0_weights_492500.h5f.index', 'apr_g9_dqn_SpaceInvaders-v0_weights_495000.h5f.data-00000-of-00001', 'apr_g9_dqn_SpaceInvaders-v0_weights_495000.h5f.index', 'apr_g9_dqn_SpaceInvaders-v0_weights_497500.h5f.data-00000-of-00001', 'apr_g9_dqn_SpaceInvaders-v0_weights_497500.h5f.index', 'apr_g9_dqn_SpaceInvaders-v0_weights_5000.h5f.data-00000-of-00001', 'apr_g9_dqn_SpaceInvaders-v0_weights_5000.h5f.index', 'apr_g9_dqn_SpaceInvaders-v0_weights_50000.h5f.data-00000-of-00001', 'apr_g9_dqn_SpaceInvaders-v0_weights_50000.h5f.index', 'apr_g9_dqn_SpaceInvaders-v0_weights_500000.h5f.data-00000-of-00001', 'apr_g9_dqn_SpaceInvaders-v0_weights_500000.h5f.index', 'apr_g9_dqn_SpaceInvaders-v0_weights_502500.h5f.data-00000-of-00001', 'apr_g9_dqn_SpaceInvaders-v0_weights_502500.h5f.index', 'apr_g9_dqn_SpaceInvaders-v0_weights_505000.h5f.data-00000-of-00001', 'apr_g9_dqn_SpaceInvaders-v0_weights_505000.h5f.index', 'apr_g9_dqn_SpaceInvaders-v0_weights_507500.h5f.data-00000-of-00001', 'apr_g9_dqn_SpaceInvaders-v0_weights_507500.h5f.index', 'apr_g9_dqn_SpaceInvaders-v0_weights_510000.h5f.data-00000-of-00001', 'apr_g9_dqn_SpaceInvaders-v0_weights_510000.h5f.index', 'apr_g9_dqn_SpaceInvaders-v0_weights_512500.h5f.data-00000-of-00001', 'apr_g9_dqn_SpaceInvaders-v0_weights_512500.h5f.index', 'apr_g9_dqn_SpaceInvaders-v0_weights_515000.h5f.data-00000-of-00001', 'apr_g9_dqn_SpaceInvaders-v0_weights_515000.h5f.index', 'apr_g9_dqn_SpaceInvaders-v0_weights_517500.h5f.data-00000-of-00001', 'apr_g9_dqn_SpaceInvaders-v0_weights_517500.h5f.index', 'apr_g9_dqn_SpaceInvaders-v0_weights_520000.h5f.data-00000-of-00001', 'apr_g9_dqn_SpaceInvaders-v0_weights_520000.h5f.index', 'apr_g9_dqn_SpaceInvaders-v0_weights_522500.h5f.data-00000-of-00001', 'apr_g9_dqn_SpaceInvaders-v0_weights_522500.h5f.index', 'apr_g9_dqn_SpaceInvaders-v0_weights_52500.h5f.data-00000-of-00001', 'apr_g9_dqn_SpaceInvaders-v0_weights_52500.h5f.index', 'apr_g9_dqn_SpaceInvaders-v0_weights_525000.h5f.data-00000-of-00001', 'apr_g9_dqn_SpaceInvaders-v0_weights_525000.h5f.index', 'apr_g9_dqn_SpaceInvaders-v0_weights_527500.h5f.data-00000-of-00001', 'apr_g9_dqn_SpaceInvaders-v0_weights_527500.h5f.index', 'apr_g9_dqn_SpaceInvaders-v0_weights_530000.h5f.data-00000-of-00001', 'apr_g9_dqn_SpaceInvaders-v0_weights_530000.h5f.index', 'apr_g9_dqn_SpaceInvaders-v0_weights_532500.h5f.data-00000-of-00001', 'apr_g9_dqn_SpaceInvaders-v0_weights_532500.h5f.index', 'apr_g9_dqn_SpaceInvaders-v0_weights_535000.h5f.data-00000-of-00001', 'apr_g9_dqn_SpaceInvaders-v0_weights_535000.h5f.index', 'apr_g9_dqn_SpaceInvaders-v0_weights_537500.h5f.data-00000-of-00001', 'apr_g9_dqn_SpaceInvaders-v0_weights_537500.h5f.index', 'apr_g9_dqn_SpaceInvaders-v0_weights_540000.h5f.data-00000-of-00001', 'apr_g9_dqn_SpaceInvaders-v0_weights_540000.h5f.index', 'apr_g9_dqn_SpaceInvaders-v0_weights_542500.h5f.data-00000-of-00001', 'apr_g9_dqn_SpaceInvaders-v0_weights_542500.h5f.index', 'apr_g9_dqn_SpaceInvaders-v0_weights_545000.h5f.data-00000-of-00001', 'apr_g9_dqn_SpaceInvaders-v0_weights_545000.h5f.index', 'apr_g9_dqn_SpaceInvaders-v0_weights_547500.h5f.data-00000-of-00001', 'apr_g9_dqn_SpaceInvaders-v0_weights_547500.h5f.index', 'apr_g9_dqn_SpaceInvaders-v0_weights_55000.h5f.data-00000-of-00001', 'apr_g9_dqn_SpaceInvaders-v0_weights_55000.h5f.index', 'apr_g9_dqn_SpaceInvaders-v0_weights_550000.h5f.data-00000-of-00001', 'apr_g9_dqn_SpaceInvaders-v0_weights_550000.h5f.index', 'apr_g9_dqn_SpaceInvaders-v0_weights_552500.h5f.data-00000-of-00001', 'apr_g9_dqn_SpaceInvaders-v0_weights_552500.h5f.index', 'apr_g9_dqn_SpaceInvaders-v0_weights_555000.h5f.data-00000-of-00001', 'apr_g9_dqn_SpaceInvaders-v0_weights_555000.h5f.index', 'apr_g9_dqn_SpaceInvaders-v0_weights_557500.h5f.data-00000-of-00001', 'apr_g9_dqn_SpaceInvaders-v0_weights_557500.h5f.index', 'apr_g9_dqn_SpaceInvaders-v0_weights_560000.h5f.data-00000-of-00001', 'apr_g9_dqn_SpaceInvaders-v0_weights_560000.h5f.index', 'apr_g9_dqn_SpaceInvaders-v0_weights_562500.h5f.data-00000-of-00001', 'apr_g9_dqn_SpaceInvaders-v0_weights_562500.h5f.index', 'apr_g9_dqn_SpaceInvaders-v0_weights_565000.h5f.data-00000-of-00001', 'apr_g9_dqn_SpaceInvaders-v0_weights_565000.h5f.index', 'apr_g9_dqn_SpaceInvaders-v0_weights_567500.h5f.data-00000-of-00001', 'apr_g9_dqn_SpaceInvaders-v0_weights_567500.h5f.index', 'apr_g9_dqn_SpaceInvaders-v0_weights_570000.h5f.data-00000-of-00001', 'apr_g9_dqn_SpaceInvaders-v0_weights_570000.h5f.index', 'apr_g9_dqn_SpaceInvaders-v0_weights_572500.h5f.data-00000-of-00001', 'apr_g9_dqn_SpaceInvaders-v0_weights_572500.h5f.index', 'apr_g9_dqn_SpaceInvaders-v0_weights_57500.h5f.data-00000-of-00001', 'apr_g9_dqn_SpaceInvaders-v0_weights_57500.h5f.index', 'apr_g9_dqn_SpaceInvaders-v0_weights_575000.h5f.data-00000-of-00001', 'apr_g9_dqn_SpaceInvaders-v0_weights_575000.h5f.index', 'apr_g9_dqn_SpaceInvaders-v0_weights_577500.h5f.data-00000-of-00001', 'apr_g9_dqn_SpaceInvaders-v0_weights_577500.h5f.index', 'apr_g9_dqn_SpaceInvaders-v0_weights_580000.h5f.data-00000-of-00001', 'apr_g9_dqn_SpaceInvaders-v0_weights_580000.h5f.index', 'apr_g9_dqn_SpaceInvaders-v0_weights_582500.h5f.data-00000-of-00001', 'apr_g9_dqn_SpaceInvaders-v0_weights_582500.h5f.index', 'apr_g9_dqn_SpaceInvaders-v0_weights_585000.h5f.data-00000-of-00001', 'apr_g9_dqn_SpaceInvaders-v0_weights_585000.h5f.index', 'apr_g9_dqn_SpaceInvaders-v0_weights_587500.h5f.data-00000-of-00001', 'apr_g9_dqn_SpaceInvaders-v0_weights_587500.h5f.index', 'apr_g9_dqn_SpaceInvaders-v0_weights_590000.h5f.data-00000-of-00001', 'apr_g9_dqn_SpaceInvaders-v0_weights_590000.h5f.index', 'apr_g9_dqn_SpaceInvaders-v0_weights_592500.h5f.data-00000-of-00001', 'apr_g9_dqn_SpaceInvaders-v0_weights_592500.h5f.index', 'apr_g9_dqn_SpaceInvaders-v0_weights_595000.h5f.data-00000-of-00001', 'apr_g9_dqn_SpaceInvaders-v0_weights_595000.h5f.index', 'apr_g9_dqn_SpaceInvaders-v0_weights_597500.h5f.data-00000-of-00001', 'apr_g9_dqn_SpaceInvaders-v0_weights_597500.h5f.index', 'apr_g9_dqn_SpaceInvaders-v0_weights_60000.h5f.data-00000-of-00001', 'apr_g9_dqn_SpaceInvaders-v0_weights_60000.h5f.index', 'apr_g9_dqn_SpaceInvaders-v0_weights_600000.h5f.data-00000-of-00001', 'apr_g9_dqn_SpaceInvaders-v0_weights_600000.h5f.index', 'apr_g9_dqn_SpaceInvaders-v0_weights_602500.h5f.data-00000-of-00001', 'apr_g9_dqn_SpaceInvaders-v0_weights_602500.h5f.index', 'apr_g9_dqn_SpaceInvaders-v0_weights_605000.h5f.data-00000-of-00001', 'apr_g9_dqn_SpaceInvaders-v0_weights_605000.h5f.index', 'apr_g9_dqn_SpaceInvaders-v0_weights_607500.h5f.data-00000-of-00001', 'apr_g9_dqn_SpaceInvaders-v0_weights_607500.h5f.index', 'apr_g9_dqn_SpaceInvaders-v0_weights_610000.h5f.data-00000-of-00001', 'apr_g9_dqn_SpaceInvaders-v0_weights_610000.h5f.index', 'apr_g9_dqn_SpaceInvaders-v0_weights_612500.h5f.data-00000-of-00001', 'apr_g9_dqn_SpaceInvaders-v0_weights_612500.h5f.index', 'apr_g9_dqn_SpaceInvaders-v0_weights_615000.h5f.data-00000-of-00001', 'apr_g9_dqn_SpaceInvaders-v0_weights_615000.h5f.index', 'apr_g9_dqn_SpaceInvaders-v0_weights_617500.h5f.data-00000-of-00001', 'apr_g9_dqn_SpaceInvaders-v0_weights_617500.h5f.index', 'apr_g9_dqn_SpaceInvaders-v0_weights_620000.h5f.data-00000-of-00001', 'apr_g9_dqn_SpaceInvaders-v0_weights_620000.h5f.index', 'apr_g9_dqn_SpaceInvaders-v0_weights_622500.h5f.data-00000-of-00001', 'apr_g9_dqn_SpaceInvaders-v0_weights_622500.h5f.index', 'apr_g9_dqn_SpaceInvaders-v0_weights_62500.h5f.data-00000-of-00001', 'apr_g9_dqn_SpaceInvaders-v0_weights_62500.h5f.index', 'apr_g9_dqn_SpaceInvaders-v0_weights_625000.h5f.data-00000-of-00001', 'apr_g9_dqn_SpaceInvaders-v0_weights_625000.h5f.index', 'apr_g9_dqn_SpaceInvaders-v0_weights_627500.h5f.data-00000-of-00001', 'apr_g9_dqn_SpaceInvaders-v0_weights_627500.h5f.index', 'apr_g9_dqn_SpaceInvaders-v0_weights_630000.h5f.data-00000-of-00001', 'apr_g9_dqn_SpaceInvaders-v0_weights_630000.h5f.index', 'apr_g9_dqn_SpaceInvaders-v0_weights_632500.h5f.data-00000-of-00001', 'apr_g9_dqn_SpaceInvaders-v0_weights_632500.h5f.index', 'apr_g9_dqn_SpaceInvaders-v0_weights_635000.h5f.data-00000-of-00001', 'apr_g9_dqn_SpaceInvaders-v0_weights_635000.h5f.index', 'apr_g9_dqn_SpaceInvaders-v0_weights_637500.h5f.data-00000-of-00001', 'apr_g9_dqn_SpaceInvaders-v0_weights_637500.h5f.index', 'apr_g9_dqn_SpaceInvaders-v0_weights_640000.h5f.data-00000-of-00001', 'apr_g9_dqn_SpaceInvaders-v0_weights_640000.h5f.index', 'apr_g9_dqn_SpaceInvaders-v0_weights_642500.h5f.data-00000-of-00001', 'apr_g9_dqn_SpaceInvaders-v0_weights_642500.h5f.index', 'apr_g9_dqn_SpaceInvaders-v0_weights_645000.h5f.data-00000-of-00001', 'apr_g9_dqn_SpaceInvaders-v0_weights_645000.h5f.index', 'apr_g9_dqn_SpaceInvaders-v0_weights_647500.h5f.data-00000-of-00001', 'apr_g9_dqn_SpaceInvaders-v0_weights_647500.h5f.index', 'apr_g9_dqn_SpaceInvaders-v0_weights_65000.h5f.data-00000-of-00001', 'apr_g9_dqn_SpaceInvaders-v0_weights_65000.h5f.index', 'apr_g9_dqn_SpaceInvaders-v0_weights_650000.h5f.data-00000-of-00001', 'apr_g9_dqn_SpaceInvaders-v0_weights_650000.h5f.index', 'apr_g9_dqn_SpaceInvaders-v0_weights_652500.h5f.data-00000-of-00001', 'apr_g9_dqn_SpaceInvaders-v0_weights_652500.h5f.index', 'apr_g9_dqn_SpaceInvaders-v0_weights_655000.h5f.data-00000-of-00001', 'apr_g9_dqn_SpaceInvaders-v0_weights_655000.h5f.index', 'apr_g9_dqn_SpaceInvaders-v0_weights_657500.h5f.data-00000-of-00001', 'apr_g9_dqn_SpaceInvaders-v0_weights_657500.h5f.index', 'apr_g9_dqn_SpaceInvaders-v0_weights_660000.h5f.data-00000-of-00001', 'apr_g9_dqn_SpaceInvaders-v0_weights_660000.h5f.index', 'apr_g9_dqn_SpaceInvaders-v0_weights_662500.h5f.data-00000-of-00001', 'apr_g9_dqn_SpaceInvaders-v0_weights_662500.h5f.index', 'apr_g9_dqn_SpaceInvaders-v0_weights_665000.h5f.data-00000-of-00001', 'apr_g9_dqn_SpaceInvaders-v0_weights_665000.h5f.index', 'apr_g9_dqn_SpaceInvaders-v0_weights_667500.h5f.data-00000-of-00001', 'apr_g9_dqn_SpaceInvaders-v0_weights_667500.h5f.index', 'apr_g9_dqn_SpaceInvaders-v0_weights_670000.h5f.data-00000-of-00001', 'apr_g9_dqn_SpaceInvaders-v0_weights_670000.h5f.index', 'apr_g9_dqn_SpaceInvaders-v0_weights_672500.h5f.data-00000-of-00001', 'apr_g9_dqn_SpaceInvaders-v0_weights_672500.h5f.index', 'apr_g9_dqn_SpaceInvaders-v0_weights_67500.h5f.data-00000-of-00001', 'apr_g9_dqn_SpaceInvaders-v0_weights_67500.h5f.index', 'apr_g9_dqn_SpaceInvaders-v0_weights_675000.h5f.data-00000-of-00001', 'apr_g9_dqn_SpaceInvaders-v0_weights_675000.h5f.index', 'apr_g9_dqn_SpaceInvaders-v0_weights_677500.h5f.data-00000-of-00001', 'apr_g9_dqn_SpaceInvaders-v0_weights_677500.h5f.index', 'apr_g9_dqn_SpaceInvaders-v0_weights_680000.h5f.data-00000-of-00001', 'apr_g9_dqn_SpaceInvaders-v0_weights_680000.h5f.index', 'apr_g9_dqn_SpaceInvaders-v0_weights_682500.h5f.data-00000-of-00001', 'apr_g9_dqn_SpaceInvaders-v0_weights_682500.h5f.index', 'apr_g9_dqn_SpaceInvaders-v0_weights_685000.h5f.data-00000-of-00001', 'apr_g9_dqn_SpaceInvaders-v0_weights_685000.h5f.index', 'apr_g9_dqn_SpaceInvaders-v0_weights_687500.h5f.data-00000-of-00001', 'apr_g9_dqn_SpaceInvaders-v0_weights_687500.h5f.index', 'apr_g9_dqn_SpaceInvaders-v0_weights_690000.h5f.data-00000-of-00001', 'apr_g9_dqn_SpaceInvaders-v0_weights_690000.h5f.index', 'apr_g9_dqn_SpaceInvaders-v0_weights_692500.h5f.data-00000-of-00001', 'apr_g9_dqn_SpaceInvaders-v0_weights_692500.h5f.index', 'apr_g9_dqn_SpaceInvaders-v0_weights_695000.h5f.data-00000-of-00001', 'apr_g9_dqn_SpaceInvaders-v0_weights_695000.h5f.index', 'apr_g9_dqn_SpaceInvaders-v0_weights_697500.h5f.data-00000-of-00001', 'apr_g9_dqn_SpaceInvaders-v0_weights_697500.h5f.index', 'apr_g9_dqn_SpaceInvaders-v0_weights_70000.h5f.data-00000-of-00001', 'apr_g9_dqn_SpaceInvaders-v0_weights_70000.h5f.index', 'apr_g9_dqn_SpaceInvaders-v0_weights_700000.h5f.data-00000-of-00001', 'apr_g9_dqn_SpaceInvaders-v0_weights_700000.h5f.index', 'apr_g9_dqn_SpaceInvaders-v0_weights_702500.h5f.data-00000-of-00001', 'apr_g9_dqn_SpaceInvaders-v0_weights_702500.h5f.index', 'apr_g9_dqn_SpaceInvaders-v0_weights_705000.h5f.data-00000-of-00001', 'apr_g9_dqn_SpaceInvaders-v0_weights_705000.h5f.index', 'apr_g9_dqn_SpaceInvaders-v0_weights_707500.h5f.data-00000-of-00001', 'apr_g9_dqn_SpaceInvaders-v0_weights_707500.h5f.index', 'apr_g9_dqn_SpaceInvaders-v0_weights_710000.h5f.data-00000-of-00001', 'apr_g9_dqn_SpaceInvaders-v0_weights_710000.h5f.index', 'apr_g9_dqn_SpaceInvaders-v0_weights_712500.h5f.data-00000-of-00001', 'apr_g9_dqn_SpaceInvaders-v0_weights_712500.h5f.index', 'apr_g9_dqn_SpaceInvaders-v0_weights_715000.h5f.data-00000-of-00001', 'apr_g9_dqn_SpaceInvaders-v0_weights_715000.h5f.index', 'apr_g9_dqn_SpaceInvaders-v0_weights_717500.h5f.data-00000-of-00001', 'apr_g9_dqn_SpaceInvaders-v0_weights_717500.h5f.index', 'apr_g9_dqn_SpaceInvaders-v0_weights_720000.h5f.data-00000-of-00001', 'apr_g9_dqn_SpaceInvaders-v0_weights_720000.h5f.index', 'apr_g9_dqn_SpaceInvaders-v0_weights_722500.h5f.data-00000-of-00001', 'apr_g9_dqn_SpaceInvaders-v0_weights_722500.h5f.index', 'apr_g9_dqn_SpaceInvaders-v0_weights_72500.h5f.data-00000-of-00001', 'apr_g9_dqn_SpaceInvaders-v0_weights_72500.h5f.index', 'apr_g9_dqn_SpaceInvaders-v0_weights_725000.h5f.data-00000-of-00001', 'apr_g9_dqn_SpaceInvaders-v0_weights_725000.h5f.index', 'apr_g9_dqn_SpaceInvaders-v0_weights_727500.h5f.data-00000-of-00001', 'apr_g9_dqn_SpaceInvaders-v0_weights_727500.h5f.index', 'apr_g9_dqn_SpaceInvaders-v0_weights_730000.h5f.data-00000-of-00001', 'apr_g9_dqn_SpaceInvaders-v0_weights_730000.h5f.index', 'apr_g9_dqn_SpaceInvaders-v0_weights_732500.h5f.data-00000-of-00001', 'apr_g9_dqn_SpaceInvaders-v0_weights_732500.h5f.index', 'apr_g9_dqn_SpaceInvaders-v0_weights_735000.h5f.data-00000-of-00001', 'apr_g9_dqn_SpaceInvaders-v0_weights_735000.h5f.index', 'apr_g9_dqn_SpaceInvaders-v0_weights_737500.h5f.data-00000-of-00001', 'apr_g9_dqn_SpaceInvaders-v0_weights_737500.h5f.index', 'apr_g9_dqn_SpaceInvaders-v0_weights_740000.h5f.data-00000-of-00001', 'apr_g9_dqn_SpaceInvaders-v0_weights_740000.h5f.index', 'apr_g9_dqn_SpaceInvaders-v0_weights_742500.h5f.data-00000-of-00001', 'apr_g9_dqn_SpaceInvaders-v0_weights_742500.h5f.index', 'apr_g9_dqn_SpaceInvaders-v0_weights_745000.h5f.data-00000-of-00001', 'apr_g9_dqn_SpaceInvaders-v0_weights_745000.h5f.index', 'apr_g9_dqn_SpaceInvaders-v0_weights_747500.h5f.data-00000-of-00001', 'apr_g9_dqn_SpaceInvaders-v0_weights_747500.h5f.index', 'apr_g9_dqn_SpaceInvaders-v0_weights_7500.h5f.data-00000-of-00001', 'apr_g9_dqn_SpaceInvaders-v0_weights_7500.h5f.index', 'apr_g9_dqn_SpaceInvaders-v0_weights_75000.h5f.data-00000-of-00001', 'apr_g9_dqn_SpaceInvaders-v0_weights_75000.h5f.index', 'apr_g9_dqn_SpaceInvaders-v0_weights_750000.h5f.data-00000-of-00001', 'apr_g9_dqn_SpaceInvaders-v0_weights_750000.h5f.index', 'apr_g9_dqn_SpaceInvaders-v0_weights_752500.h5f.data-00000-of-00001', 'apr_g9_dqn_SpaceInvaders-v0_weights_752500.h5f.index', 'apr_g9_dqn_SpaceInvaders-v0_weights_755000.h5f.data-00000-of-00001', 'apr_g9_dqn_SpaceInvaders-v0_weights_755000.h5f.index', 'apr_g9_dqn_SpaceInvaders-v0_weights_757500.h5f.data-00000-of-00001', 'apr_g9_dqn_SpaceInvaders-v0_weights_757500.h5f.index', 'apr_g9_dqn_SpaceInvaders-v0_weights_760000.h5f.data-00000-of-00001', 'apr_g9_dqn_SpaceInvaders-v0_weights_760000.h5f.index', 'apr_g9_dqn_SpaceInvaders-v0_weights_762500.h5f.data-00000-of-00001', 'apr_g9_dqn_SpaceInvaders-v0_weights_762500.h5f.index', 'apr_g9_dqn_SpaceInvaders-v0_weights_765000.h5f.data-00000-of-00001', 'apr_g9_dqn_SpaceInvaders-v0_weights_765000.h5f.index', 'apr_g9_dqn_SpaceInvaders-v0_weights_767500.h5f.data-00000-of-00001', 'apr_g9_dqn_SpaceInvaders-v0_weights_767500.h5f.index', 'apr_g9_dqn_SpaceInvaders-v0_weights_770000.h5f.data-00000-of-00001', 'apr_g9_dqn_SpaceInvaders-v0_weights_770000.h5f.index', 'apr_g9_dqn_SpaceInvaders-v0_weights_772500.h5f.data-00000-of-00001', 'apr_g9_dqn_SpaceInvaders-v0_weights_772500.h5f.index', 'apr_g9_dqn_SpaceInvaders-v0_weights_77500.h5f.data-00000-of-00001', 'apr_g9_dqn_SpaceInvaders-v0_weights_77500.h5f.index', 'apr_g9_dqn_SpaceInvaders-v0_weights_775000.h5f.data-00000-of-00001', 'apr_g9_dqn_SpaceInvaders-v0_weights_775000.h5f.index', 'apr_g9_dqn_SpaceInvaders-v0_weights_777500.h5f.data-00000-of-00001', 'apr_g9_dqn_SpaceInvaders-v0_weights_777500.h5f.index', 'apr_g9_dqn_SpaceInvaders-v0_weights_780000.h5f.data-00000-of-00001', 'apr_g9_dqn_SpaceInvaders-v0_weights_780000.h5f.index', 'apr_g9_dqn_SpaceInvaders-v0_weights_782500.h5f.data-00000-of-00001', 'apr_g9_dqn_SpaceInvaders-v0_weights_782500.h5f.index', 'apr_g9_dqn_SpaceInvaders-v0_weights_785000.h5f.data-00000-of-00001', 'apr_g9_dqn_SpaceInvaders-v0_weights_785000.h5f.index', 'apr_g9_dqn_SpaceInvaders-v0_weights_787500.h5f.data-00000-of-00001', 'apr_g9_dqn_SpaceInvaders-v0_weights_787500.h5f.index', 'apr_g9_dqn_SpaceInvaders-v0_weights_790000.h5f.data-00000-of-00001', 'apr_g9_dqn_SpaceInvaders-v0_weights_790000.h5f.index', 'apr_g9_dqn_SpaceInvaders-v0_weights_792500.h5f.data-00000-of-00001', 'apr_g9_dqn_SpaceInvaders-v0_weights_792500.h5f.index', 'apr_g9_dqn_SpaceInvaders-v0_weights_795000.h5f.data-00000-of-00001', 'apr_g9_dqn_SpaceInvaders-v0_weights_795000.h5f.index', 'apr_g9_dqn_SpaceInvaders-v0_weights_797500.h5f.data-00000-of-00001', 'apr_g9_dqn_SpaceInvaders-v0_weights_797500.h5f.index', 'apr_g9_dqn_SpaceInvaders-v0_weights_80000.h5f.data-00000-of-00001', 'apr_g9_dqn_SpaceInvaders-v0_weights_80000.h5f.index', 'apr_g9_dqn_SpaceInvaders-v0_weights_800000.h5f.data-00000-of-00001', 'apr_g9_dqn_SpaceInvaders-v0_weights_800000.h5f.index', 'apr_g9_dqn_SpaceInvaders-v0_weights_802500.h5f.data-00000-of-00001', 'apr_g9_dqn_SpaceInvaders-v0_weights_802500.h5f.index', 'apr_g9_dqn_SpaceInvaders-v0_weights_805000.h5f.data-00000-of-00001', 'apr_g9_dqn_SpaceInvaders-v0_weights_805000.h5f.index', 'apr_g9_dqn_SpaceInvaders-v0_weights_807500.h5f.data-00000-of-00001', 'apr_g9_dqn_SpaceInvaders-v0_weights_807500.h5f.index', 'apr_g9_dqn_SpaceInvaders-v0_weights_810000.h5f.data-00000-of-00001', 'apr_g9_dqn_SpaceInvaders-v0_weights_810000.h5f.index', 'apr_g9_dqn_SpaceInvaders-v0_weights_812500.h5f.data-00000-of-00001', 'apr_g9_dqn_SpaceInvaders-v0_weights_812500.h5f.index', 'apr_g9_dqn_SpaceInvaders-v0_weights_815000.h5f.data-00000-of-00001', 'apr_g9_dqn_SpaceInvaders-v0_weights_815000.h5f.index', 'apr_g9_dqn_SpaceInvaders-v0_weights_817500.h5f.data-00000-of-00001', 'apr_g9_dqn_SpaceInvaders-v0_weights_817500.h5f.index', 'apr_g9_dqn_SpaceInvaders-v0_weights_820000.h5f.data-00000-of-00001', 'apr_g9_dqn_SpaceInvaders-v0_weights_820000.h5f.index', 'apr_g9_dqn_SpaceInvaders-v0_weights_822500.h5f.data-00000-of-00001', 'apr_g9_dqn_SpaceInvaders-v0_weights_822500.h5f.index', 'apr_g9_dqn_SpaceInvaders-v0_weights_82500.h5f.data-00000-of-00001', 'apr_g9_dqn_SpaceInvaders-v0_weights_82500.h5f.index', 'apr_g9_dqn_SpaceInvaders-v0_weights_825000.h5f.data-00000-of-00001', 'apr_g9_dqn_SpaceInvaders-v0_weights_825000.h5f.index', 'apr_g9_dqn_SpaceInvaders-v0_weights_827500.h5f.data-00000-of-00001', 'apr_g9_dqn_SpaceInvaders-v0_weights_827500.h5f.index', 'apr_g9_dqn_SpaceInvaders-v0_weights_830000.h5f.data-00000-of-00001', 'apr_g9_dqn_SpaceInvaders-v0_weights_830000.h5f.index', 'apr_g9_dqn_SpaceInvaders-v0_weights_832500.h5f.data-00000-of-00001', 'apr_g9_dqn_SpaceInvaders-v0_weights_832500.h5f.index', 'apr_g9_dqn_SpaceInvaders-v0_weights_835000.h5f.data-00000-of-00001', 'apr_g9_dqn_SpaceInvaders-v0_weights_835000.h5f.index', 'apr_g9_dqn_SpaceInvaders-v0_weights_837500.h5f.data-00000-of-00001', 'apr_g9_dqn_SpaceInvaders-v0_weights_837500.h5f.index', 'apr_g9_dqn_SpaceInvaders-v0_weights_840000.h5f.data-00000-of-00001', 'apr_g9_dqn_SpaceInvaders-v0_weights_840000.h5f.index', 'apr_g9_dqn_SpaceInvaders-v0_weights_842500.h5f.data-00000-of-00001', 'apr_g9_dqn_SpaceInvaders-v0_weights_842500.h5f.index', 'apr_g9_dqn_SpaceInvaders-v0_weights_845000.h5f.data-00000-of-00001', 'apr_g9_dqn_SpaceInvaders-v0_weights_845000.h5f.index', 'apr_g9_dqn_SpaceInvaders-v0_weights_847500.h5f.data-00000-of-00001', 'apr_g9_dqn_SpaceInvaders-v0_weights_847500.h5f.index', 'apr_g9_dqn_SpaceInvaders-v0_weights_85000.h5f.data-00000-of-00001', 'apr_g9_dqn_SpaceInvaders-v0_weights_85000.h5f.index', 'apr_g9_dqn_SpaceInvaders-v0_weights_850000.h5f.data-00000-of-00001', 'apr_g9_dqn_SpaceInvaders-v0_weights_850000.h5f.index', 'apr_g9_dqn_SpaceInvaders-v0_weights_852500.h5f.data-00000-of-00001', 'apr_g9_dqn_SpaceInvaders-v0_weights_852500.h5f.index', 'apr_g9_dqn_SpaceInvaders-v0_weights_855000.h5f.data-00000-of-00001', 'apr_g9_dqn_SpaceInvaders-v0_weights_855000.h5f.index', 'apr_g9_dqn_SpaceInvaders-v0_weights_857500.h5f.data-00000-of-00001', 'apr_g9_dqn_SpaceInvaders-v0_weights_857500.h5f.index', 'apr_g9_dqn_SpaceInvaders-v0_weights_860000.h5f.data-00000-of-00001', 'apr_g9_dqn_SpaceInvaders-v0_weights_860000.h5f.index', 'apr_g9_dqn_SpaceInvaders-v0_weights_862500.h5f.data-00000-of-00001', 'apr_g9_dqn_SpaceInvaders-v0_weights_862500.h5f.index', 'apr_g9_dqn_SpaceInvaders-v0_weights_865000.h5f.data-00000-of-00001', 'apr_g9_dqn_SpaceInvaders-v0_weights_865000.h5f.index', 'apr_g9_dqn_SpaceInvaders-v0_weights_867500.h5f.data-00000-of-00001', 'apr_g9_dqn_SpaceInvaders-v0_weights_867500.h5f.index', 'apr_g9_dqn_SpaceInvaders-v0_weights_870000.h5f.data-00000-of-00001', 'apr_g9_dqn_SpaceInvaders-v0_weights_870000.h5f.index', 'apr_g9_dqn_SpaceInvaders-v0_weights_872500.h5f.data-00000-of-00001', 'apr_g9_dqn_SpaceInvaders-v0_weights_872500.h5f.index', 'apr_g9_dqn_SpaceInvaders-v0_weights_87500.h5f.data-00000-of-00001', 'apr_g9_dqn_SpaceInvaders-v0_weights_87500.h5f.index', 'apr_g9_dqn_SpaceInvaders-v0_weights_875000.h5f.data-00000-of-00001', 'apr_g9_dqn_SpaceInvaders-v0_weights_875000.h5f.index', 'apr_g9_dqn_SpaceInvaders-v0_weights_877500.h5f.data-00000-of-00001', 'apr_g9_dqn_SpaceInvaders-v0_weights_877500.h5f.index', 'apr_g9_dqn_SpaceInvaders-v0_weights_880000.h5f.data-00000-of-00001', 'apr_g9_dqn_SpaceInvaders-v0_weights_880000.h5f.index', 'apr_g9_dqn_SpaceInvaders-v0_weights_882500.h5f.data-00000-of-00001', 'apr_g9_dqn_SpaceInvaders-v0_weights_882500.h5f.index', 'apr_g9_dqn_SpaceInvaders-v0_weights_885000.h5f.data-00000-of-00001', 'apr_g9_dqn_SpaceInvaders-v0_weights_885000.h5f.index', 'apr_g9_dqn_SpaceInvaders-v0_weights_887500.h5f.data-00000-of-00001', 'apr_g9_dqn_SpaceInvaders-v0_weights_887500.h5f.index', 'apr_g9_dqn_SpaceInvaders-v0_weights_890000.h5f.data-00000-of-00001', 'apr_g9_dqn_SpaceInvaders-v0_weights_890000.h5f.index', 'apr_g9_dqn_SpaceInvaders-v0_weights_892500.h5f.data-00000-of-00001', 'apr_g9_dqn_SpaceInvaders-v0_weights_892500.h5f.index', 'apr_g9_dqn_SpaceInvaders-v0_weights_895000.h5f.data-00000-of-00001', 'apr_g9_dqn_SpaceInvaders-v0_weights_895000.h5f.index', 'apr_g9_dqn_SpaceInvaders-v0_weights_897500.h5f.data-00000-of-00001', 'apr_g9_dqn_SpaceInvaders-v0_weights_897500.h5f.index', 'apr_g9_dqn_SpaceInvaders-v0_weights_90000.h5f.data-00000-of-00001', 'apr_g9_dqn_SpaceInvaders-v0_weights_90000.h5f.index', 'apr_g9_dqn_SpaceInvaders-v0_weights_900000.h5f.data-00000-of-00001', 'apr_g9_dqn_SpaceInvaders-v0_weights_900000.h5f.index', 'apr_g9_dqn_SpaceInvaders-v0_weights_902500.h5f.data-00000-of-00001', 'apr_g9_dqn_SpaceInvaders-v0_weights_902500.h5f.index', 'apr_g9_dqn_SpaceInvaders-v0_weights_905000.h5f.data-00000-of-00001', 'apr_g9_dqn_SpaceInvaders-v0_weights_905000.h5f.index', 'apr_g9_dqn_SpaceInvaders-v0_weights_907500.h5f.data-00000-of-00001', 'apr_g9_dqn_SpaceInvaders-v0_weights_907500.h5f.index', 'apr_g9_dqn_SpaceInvaders-v0_weights_910000.h5f.data-00000-of-00001', 'apr_g9_dqn_SpaceInvaders-v0_weights_910000.h5f.index', 'apr_g9_dqn_SpaceInvaders-v0_weights_912500.h5f.data-00000-of-00001', 'apr_g9_dqn_SpaceInvaders-v0_weights_912500.h5f.index', 'apr_g9_dqn_SpaceInvaders-v0_weights_915000.h5f.data-00000-of-00001', 'apr_g9_dqn_SpaceInvaders-v0_weights_915000.h5f.index', 'apr_g9_dqn_SpaceInvaders-v0_weights_917500.h5f.data-00000-of-00001', 'apr_g9_dqn_SpaceInvaders-v0_weights_917500.h5f.index', 'apr_g9_dqn_SpaceInvaders-v0_weights_920000.h5f.data-00000-of-00001', 'apr_g9_dqn_SpaceInvaders-v0_weights_920000.h5f.index', 'apr_g9_dqn_SpaceInvaders-v0_weights_922500.h5f.data-00000-of-00001', 'apr_g9_dqn_SpaceInvaders-v0_weights_922500.h5f.index', 'apr_g9_dqn_SpaceInvaders-v0_weights_92500.h5f.data-00000-of-00001', 'apr_g9_dqn_SpaceInvaders-v0_weights_92500.h5f.index', 'apr_g9_dqn_SpaceInvaders-v0_weights_925000.h5f.data-00000-of-00001', 'apr_g9_dqn_SpaceInvaders-v0_weights_925000.h5f.index', 'apr_g9_dqn_SpaceInvaders-v0_weights_927500.h5f.data-00000-of-00001', 'apr_g9_dqn_SpaceInvaders-v0_weights_927500.h5f.index', 'apr_g9_dqn_SpaceInvaders-v0_weights_930000.h5f.data-00000-of-00001', 'apr_g9_dqn_SpaceInvaders-v0_weights_930000.h5f.index', 'apr_g9_dqn_SpaceInvaders-v0_weights_932500.h5f.data-00000-of-00001', 'apr_g9_dqn_SpaceInvaders-v0_weights_932500.h5f.index', 'apr_g9_dqn_SpaceInvaders-v0_weights_935000.h5f.data-00000-of-00001', 'apr_g9_dqn_SpaceInvaders-v0_weights_935000.h5f.index', 'apr_g9_dqn_SpaceInvaders-v0_weights_937500.h5f.data-00000-of-00001', 'apr_g9_dqn_SpaceInvaders-v0_weights_937500.h5f.index', 'apr_g9_dqn_SpaceInvaders-v0_weights_940000.h5f.data-00000-of-00001', 'apr_g9_dqn_SpaceInvaders-v0_weights_940000.h5f.index', 'apr_g9_dqn_SpaceInvaders-v0_weights_942500.h5f.data-00000-of-00001', 'apr_g9_dqn_SpaceInvaders-v0_weights_942500.h5f.index', 'apr_g9_dqn_SpaceInvaders-v0_weights_945000.h5f.data-00000-of-00001', 'apr_g9_dqn_SpaceInvaders-v0_weights_945000.h5f.index', 'apr_g9_dqn_SpaceInvaders-v0_weights_947500.h5f.data-00000-of-00001', 'apr_g9_dqn_SpaceInvaders-v0_weights_947500.h5f.index', 'apr_g9_dqn_SpaceInvaders-v0_weights_95000.h5f.data-00000-of-00001', 'apr_g9_dqn_SpaceInvaders-v0_weights_95000.h5f.index', 'apr_g9_dqn_SpaceInvaders-v0_weights_950000.h5f.data-00000-of-00001', 'apr_g9_dqn_SpaceInvaders-v0_weights_950000.h5f.index', 'apr_g9_dqn_SpaceInvaders-v0_weights_952500.h5f.data-00000-of-00001', 'apr_g9_dqn_SpaceInvaders-v0_weights_952500.h5f.index', 'apr_g9_dqn_SpaceInvaders-v0_weights_955000.h5f.data-00000-of-00001', 'apr_g9_dqn_SpaceInvaders-v0_weights_955000.h5f.index', 'apr_g9_dqn_SpaceInvaders-v0_weights_957500.h5f.data-00000-of-00001', 'apr_g9_dqn_SpaceInvaders-v0_weights_957500.h5f.index', 'apr_g9_dqn_SpaceInvaders-v0_weights_960000.h5f.data-00000-of-00001', 'apr_g9_dqn_SpaceInvaders-v0_weights_960000.h5f.index', 'apr_g9_dqn_SpaceInvaders-v0_weights_962500.h5f.data-00000-of-00001', 'apr_g9_dqn_SpaceInvaders-v0_weights_962500.h5f.index', 'apr_g9_dqn_SpaceInvaders-v0_weights_965000.h5f.data-00000-of-00001', 'apr_g9_dqn_SpaceInvaders-v0_weights_965000.h5f.index', 'apr_g9_dqn_SpaceInvaders-v0_weights_967500.h5f.data-00000-of-00001', 'apr_g9_dqn_SpaceInvaders-v0_weights_967500.h5f.index', 'apr_g9_dqn_SpaceInvaders-v0_weights_970000.h5f.data-00000-of-00001', 'apr_g9_dqn_SpaceInvaders-v0_weights_970000.h5f.index', 'apr_g9_dqn_SpaceInvaders-v0_weights_972500.h5f.data-00000-of-00001', 'apr_g9_dqn_SpaceInvaders-v0_weights_972500.h5f.index', 'apr_g9_dqn_SpaceInvaders-v0_weights_97500.h5f.data-00000-of-00001', 'apr_g9_dqn_SpaceInvaders-v0_weights_97500.h5f.index', 'apr_g9_dqn_SpaceInvaders-v0_weights_975000.h5f.data-00000-of-00001', 'apr_g9_dqn_SpaceInvaders-v0_weights_975000.h5f.index', 'apr_g9_dqn_SpaceInvaders-v0_weights_977500.h5f.data-00000-of-00001', 'apr_g9_dqn_SpaceInvaders-v0_weights_977500.h5f.index', 'apr_g9_dqn_SpaceInvaders-v0_weights_980000.h5f.data-00000-of-00001', 'apr_g9_dqn_SpaceInvaders-v0_weights_980000.h5f.index', 'apr_g9_dqn_SpaceInvaders-v0_weights_982500.h5f.data-00000-of-00001', 'apr_g9_dqn_SpaceInvaders-v0_weights_982500.h5f.index', 'apr_g9_dqn_SpaceInvaders-v0_weights_985000.h5f.data-00000-of-00001', 'apr_g9_dqn_SpaceInvaders-v0_weights_985000.h5f.index', 'apr_g9_dqn_SpaceInvaders-v0_weights_987500.h5f.data-00000-of-00001', 'apr_g9_dqn_SpaceInvaders-v0_weights_987500.h5f.index', 'apr_g9_dqn_SpaceInvaders-v0_weights_990000.h5f.data-00000-of-00001', 'apr_g9_dqn_SpaceInvaders-v0_weights_990000.h5f.index', 'apr_g9_dqn_SpaceInvaders-v0_weights_992500.h5f.data-00000-of-00001', 'apr_g9_dqn_SpaceInvaders-v0_weights_992500.h5f.index', 'apr_g9_dqn_SpaceInvaders-v0_weights_995000.h5f.data-00000-of-00001', 'apr_g9_dqn_SpaceInvaders-v0_weights_995000.h5f.index', 'apr_g9_dqn_SpaceInvaders-v0_weights_997500.h5f.data-00000-of-00001', 'apr_g9_dqn_SpaceInvaders-v0_weights_997500.h5f.index', 'APR_Grupo_9.ipynb', 'best_model_weights.h5f.data-00000-of-00001', 'best_model_weights.h5f.index', 'checkpoint', 'README.md']\n"
     ]
    }
   ],
   "source": [
    "# Switch to the directory on the Google Drive that you want to use\n",
    "import os\n",
    "if IN_COLAB:\n",
    "  print(\"We're running Colab\")\n",
    "\n",
    "  if IN_COLAB:\n",
    "    # Mount the Google Drive at mount\n",
    "    print(\"Colab: mounting Google drive on \", mount)\n",
    "\n",
    "    drive.mount(mount)\n",
    "\n",
    "    # Create drive_root if it doesn't exist\n",
    "    create_drive_root = True\n",
    "    if create_drive_root:\n",
    "      print(\"\\nColab: making sure \", drive_root, \" exists.\")\n",
    "      os.makedirs(drive_root, exist_ok=True)\n",
    "\n",
    "    # Change to the directory\n",
    "    print(\"\\nColab: Changing directory to \", drive_root)\n",
    "    %cd $drive_root\n",
    "# Verify we're in the correct working directory\n",
    "%pwd\n",
    "print(\"Archivos en el directorio: \")\n",
    "print(os.listdir())"
   ]
  },
  {
   "cell_type": "markdown",
   "metadata": {
    "id": "i1ZSL5bpJ560"
   },
   "source": [
    "---\n",
    "### 1.4. Instalar librerías necesarias"
   ]
  },
  {
   "cell_type": "code",
   "execution_count": 3,
   "metadata": {
    "colab": {
     "base_uri": "https://localhost:8080/",
     "height": 1000
    },
    "collapsed": true,
    "id": "UbVRjvHCJ8UF",
    "jupyter": {
     "outputs_hidden": true
    },
    "outputId": "fe539761-ae1b-4e9f-95de-9a3cfa9ae8bc",
    "scrolled": true
   },
   "outputs": [
    {
     "name": "stdout",
     "output_type": "stream",
     "text": [
      "Requirement already satisfied: gym==0.17.3 in c:\\users\\dmigl\\anaconda3\\envs\\env_apr_g9\\lib\\site-packages (0.17.3)Note: you may need to restart the kernel to use updated packages.\n",
      "\n",
      "Requirement already satisfied: scipy in c:\\users\\dmigl\\anaconda3\\envs\\env_apr_g9\\lib\\site-packages (from gym==0.17.3) (1.10.1)\n",
      "Requirement already satisfied: numpy>=1.10.4 in c:\\users\\dmigl\\anaconda3\\envs\\env_apr_g9\\lib\\site-packages (from gym==0.17.3) (1.19.5)\n",
      "Requirement already satisfied: pyglet<=1.5.0,>=1.4.0 in c:\\users\\dmigl\\anaconda3\\envs\\env_apr_g9\\lib\\site-packages (from gym==0.17.3) (1.5.0)\n",
      "Requirement already satisfied: cloudpickle<1.7.0,>=1.2.0 in c:\\users\\dmigl\\anaconda3\\envs\\env_apr_g9\\lib\\site-packages (from gym==0.17.3) (1.6.0)\n",
      "Requirement already satisfied: future in c:\\users\\dmigl\\anaconda3\\envs\\env_apr_g9\\lib\\site-packages (from pyglet<=1.5.0,>=1.4.0->gym==0.17.3) (1.0.0)\n",
      "Collecting git+https://github.com/Kojoley/atari-py.git\n",
      "  Cloning https://github.com/Kojoley/atari-py.git to c:\\users\\dmigl\\appdata\\local\\temp\\pip-req-build-7x8nbzoz\n",
      "  Resolved https://github.com/Kojoley/atari-py.git to commit 86a1e05c0a95e9e6233c3a413521fdb34ca8a089\n",
      "  Preparing metadata (setup.py): started\n",
      "  Preparing metadata (setup.py): finished with status 'done'\n",
      "Requirement already satisfied: numpy in c:\\users\\dmigl\\anaconda3\\envs\\env_apr_g9\\lib\\site-packages (from atari-py==1.2.2) (1.19.5)\n",
      "Note: you may need to restart the kernel to use updated packages.\n"
     ]
    },
    {
     "name": "stderr",
     "output_type": "stream",
     "text": [
      "  Running command git clone --filter=blob:none --quiet https://github.com/Kojoley/atari-py.git 'C:\\Users\\dmigl\\AppData\\Local\\Temp\\pip-req-build-7x8nbzoz'\n"
     ]
    },
    {
     "name": "stdout",
     "output_type": "stream",
     "text": [
      "Requirement already satisfied: pyglet==1.5.0 in c:\\users\\dmigl\\anaconda3\\envs\\env_apr_g9\\lib\\site-packages (1.5.0)Note: you may need to restart the kernel to use updated packages.\n",
      "\n",
      "Requirement already satisfied: future in c:\\users\\dmigl\\anaconda3\\envs\\env_apr_g9\\lib\\site-packages (from pyglet==1.5.0) (1.0.0)\n",
      "Requirement already satisfied: h5py==3.1.0 in c:\\users\\dmigl\\anaconda3\\envs\\env_apr_g9\\lib\\site-packages (3.1.0)\n",
      "Requirement already satisfied: numpy>=1.17.5 in c:\\users\\dmigl\\anaconda3\\envs\\env_apr_g9\\lib\\site-packages (from h5py==3.1.0) (1.19.5)\n",
      "Note: you may need to restart the kernel to use updated packages.\n",
      "Requirement already satisfied: Pillow==9.5.0 in c:\\users\\dmigl\\anaconda3\\envs\\env_apr_g9\\lib\\site-packages (9.5.0)\n",
      "Note: you may need to restart the kernel to use updated packages.\n",
      "Requirement already satisfied: keras-rl2==1.0.5 in c:\\users\\dmigl\\anaconda3\\envs\\env_apr_g9\\lib\\site-packages (1.0.5)\n",
      "Requirement already satisfied: tensorflow in c:\\users\\dmigl\\anaconda3\\envs\\env_apr_g9\\lib\\site-packages (from keras-rl2==1.0.5) (2.5.3)\n",
      "Requirement already satisfied: numpy~=1.19.2 in c:\\users\\dmigl\\anaconda3\\envs\\env_apr_g9\\lib\\site-packages (from tensorflow->keras-rl2==1.0.5) (1.19.5)\n",
      "Requirement already satisfied: absl-py~=0.10 in c:\\users\\dmigl\\anaconda3\\envs\\env_apr_g9\\lib\\site-packages (from tensorflow->keras-rl2==1.0.5) (0.15.0)\n",
      "Requirement already satisfied: astunparse~=1.6.3 in c:\\users\\dmigl\\anaconda3\\envs\\env_apr_g9\\lib\\site-packages (from tensorflow->keras-rl2==1.0.5) (1.6.3)\n",
      "Requirement already satisfied: flatbuffers~=1.12.0 in c:\\users\\dmigl\\anaconda3\\envs\\env_apr_g9\\lib\\site-packages (from tensorflow->keras-rl2==1.0.5) (1.12)\n",
      "Requirement already satisfied: google-pasta~=0.2 in c:\\users\\dmigl\\anaconda3\\envs\\env_apr_g9\\lib\\site-packages (from tensorflow->keras-rl2==1.0.5) (0.2.0)\n",
      "Requirement already satisfied: h5py~=3.1.0 in c:\\users\\dmigl\\anaconda3\\envs\\env_apr_g9\\lib\\site-packages (from tensorflow->keras-rl2==1.0.5) (3.1.0)\n",
      "Requirement already satisfied: keras-preprocessing~=1.1.2 in c:\\users\\dmigl\\anaconda3\\envs\\env_apr_g9\\lib\\site-packages (from tensorflow->keras-rl2==1.0.5) (1.1.2)\n",
      "Requirement already satisfied: opt-einsum~=3.3.0 in c:\\users\\dmigl\\anaconda3\\envs\\env_apr_g9\\lib\\site-packages (from tensorflow->keras-rl2==1.0.5) (3.3.0)\n",
      "Requirement already satisfied: protobuf>=3.9.2 in c:\\users\\dmigl\\anaconda3\\envs\\env_apr_g9\\lib\\site-packages (from tensorflow->keras-rl2==1.0.5) (3.20.3)\n",
      "Requirement already satisfied: six~=1.15.0 in c:\\users\\dmigl\\anaconda3\\envs\\env_apr_g9\\lib\\site-packages (from tensorflow->keras-rl2==1.0.5) (1.15.0)\n",
      "Requirement already satisfied: termcolor~=1.1.0 in c:\\users\\dmigl\\anaconda3\\envs\\env_apr_g9\\lib\\site-packages (from tensorflow->keras-rl2==1.0.5) (1.1.0)\n",
      "Requirement already satisfied: typing-extensions~=3.7.4 in c:\\users\\dmigl\\anaconda3\\envs\\env_apr_g9\\lib\\site-packages (from tensorflow->keras-rl2==1.0.5) (3.7.4.3)\n",
      "Requirement already satisfied: wheel~=0.35 in c:\\users\\dmigl\\anaconda3\\envs\\env_apr_g9\\lib\\site-packages (from tensorflow->keras-rl2==1.0.5) (0.44.0)\n",
      "Requirement already satisfied: wrapt~=1.12.1 in c:\\users\\dmigl\\anaconda3\\envs\\env_apr_g9\\lib\\site-packages (from tensorflow->keras-rl2==1.0.5) (1.12.1)\n",
      "Requirement already satisfied: gast==0.4.0 in c:\\users\\dmigl\\anaconda3\\envs\\env_apr_g9\\lib\\site-packages (from tensorflow->keras-rl2==1.0.5) (0.4.0)\n",
      "Requirement already satisfied: tensorboard~=2.5 in c:\\users\\dmigl\\anaconda3\\envs\\env_apr_g9\\lib\\site-packages (from tensorflow->keras-rl2==1.0.5) (2.11.2)\n",
      "Requirement already satisfied: tensorflow-estimator<2.6.0,>=2.5.0 in c:\\users\\dmigl\\anaconda3\\envs\\env_apr_g9\\lib\\site-packages (from tensorflow->keras-rl2==1.0.5) (2.5.0)\n",
      "Requirement already satisfied: keras-nightly~=2.5.0.dev in c:\\users\\dmigl\\anaconda3\\envs\\env_apr_g9\\lib\\site-packages (from tensorflow->keras-rl2==1.0.5) (2.5.0.dev2021032900)\n",
      "Requirement already satisfied: grpcio~=1.34.0 in c:\\users\\dmigl\\anaconda3\\envs\\env_apr_g9\\lib\\site-packages (from tensorflow->keras-rl2==1.0.5) (1.34.1)\n",
      "Requirement already satisfied: google-auth<3,>=1.6.3 in c:\\users\\dmigl\\anaconda3\\envs\\env_apr_g9\\lib\\site-packages (from tensorboard~=2.5->tensorflow->keras-rl2==1.0.5) (2.40.3)\n",
      "Requirement already satisfied: google-auth-oauthlib<0.5,>=0.4.1 in c:\\users\\dmigl\\anaconda3\\envs\\env_apr_g9\\lib\\site-packages (from tensorboard~=2.5->tensorflow->keras-rl2==1.0.5) (0.4.6)\n",
      "Requirement already satisfied: markdown>=2.6.8 in c:\\users\\dmigl\\anaconda3\\envs\\env_apr_g9\\lib\\site-packages (from tensorboard~=2.5->tensorflow->keras-rl2==1.0.5) (3.7)\n",
      "Requirement already satisfied: requests<3,>=2.21.0 in c:\\users\\dmigl\\anaconda3\\envs\\env_apr_g9\\lib\\site-packages (from tensorboard~=2.5->tensorflow->keras-rl2==1.0.5) (2.32.4)\n",
      "Requirement already satisfied: setuptools>=41.0.0 in c:\\users\\dmigl\\anaconda3\\envs\\env_apr_g9\\lib\\site-packages (from tensorboard~=2.5->tensorflow->keras-rl2==1.0.5) (75.3.2)\n",
      "Requirement already satisfied: tensorboard-data-server<0.7.0,>=0.6.0 in c:\\users\\dmigl\\anaconda3\\envs\\env_apr_g9\\lib\\site-packages (from tensorboard~=2.5->tensorflow->keras-rl2==1.0.5) (0.6.1)\n",
      "Requirement already satisfied: tensorboard-plugin-wit>=1.6.0 in c:\\users\\dmigl\\anaconda3\\envs\\env_apr_g9\\lib\\site-packages (from tensorboard~=2.5->tensorflow->keras-rl2==1.0.5) (1.8.1)\n",
      "Requirement already satisfied: werkzeug>=1.0.1 in c:\\users\\dmigl\\anaconda3\\envs\\env_apr_g9\\lib\\site-packages (from tensorboard~=2.5->tensorflow->keras-rl2==1.0.5) (3.0.6)\n",
      "Requirement already satisfied: cachetools<6.0,>=2.0.0 in c:\\users\\dmigl\\anaconda3\\envs\\env_apr_g9\\lib\\site-packages (from google-auth<3,>=1.6.3->tensorboard~=2.5->tensorflow->keras-rl2==1.0.5) (5.5.2)\n",
      "Requirement already satisfied: pyasn1-modules>=0.2.1 in c:\\users\\dmigl\\anaconda3\\envs\\env_apr_g9\\lib\\site-packages (from google-auth<3,>=1.6.3->tensorboard~=2.5->tensorflow->keras-rl2==1.0.5) (0.4.2)\n",
      "Requirement already satisfied: rsa<5,>=3.1.4 in c:\\users\\dmigl\\anaconda3\\envs\\env_apr_g9\\lib\\site-packages (from google-auth<3,>=1.6.3->tensorboard~=2.5->tensorflow->keras-rl2==1.0.5) (4.9.1)\n",
      "Requirement already satisfied: requests-oauthlib>=0.7.0 in c:\\users\\dmigl\\anaconda3\\envs\\env_apr_g9\\lib\\site-packages (from google-auth-oauthlib<0.5,>=0.4.1->tensorboard~=2.5->tensorflow->keras-rl2==1.0.5) (2.0.0)\n",
      "Requirement already satisfied: importlib-metadata>=4.4 in c:\\users\\dmigl\\anaconda3\\envs\\env_apr_g9\\lib\\site-packages (from markdown>=2.6.8->tensorboard~=2.5->tensorflow->keras-rl2==1.0.5) (8.5.0)\n",
      "Requirement already satisfied: charset_normalizer<4,>=2 in c:\\users\\dmigl\\anaconda3\\envs\\env_apr_g9\\lib\\site-packages (from requests<3,>=2.21.0->tensorboard~=2.5->tensorflow->keras-rl2==1.0.5) (3.4.2)\n",
      "Requirement already satisfied: idna<4,>=2.5 in c:\\users\\dmigl\\anaconda3\\envs\\env_apr_g9\\lib\\site-packages (from requests<3,>=2.21.0->tensorboard~=2.5->tensorflow->keras-rl2==1.0.5) (3.10)\n",
      "Requirement already satisfied: urllib3<3,>=1.21.1 in c:\\users\\dmigl\\anaconda3\\envs\\env_apr_g9\\lib\\site-packages (from requests<3,>=2.21.0->tensorboard~=2.5->tensorflow->keras-rl2==1.0.5) (2.2.3)\n",
      "Requirement already satisfied: certifi>=2017.4.17 in c:\\users\\dmigl\\anaconda3\\envs\\env_apr_g9\\lib\\site-packages (from requests<3,>=2.21.0->tensorboard~=2.5->tensorflow->keras-rl2==1.0.5) (2025.6.15)\n",
      "Requirement already satisfied: MarkupSafe>=2.1.1 in c:\\users\\dmigl\\anaconda3\\envs\\env_apr_g9\\lib\\site-packages (from werkzeug>=1.0.1->tensorboard~=2.5->tensorflow->keras-rl2==1.0.5) (2.1.5)\n",
      "Requirement already satisfied: zipp>=3.20 in c:\\users\\dmigl\\anaconda3\\envs\\env_apr_g9\\lib\\site-packages (from importlib-metadata>=4.4->markdown>=2.6.8->tensorboard~=2.5->tensorflow->keras-rl2==1.0.5) (3.20.2)\n",
      "Requirement already satisfied: pyasn1<0.7.0,>=0.6.1 in c:\\users\\dmigl\\anaconda3\\envs\\env_apr_g9\\lib\\site-packages (from pyasn1-modules>=0.2.1->google-auth<3,>=1.6.3->tensorboard~=2.5->tensorflow->keras-rl2==1.0.5) (0.6.1)\n",
      "Requirement already satisfied: oauthlib>=3.0.0 in c:\\users\\dmigl\\anaconda3\\envs\\env_apr_g9\\lib\\site-packages (from requests-oauthlib>=0.7.0->google-auth-oauthlib<0.5,>=0.4.1->tensorboard~=2.5->tensorflow->keras-rl2==1.0.5) (3.2.2)\n",
      "Note: you may need to restart the kernel to use updated packages.\n",
      "Requirement already satisfied: Keras==2.2.4 in c:\\users\\dmigl\\anaconda3\\envs\\env_apr_g9\\lib\\site-packages (2.2.4)\n",
      "Requirement already satisfied: numpy>=1.9.1 in c:\\users\\dmigl\\anaconda3\\envs\\env_apr_g9\\lib\\site-packages (from Keras==2.2.4) (1.19.5)\n",
      "Requirement already satisfied: scipy>=0.14 in c:\\users\\dmigl\\anaconda3\\envs\\env_apr_g9\\lib\\site-packages (from Keras==2.2.4) (1.10.1)\n",
      "Requirement already satisfied: six>=1.9.0 in c:\\users\\dmigl\\anaconda3\\envs\\env_apr_g9\\lib\\site-packages (from Keras==2.2.4) (1.15.0)\n",
      "Requirement already satisfied: pyyaml in c:\\users\\dmigl\\anaconda3\\envs\\env_apr_g9\\lib\\site-packages (from Keras==2.2.4) (6.0.2)\n",
      "Requirement already satisfied: h5py in c:\\users\\dmigl\\anaconda3\\envs\\env_apr_g9\\lib\\site-packages (from Keras==2.2.4) (3.1.0)\n",
      "Requirement already satisfied: keras-applications>=1.0.6 in c:\\users\\dmigl\\anaconda3\\envs\\env_apr_g9\\lib\\site-packages (from Keras==2.2.4) (1.0.8)\n",
      "Requirement already satisfied: keras-preprocessing>=1.0.5 in c:\\users\\dmigl\\anaconda3\\envs\\env_apr_g9\\lib\\site-packages (from Keras==2.2.4) (1.1.2)\n",
      "Note: you may need to restart the kernel to use updated packages.\n",
      "Requirement already satisfied: tensorflow==2.5.3 in c:\\users\\dmigl\\anaconda3\\envs\\env_apr_g9\\lib\\site-packages (2.5.3)\n",
      "Requirement already satisfied: numpy~=1.19.2 in c:\\users\\dmigl\\anaconda3\\envs\\env_apr_g9\\lib\\site-packages (from tensorflow==2.5.3) (1.19.5)\n",
      "Requirement already satisfied: absl-py~=0.10 in c:\\users\\dmigl\\anaconda3\\envs\\env_apr_g9\\lib\\site-packages (from tensorflow==2.5.3) (0.15.0)\n",
      "Requirement already satisfied: astunparse~=1.6.3 in c:\\users\\dmigl\\anaconda3\\envs\\env_apr_g9\\lib\\site-packages (from tensorflow==2.5.3) (1.6.3)\n",
      "Requirement already satisfied: flatbuffers~=1.12.0 in c:\\users\\dmigl\\anaconda3\\envs\\env_apr_g9\\lib\\site-packages (from tensorflow==2.5.3) (1.12)\n",
      "Requirement already satisfied: google-pasta~=0.2 in c:\\users\\dmigl\\anaconda3\\envs\\env_apr_g9\\lib\\site-packages (from tensorflow==2.5.3) (0.2.0)\n",
      "Requirement already satisfied: h5py~=3.1.0 in c:\\users\\dmigl\\anaconda3\\envs\\env_apr_g9\\lib\\site-packages (from tensorflow==2.5.3) (3.1.0)\n",
      "Requirement already satisfied: keras-preprocessing~=1.1.2 in c:\\users\\dmigl\\anaconda3\\envs\\env_apr_g9\\lib\\site-packages (from tensorflow==2.5.3) (1.1.2)\n",
      "Requirement already satisfied: opt-einsum~=3.3.0 in c:\\users\\dmigl\\anaconda3\\envs\\env_apr_g9\\lib\\site-packages (from tensorflow==2.5.3) (3.3.0)\n",
      "Requirement already satisfied: protobuf>=3.9.2 in c:\\users\\dmigl\\anaconda3\\envs\\env_apr_g9\\lib\\site-packages (from tensorflow==2.5.3) (3.20.3)\n",
      "Requirement already satisfied: six~=1.15.0 in c:\\users\\dmigl\\anaconda3\\envs\\env_apr_g9\\lib\\site-packages (from tensorflow==2.5.3) (1.15.0)\n",
      "Requirement already satisfied: termcolor~=1.1.0 in c:\\users\\dmigl\\anaconda3\\envs\\env_apr_g9\\lib\\site-packages (from tensorflow==2.5.3) (1.1.0)\n",
      "Requirement already satisfied: typing-extensions~=3.7.4 in c:\\users\\dmigl\\anaconda3\\envs\\env_apr_g9\\lib\\site-packages (from tensorflow==2.5.3) (3.7.4.3)\n",
      "Requirement already satisfied: wheel~=0.35 in c:\\users\\dmigl\\anaconda3\\envs\\env_apr_g9\\lib\\site-packages (from tensorflow==2.5.3) (0.44.0)\n",
      "Requirement already satisfied: wrapt~=1.12.1 in c:\\users\\dmigl\\anaconda3\\envs\\env_apr_g9\\lib\\site-packages (from tensorflow==2.5.3) (1.12.1)\n",
      "Requirement already satisfied: gast==0.4.0 in c:\\users\\dmigl\\anaconda3\\envs\\env_apr_g9\\lib\\site-packages (from tensorflow==2.5.3) (0.4.0)\n",
      "Requirement already satisfied: tensorboard~=2.5 in c:\\users\\dmigl\\anaconda3\\envs\\env_apr_g9\\lib\\site-packages (from tensorflow==2.5.3) (2.11.2)\n",
      "Requirement already satisfied: tensorflow-estimator<2.6.0,>=2.5.0 in c:\\users\\dmigl\\anaconda3\\envs\\env_apr_g9\\lib\\site-packages (from tensorflow==2.5.3) (2.5.0)\n",
      "Requirement already satisfied: keras-nightly~=2.5.0.dev in c:\\users\\dmigl\\anaconda3\\envs\\env_apr_g9\\lib\\site-packages (from tensorflow==2.5.3) (2.5.0.dev2021032900)\n",
      "Requirement already satisfied: grpcio~=1.34.0 in c:\\users\\dmigl\\anaconda3\\envs\\env_apr_g9\\lib\\site-packages (from tensorflow==2.5.3) (1.34.1)\n",
      "Requirement already satisfied: google-auth<3,>=1.6.3 in c:\\users\\dmigl\\anaconda3\\envs\\env_apr_g9\\lib\\site-packages (from tensorboard~=2.5->tensorflow==2.5.3) (2.40.3)\n",
      "Requirement already satisfied: google-auth-oauthlib<0.5,>=0.4.1 in c:\\users\\dmigl\\anaconda3\\envs\\env_apr_g9\\lib\\site-packages (from tensorboard~=2.5->tensorflow==2.5.3) (0.4.6)\n",
      "Requirement already satisfied: markdown>=2.6.8 in c:\\users\\dmigl\\anaconda3\\envs\\env_apr_g9\\lib\\site-packages (from tensorboard~=2.5->tensorflow==2.5.3) (3.7)\n",
      "Requirement already satisfied: requests<3,>=2.21.0 in c:\\users\\dmigl\\anaconda3\\envs\\env_apr_g9\\lib\\site-packages (from tensorboard~=2.5->tensorflow==2.5.3) (2.32.4)\n",
      "Requirement already satisfied: setuptools>=41.0.0 in c:\\users\\dmigl\\anaconda3\\envs\\env_apr_g9\\lib\\site-packages (from tensorboard~=2.5->tensorflow==2.5.3) (75.3.2)\n",
      "Requirement already satisfied: tensorboard-data-server<0.7.0,>=0.6.0 in c:\\users\\dmigl\\anaconda3\\envs\\env_apr_g9\\lib\\site-packages (from tensorboard~=2.5->tensorflow==2.5.3) (0.6.1)\n",
      "Requirement already satisfied: tensorboard-plugin-wit>=1.6.0 in c:\\users\\dmigl\\anaconda3\\envs\\env_apr_g9\\lib\\site-packages (from tensorboard~=2.5->tensorflow==2.5.3) (1.8.1)\n",
      "Requirement already satisfied: werkzeug>=1.0.1 in c:\\users\\dmigl\\anaconda3\\envs\\env_apr_g9\\lib\\site-packages (from tensorboard~=2.5->tensorflow==2.5.3) (3.0.6)\n",
      "Requirement already satisfied: cachetools<6.0,>=2.0.0 in c:\\users\\dmigl\\anaconda3\\envs\\env_apr_g9\\lib\\site-packages (from google-auth<3,>=1.6.3->tensorboard~=2.5->tensorflow==2.5.3) (5.5.2)\n",
      "Requirement already satisfied: pyasn1-modules>=0.2.1 in c:\\users\\dmigl\\anaconda3\\envs\\env_apr_g9\\lib\\site-packages (from google-auth<3,>=1.6.3->tensorboard~=2.5->tensorflow==2.5.3) (0.4.2)\n",
      "Requirement already satisfied: rsa<5,>=3.1.4 in c:\\users\\dmigl\\anaconda3\\envs\\env_apr_g9\\lib\\site-packages (from google-auth<3,>=1.6.3->tensorboard~=2.5->tensorflow==2.5.3) (4.9.1)\n",
      "Requirement already satisfied: requests-oauthlib>=0.7.0 in c:\\users\\dmigl\\anaconda3\\envs\\env_apr_g9\\lib\\site-packages (from google-auth-oauthlib<0.5,>=0.4.1->tensorboard~=2.5->tensorflow==2.5.3) (2.0.0)\n",
      "Requirement already satisfied: importlib-metadata>=4.4 in c:\\users\\dmigl\\anaconda3\\envs\\env_apr_g9\\lib\\site-packages (from markdown>=2.6.8->tensorboard~=2.5->tensorflow==2.5.3) (8.5.0)\n",
      "Requirement already satisfied: charset_normalizer<4,>=2 in c:\\users\\dmigl\\anaconda3\\envs\\env_apr_g9\\lib\\site-packages (from requests<3,>=2.21.0->tensorboard~=2.5->tensorflow==2.5.3) (3.4.2)\n",
      "Requirement already satisfied: idna<4,>=2.5 in c:\\users\\dmigl\\anaconda3\\envs\\env_apr_g9\\lib\\site-packages (from requests<3,>=2.21.0->tensorboard~=2.5->tensorflow==2.5.3) (3.10)\n",
      "Requirement already satisfied: urllib3<3,>=1.21.1 in c:\\users\\dmigl\\anaconda3\\envs\\env_apr_g9\\lib\\site-packages (from requests<3,>=2.21.0->tensorboard~=2.5->tensorflow==2.5.3) (2.2.3)\n",
      "Requirement already satisfied: certifi>=2017.4.17 in c:\\users\\dmigl\\anaconda3\\envs\\env_apr_g9\\lib\\site-packages (from requests<3,>=2.21.0->tensorboard~=2.5->tensorflow==2.5.3) (2025.6.15)\n",
      "Requirement already satisfied: MarkupSafe>=2.1.1 in c:\\users\\dmigl\\anaconda3\\envs\\env_apr_g9\\lib\\site-packages (from werkzeug>=1.0.1->tensorboard~=2.5->tensorflow==2.5.3) (2.1.5)\n",
      "Requirement already satisfied: zipp>=3.20 in c:\\users\\dmigl\\anaconda3\\envs\\env_apr_g9\\lib\\site-packages (from importlib-metadata>=4.4->markdown>=2.6.8->tensorboard~=2.5->tensorflow==2.5.3) (3.20.2)\n",
      "Requirement already satisfied: pyasn1<0.7.0,>=0.6.1 in c:\\users\\dmigl\\anaconda3\\envs\\env_apr_g9\\lib\\site-packages (from pyasn1-modules>=0.2.1->google-auth<3,>=1.6.3->tensorboard~=2.5->tensorflow==2.5.3) (0.6.1)\n",
      "Requirement already satisfied: oauthlib>=3.0.0 in c:\\users\\dmigl\\anaconda3\\envs\\env_apr_g9\\lib\\site-packages (from requests-oauthlib>=0.7.0->google-auth-oauthlib<0.5,>=0.4.1->tensorboard~=2.5->tensorflow==2.5.3) (3.2.2)\n",
      "Note: you may need to restart the kernel to use updated packages.\n",
      "Requirement already satisfied: torch==2.0.1 in c:\\users\\dmigl\\anaconda3\\envs\\env_apr_g9\\lib\\site-packages (2.0.1)\n",
      "Requirement already satisfied: filelock in c:\\users\\dmigl\\anaconda3\\envs\\env_apr_g9\\lib\\site-packages (from torch==2.0.1) (3.16.1)\n",
      "Requirement already satisfied: typing-extensions in c:\\users\\dmigl\\anaconda3\\envs\\env_apr_g9\\lib\\site-packages (from torch==2.0.1) (3.7.4.3)\n",
      "Requirement already satisfied: sympy in c:\\users\\dmigl\\anaconda3\\envs\\env_apr_g9\\lib\\site-packages (from torch==2.0.1) (1.13.3)\n",
      "Requirement already satisfied: networkx in c:\\users\\dmigl\\anaconda3\\envs\\env_apr_g9\\lib\\site-packages (from torch==2.0.1) (3.1)\n",
      "Requirement already satisfied: jinja2 in c:\\users\\dmigl\\anaconda3\\envs\\env_apr_g9\\lib\\site-packages (from torch==2.0.1) (3.1.6)\n",
      "Requirement already satisfied: MarkupSafe>=2.0 in c:\\users\\dmigl\\anaconda3\\envs\\env_apr_g9\\lib\\site-packages (from jinja2->torch==2.0.1) (2.1.5)\n",
      "Requirement already satisfied: mpmath<1.4,>=1.1.0 in c:\\users\\dmigl\\anaconda3\\envs\\env_apr_g9\\lib\\site-packages (from sympy->torch==2.0.1) (1.3.0)\n",
      "Note: you may need to restart the kernel to use updated packages.\n",
      "Requirement already satisfied: agents==1.4.0 in c:\\users\\dmigl\\anaconda3\\envs\\env_apr_g9\\lib\\site-packages (1.4.0)\n",
      "Requirement already satisfied: tensorflow in c:\\users\\dmigl\\anaconda3\\envs\\env_apr_g9\\lib\\site-packages (from agents==1.4.0) (2.5.3)\n",
      "Requirement already satisfied: gym in c:\\users\\dmigl\\anaconda3\\envs\\env_apr_g9\\lib\\site-packages (from agents==1.4.0) (0.17.3)\n",
      "Requirement already satisfied: ruamel.yaml in c:\\users\\dmigl\\anaconda3\\envs\\env_apr_g9\\lib\\site-packages (from agents==1.4.0) (0.18.14)\n",
      "Requirement already satisfied: scipy in c:\\users\\dmigl\\anaconda3\\envs\\env_apr_g9\\lib\\site-packages (from gym->agents==1.4.0) (1.10.1)\n",
      "Requirement already satisfied: numpy>=1.10.4 in c:\\users\\dmigl\\anaconda3\\envs\\env_apr_g9\\lib\\site-packages (from gym->agents==1.4.0) (1.19.5)\n",
      "Requirement already satisfied: pyglet<=1.5.0,>=1.4.0 in c:\\users\\dmigl\\anaconda3\\envs\\env_apr_g9\\lib\\site-packages (from gym->agents==1.4.0) (1.5.0)\n",
      "Requirement already satisfied: cloudpickle<1.7.0,>=1.2.0 in c:\\users\\dmigl\\anaconda3\\envs\\env_apr_g9\\lib\\site-packages (from gym->agents==1.4.0) (1.6.0)\n",
      "Requirement already satisfied: ruamel.yaml.clib>=0.2.7 in c:\\users\\dmigl\\anaconda3\\envs\\env_apr_g9\\lib\\site-packages (from ruamel.yaml->agents==1.4.0) (0.2.8)\n",
      "Requirement already satisfied: absl-py~=0.10 in c:\\users\\dmigl\\anaconda3\\envs\\env_apr_g9\\lib\\site-packages (from tensorflow->agents==1.4.0) (0.15.0)\n",
      "Requirement already satisfied: astunparse~=1.6.3 in c:\\users\\dmigl\\anaconda3\\envs\\env_apr_g9\\lib\\site-packages (from tensorflow->agents==1.4.0) (1.6.3)\n",
      "Requirement already satisfied: flatbuffers~=1.12.0 in c:\\users\\dmigl\\anaconda3\\envs\\env_apr_g9\\lib\\site-packages (from tensorflow->agents==1.4.0) (1.12)\n",
      "Requirement already satisfied: google-pasta~=0.2 in c:\\users\\dmigl\\anaconda3\\envs\\env_apr_g9\\lib\\site-packages (from tensorflow->agents==1.4.0) (0.2.0)\n",
      "Requirement already satisfied: h5py~=3.1.0 in c:\\users\\dmigl\\anaconda3\\envs\\env_apr_g9\\lib\\site-packages (from tensorflow->agents==1.4.0) (3.1.0)\n",
      "Requirement already satisfied: keras-preprocessing~=1.1.2 in c:\\users\\dmigl\\anaconda3\\envs\\env_apr_g9\\lib\\site-packages (from tensorflow->agents==1.4.0) (1.1.2)\n",
      "Requirement already satisfied: opt-einsum~=3.3.0 in c:\\users\\dmigl\\anaconda3\\envs\\env_apr_g9\\lib\\site-packages (from tensorflow->agents==1.4.0) (3.3.0)\n",
      "Requirement already satisfied: protobuf>=3.9.2 in c:\\users\\dmigl\\anaconda3\\envs\\env_apr_g9\\lib\\site-packages (from tensorflow->agents==1.4.0) (3.20.3)\n",
      "Requirement already satisfied: six~=1.15.0 in c:\\users\\dmigl\\anaconda3\\envs\\env_apr_g9\\lib\\site-packages (from tensorflow->agents==1.4.0) (1.15.0)\n",
      "Requirement already satisfied: termcolor~=1.1.0 in c:\\users\\dmigl\\anaconda3\\envs\\env_apr_g9\\lib\\site-packages (from tensorflow->agents==1.4.0) (1.1.0)\n",
      "Requirement already satisfied: typing-extensions~=3.7.4 in c:\\users\\dmigl\\anaconda3\\envs\\env_apr_g9\\lib\\site-packages (from tensorflow->agents==1.4.0) (3.7.4.3)\n",
      "Requirement already satisfied: wheel~=0.35 in c:\\users\\dmigl\\anaconda3\\envs\\env_apr_g9\\lib\\site-packages (from tensorflow->agents==1.4.0) (0.44.0)\n",
      "Requirement already satisfied: wrapt~=1.12.1 in c:\\users\\dmigl\\anaconda3\\envs\\env_apr_g9\\lib\\site-packages (from tensorflow->agents==1.4.0) (1.12.1)\n",
      "Requirement already satisfied: gast==0.4.0 in c:\\users\\dmigl\\anaconda3\\envs\\env_apr_g9\\lib\\site-packages (from tensorflow->agents==1.4.0) (0.4.0)\n",
      "Requirement already satisfied: tensorboard~=2.5 in c:\\users\\dmigl\\anaconda3\\envs\\env_apr_g9\\lib\\site-packages (from tensorflow->agents==1.4.0) (2.11.2)\n",
      "Requirement already satisfied: tensorflow-estimator<2.6.0,>=2.5.0 in c:\\users\\dmigl\\anaconda3\\envs\\env_apr_g9\\lib\\site-packages (from tensorflow->agents==1.4.0) (2.5.0)\n",
      "Requirement already satisfied: keras-nightly~=2.5.0.dev in c:\\users\\dmigl\\anaconda3\\envs\\env_apr_g9\\lib\\site-packages (from tensorflow->agents==1.4.0) (2.5.0.dev2021032900)\n",
      "Requirement already satisfied: grpcio~=1.34.0 in c:\\users\\dmigl\\anaconda3\\envs\\env_apr_g9\\lib\\site-packages (from tensorflow->agents==1.4.0) (1.34.1)\n",
      "Requirement already satisfied: future in c:\\users\\dmigl\\anaconda3\\envs\\env_apr_g9\\lib\\site-packages (from pyglet<=1.5.0,>=1.4.0->gym->agents==1.4.0) (1.0.0)\n",
      "Requirement already satisfied: google-auth<3,>=1.6.3 in c:\\users\\dmigl\\anaconda3\\envs\\env_apr_g9\\lib\\site-packages (from tensorboard~=2.5->tensorflow->agents==1.4.0) (2.40.3)\n",
      "Requirement already satisfied: google-auth-oauthlib<0.5,>=0.4.1 in c:\\users\\dmigl\\anaconda3\\envs\\env_apr_g9\\lib\\site-packages (from tensorboard~=2.5->tensorflow->agents==1.4.0) (0.4.6)\n",
      "Requirement already satisfied: markdown>=2.6.8 in c:\\users\\dmigl\\anaconda3\\envs\\env_apr_g9\\lib\\site-packages (from tensorboard~=2.5->tensorflow->agents==1.4.0) (3.7)\n",
      "Requirement already satisfied: requests<3,>=2.21.0 in c:\\users\\dmigl\\anaconda3\\envs\\env_apr_g9\\lib\\site-packages (from tensorboard~=2.5->tensorflow->agents==1.4.0) (2.32.4)\n",
      "Requirement already satisfied: setuptools>=41.0.0 in c:\\users\\dmigl\\anaconda3\\envs\\env_apr_g9\\lib\\site-packages (from tensorboard~=2.5->tensorflow->agents==1.4.0) (75.3.2)\n",
      "Requirement already satisfied: tensorboard-data-server<0.7.0,>=0.6.0 in c:\\users\\dmigl\\anaconda3\\envs\\env_apr_g9\\lib\\site-packages (from tensorboard~=2.5->tensorflow->agents==1.4.0) (0.6.1)\n",
      "Requirement already satisfied: tensorboard-plugin-wit>=1.6.0 in c:\\users\\dmigl\\anaconda3\\envs\\env_apr_g9\\lib\\site-packages (from tensorboard~=2.5->tensorflow->agents==1.4.0) (1.8.1)\n",
      "Requirement already satisfied: werkzeug>=1.0.1 in c:\\users\\dmigl\\anaconda3\\envs\\env_apr_g9\\lib\\site-packages (from tensorboard~=2.5->tensorflow->agents==1.4.0) (3.0.6)\n",
      "Requirement already satisfied: cachetools<6.0,>=2.0.0 in c:\\users\\dmigl\\anaconda3\\envs\\env_apr_g9\\lib\\site-packages (from google-auth<3,>=1.6.3->tensorboard~=2.5->tensorflow->agents==1.4.0) (5.5.2)\n",
      "Requirement already satisfied: pyasn1-modules>=0.2.1 in c:\\users\\dmigl\\anaconda3\\envs\\env_apr_g9\\lib\\site-packages (from google-auth<3,>=1.6.3->tensorboard~=2.5->tensorflow->agents==1.4.0) (0.4.2)\n",
      "Requirement already satisfied: rsa<5,>=3.1.4 in c:\\users\\dmigl\\anaconda3\\envs\\env_apr_g9\\lib\\site-packages (from google-auth<3,>=1.6.3->tensorboard~=2.5->tensorflow->agents==1.4.0) (4.9.1)\n",
      "Requirement already satisfied: requests-oauthlib>=0.7.0 in c:\\users\\dmigl\\anaconda3\\envs\\env_apr_g9\\lib\\site-packages (from google-auth-oauthlib<0.5,>=0.4.1->tensorboard~=2.5->tensorflow->agents==1.4.0) (2.0.0)\n",
      "Requirement already satisfied: importlib-metadata>=4.4 in c:\\users\\dmigl\\anaconda3\\envs\\env_apr_g9\\lib\\site-packages (from markdown>=2.6.8->tensorboard~=2.5->tensorflow->agents==1.4.0) (8.5.0)\n",
      "Requirement already satisfied: charset_normalizer<4,>=2 in c:\\users\\dmigl\\anaconda3\\envs\\env_apr_g9\\lib\\site-packages (from requests<3,>=2.21.0->tensorboard~=2.5->tensorflow->agents==1.4.0) (3.4.2)\n",
      "Requirement already satisfied: idna<4,>=2.5 in c:\\users\\dmigl\\anaconda3\\envs\\env_apr_g9\\lib\\site-packages (from requests<3,>=2.21.0->tensorboard~=2.5->tensorflow->agents==1.4.0) (3.10)\n",
      "Requirement already satisfied: urllib3<3,>=1.21.1 in c:\\users\\dmigl\\anaconda3\\envs\\env_apr_g9\\lib\\site-packages (from requests<3,>=2.21.0->tensorboard~=2.5->tensorflow->agents==1.4.0) (2.2.3)\n",
      "Requirement already satisfied: certifi>=2017.4.17 in c:\\users\\dmigl\\anaconda3\\envs\\env_apr_g9\\lib\\site-packages (from requests<3,>=2.21.0->tensorboard~=2.5->tensorflow->agents==1.4.0) (2025.6.15)\n",
      "Requirement already satisfied: MarkupSafe>=2.1.1 in c:\\users\\dmigl\\anaconda3\\envs\\env_apr_g9\\lib\\site-packages (from werkzeug>=1.0.1->tensorboard~=2.5->tensorflow->agents==1.4.0) (2.1.5)\n",
      "Requirement already satisfied: zipp>=3.20 in c:\\users\\dmigl\\anaconda3\\envs\\env_apr_g9\\lib\\site-packages (from importlib-metadata>=4.4->markdown>=2.6.8->tensorboard~=2.5->tensorflow->agents==1.4.0) (3.20.2)\n",
      "Requirement already satisfied: pyasn1<0.7.0,>=0.6.1 in c:\\users\\dmigl\\anaconda3\\envs\\env_apr_g9\\lib\\site-packages (from pyasn1-modules>=0.2.1->google-auth<3,>=1.6.3->tensorboard~=2.5->tensorflow->agents==1.4.0) (0.6.1)\n",
      "Requirement already satisfied: oauthlib>=3.0.0 in c:\\users\\dmigl\\anaconda3\\envs\\env_apr_g9\\lib\\site-packages (from requests-oauthlib>=0.7.0->google-auth-oauthlib<0.5,>=0.4.1->tensorboard~=2.5->tensorflow->agents==1.4.0) (3.2.2)\n",
      "Note: you may need to restart the kernel to use updated packages.\n"
     ]
    }
   ],
   "source": [
    "# ejecutar solo la primera vez..\n",
    "\n",
    "if IN_COLAB:\n",
    "  %pip install gym==0.17.3\n",
    "  %pip install git+https://github.com/Kojoley/atari-py.git\n",
    "  %pip install keras-rl2==1.0.5\n",
    "  %pip install tensorflow==2.12\n",
    "else:\n",
    "  %pip install gym==0.17.3\n",
    "  %pip install git+https://github.com/Kojoley/atari-py.git\n",
    "  %pip install pyglet==1.5.0\n",
    "  %pip install h5py==3.1.0\n",
    "  %pip install Pillow==9.5.0\n",
    "  %pip install keras-rl2==1.0.5\n",
    "  %pip install Keras==2.2.4\n",
    "  %pip install tensorflow==2.5.3\n",
    "  %pip install torch==2.0.1\n",
    "  %pip install agents==1.4.0"
   ]
  },
  {
   "cell_type": "markdown",
   "metadata": {
    "id": "4hzP_5ZuGb2X"
   },
   "source": [
    "---\n",
    "## **PARTE 2**. Enunciado\n",
    "\n",
    "Consideraciones a tener en cuenta:\n",
    "\n",
    "- El entorno sobre el que trabajaremos será _SpaceInvaders-v0_ y el algoritmo que usaremos será _DQN_.\n",
    "\n",
    "- Para nuestro ejercicio, el requisito mínimo será alcanzado cuando el agente consiga una **media de recompensa por encima de 20 puntos en modo test**. Por ello, esta media de la recompensa se calculará a partir del código de test en la última celda del notebook.\n",
    "\n",
    "Este proyecto práctico consta de tres partes:\n",
    "\n",
    "1.   Implementar la red neuronal que se usará en la solución\n",
    "2.   Implementar las distintas piezas de la solución DQN\n",
    "3.   Justificar la respuesta en relación a los resultados obtenidos\n",
    "\n",
    "**Rúbrica**: Se valorará la originalidad en la solución aportada, así como la capacidad de discutir los resultados de forma detallada. El requisito mínimo servirá para aprobar la actividad, bajo premisa de que la discusión del resultado sera apropiada.\n",
    "\n",
    "IMPORTANTE:\n",
    "\n",
    "* Si no se consigue una puntuación óptima, responder sobre la mejor puntuación obtenida.\n",
    "* Para entrenamientos largos, recordad que podéis usar checkpoints de vuestros modelos para retomar los entrenamientos. En este caso, recordad cambiar los parámetros adecuadamente (sobre todo los relacionados con el proceso de exploración).\n",
    "* Se deberá entregar unicamente el notebook y los pesos del mejor modelo en un fichero .zip, de forma organizada.\n",
    "* Cada alumno deberá de subir la solución de forma individual."
   ]
  },
  {
   "cell_type": "markdown",
   "metadata": {
    "id": "6_b3mzw8IzJP"
   },
   "source": [
    "---\n",
    "## **PARTE 3**. Desarrollo y preguntas"
   ]
  },
  {
   "cell_type": "markdown",
   "metadata": {
    "id": "duPmUNOVGb2a"
   },
   "source": [
    "#### Importar librerías"
   ]
  },
  {
   "cell_type": "code",
   "execution_count": 3,
   "metadata": {
    "id": "j3eRhgI-Gb2a"
   },
   "outputs": [],
   "source": [
    "from __future__ import division\n",
    "\n",
    "from PIL import Image\n",
    "import numpy as np\n",
    "import gym\n",
    "\n",
    "from tensorflow.keras.models import Sequential\n",
    "from tensorflow.keras.layers import Dense, Activation, Flatten, Convolution2D, Permute\n",
    "from tensorflow.keras.optimizers import Adam\n",
    "import tensorflow.keras.backend as K\n",
    "\n",
    "from rl.agents.dqn import DQNAgent\n",
    "from rl.policy import LinearAnnealedPolicy, BoltzmannQPolicy, EpsGreedyQPolicy\n",
    "from rl.memory import SequentialMemory\n",
    "from rl.core import Processor\n",
    "from rl.callbacks import FileLogger, ModelIntervalCheckpoint"
   ]
  },
  {
   "cell_type": "markdown",
   "metadata": {
    "id": "f4jgQjzoGb2a"
   },
   "source": [
    "#### Configuración base"
   ]
  },
  {
   "cell_type": "code",
   "execution_count": 4,
   "metadata": {
    "colab": {
     "base_uri": "https://localhost:8080/"
    },
    "id": "jwOE6I_KGb2a",
    "outputId": "941f9c3a-e542-42e6-bd55-a097f9b71828"
   },
   "outputs": [
    {
     "name": "stdout",
     "output_type": "stream",
     "text": [
      "Numero de acciones disponibles: 6\n",
      "Formato de las observaciones: Box(0, 255, (210, 160, 3), uint8)\n"
     ]
    }
   ],
   "source": [
    "INPUT_SHAPE = (84, 84)\n",
    "WINDOW_LENGTH = 4\n",
    "\n",
    "env_name = 'SpaceInvaders-v0'\n",
    "env = gym.make(env_name)\n",
    "\n",
    "np.random.seed(123)\n",
    "env.seed(123)\n",
    "nb_actions = env.action_space.n\n",
    "\n",
    "print(\"Numero de acciones disponibles: \" + str(nb_actions))\n",
    "print(\"Formato de las observaciones: \" + str(env.observation_space))"
   ]
  },
  {
   "cell_type": "code",
   "execution_count": 5,
   "metadata": {
    "id": "9jGEZUcpGb2a"
   },
   "outputs": [],
   "source": [
    "class AtariProcessor(Processor):\n",
    "    def process_observation(self, observation):\n",
    "        assert observation.ndim == 3  # (height, width, channel)\n",
    "        img = Image.fromarray(observation)\n",
    "        img = img.resize(INPUT_SHAPE).convert('L')\n",
    "        processed_observation = np.array(img)\n",
    "        assert processed_observation.shape == INPUT_SHAPE\n",
    "        return processed_observation.astype('uint8')\n",
    "\n",
    "    def process_state_batch(self, batch):\n",
    "        processed_batch = batch.astype('float32') / 255.\n",
    "        return processed_batch\n",
    "\n",
    "    def process_reward(self, reward):\n",
    "        return np.clip(reward, -1., 1.)"
   ]
  },
  {
   "cell_type": "code",
   "execution_count": 13,
   "metadata": {},
   "outputs": [],
   "source": [
    "from rl.callbacks import Callback\n",
    "import numpy as np\n",
    "\n",
    "class SaveBestRewardCallback(Callback):\n",
    "    def __init__(self, env,\n",
    "                 filename='best_model.h5f',\n",
    "                 test_episodes=3,\n",
    "                 test_interval=50):\n",
    "        self.env = env\n",
    "        self.filename = filename\n",
    "        self.test_episodes = test_episodes\n",
    "        self.test_interval = test_interval\n",
    "        self.best_reward = -np.inf\n",
    "        self.steps_since_last_eval = 0\n",
    "\n",
    "    def on_step_end(self, step, logs=None):\n",
    "        self.steps_since_last_eval += 1\n",
    "\n",
    "        if self.steps_since_last_eval >= self.test_interval:\n",
    "            self.steps_since_last_eval = 0\n",
    "\n",
    "            # --- congelar contador ---\n",
    "            saved_step = self.model.step\n",
    "\n",
    "            # --- evaluación ---\n",
    "            history = self.model.test(\n",
    "                self.env,\n",
    "                nb_episodes=self.test_episodes,\n",
    "                visualize=False,\n",
    "                verbose=0\n",
    "            )\n",
    "            avg_reward = np.mean(history.history['episode_reward'])\n",
    "\n",
    "            # --- restaurar contador ---\n",
    "            self.model.step = saved_step\n",
    "\n",
    "            print(f\"\\n>>> Eval @ step {saved_step} -> avg reward: {avg_reward:.2f} -> {history.history['episode_reward']}\")\n",
    "\n",
    "            if avg_reward > self.best_reward:\n",
    "                self.best_reward = avg_reward\n",
    "                self.model.save_weights(self.filename, overwrite=True)\n",
    "                print(f\">>> Nuevo récord: {avg_reward:.2f}, pesos guardados en {self.filename}\")\n"
   ]
  },
  {
   "cell_type": "code",
   "execution_count": 7,
   "metadata": {},
   "outputs": [
    {
     "name": "stdout",
     "output_type": "stream",
     "text": [
      "Versión de TensorFlow: 2.5.3\n",
      "[]\n",
      "⚠ No se detectó GPU\n"
     ]
    }
   ],
   "source": [
    "import tensorflow as tf\n",
    "print(\"Versión de TensorFlow:\", tf.__version__)\n",
    "gpus = tf.config.list_physical_devices('GPU')\n",
    "print(gpus)\n",
    "if gpus:\n",
    "    for gpu in gpus:\n",
    "        tf.config.experimental.set_memory_growth(gpu, True)\n",
    "    print(\"✅ GPU detectada:\", gpus[0])\n",
    "else:\n",
    "    print(\"⚠ No se detectó GPU\")"
   ]
  },
  {
   "cell_type": "markdown",
   "metadata": {
    "id": "7yitXTADGb2b"
   },
   "source": [
    "1. Implementación de la red neuronal"
   ]
  },
  {
   "cell_type": "code",
   "execution_count": 20,
   "metadata": {
    "collapsed": true,
    "id": "O4GKrfWSGb2b",
    "jupyter": {
     "outputs_hidden": true
    },
    "scrolled": true
   },
   "outputs": [
    {
     "name": "stdout",
     "output_type": "stream",
     "text": [
      "Model: \"sequential_3\"\n",
      "_________________________________________________________________\n",
      "Layer (type)                 Output Shape              Param #   \n",
      "=================================================================\n",
      "flatten_3 (Flatten)          (None, 100800)            0         \n",
      "_________________________________________________________________\n",
      "dense_12 (Dense)             (None, 16)                1612816   \n",
      "_________________________________________________________________\n",
      "activation_12 (Activation)   (None, 16)                0         \n",
      "_________________________________________________________________\n",
      "dense_13 (Dense)             (None, 16)                272       \n",
      "_________________________________________________________________\n",
      "activation_13 (Activation)   (None, 16)                0         \n",
      "_________________________________________________________________\n",
      "dense_14 (Dense)             (None, 16)                272       \n",
      "_________________________________________________________________\n",
      "activation_14 (Activation)   (None, 16)                0         \n",
      "_________________________________________________________________\n",
      "dense_15 (Dense)             (None, 6)                 102       \n",
      "_________________________________________________________________\n",
      "activation_15 (Activation)   (None, 6)                 0         \n",
      "=================================================================\n",
      "Total params: 1,613,462\n",
      "Trainable params: 1,613,462\n",
      "Non-trainable params: 0\n",
      "_________________________________________________________________\n",
      "None\n"
     ]
    }
   ],
   "source": [
    "# modelo simple - no usar\n",
    "\n",
    "# model = Sequential()\n",
    "# model.add(Flatten(input_shape=(1,) + env.observation_space.shape))\n",
    "# model.add(Dense(16))\n",
    "# model.add(Activation('relu'))\n",
    "# model.add(Dense(16))\n",
    "# model.add(Activation('relu'))\n",
    "# model.add(Dense(16))\n",
    "# model.add(Activation('relu'))\n",
    "# model.add(Dense(nb_actions))\n",
    "# model.add(Activation('linear'))\n",
    "# print(model.summary())"
   ]
  },
  {
   "cell_type": "code",
   "execution_count": 14,
   "metadata": {
    "scrolled": true
   },
   "outputs": [
    {
     "name": "stdout",
     "output_type": "stream",
     "text": [
      "channels_last\n",
      "(4, 84, 84)\n",
      "Model: \"sequential_1\"\n",
      "_________________________________________________________________\n",
      "Layer (type)                 Output Shape              Param #   \n",
      "=================================================================\n",
      "permute_1 (Permute)          (None, 84, 84, 4)         0         \n",
      "_________________________________________________________________\n",
      "conv2d_3 (Conv2D)            (None, 20, 20, 32)        8224      \n",
      "_________________________________________________________________\n",
      "activation_5 (Activation)    (None, 20, 20, 32)        0         \n",
      "_________________________________________________________________\n",
      "conv2d_4 (Conv2D)            (None, 9, 9, 64)          32832     \n",
      "_________________________________________________________________\n",
      "activation_6 (Activation)    (None, 9, 9, 64)          0         \n",
      "_________________________________________________________________\n",
      "conv2d_5 (Conv2D)            (None, 7, 7, 64)          36928     \n",
      "_________________________________________________________________\n",
      "activation_7 (Activation)    (None, 7, 7, 64)          0         \n",
      "_________________________________________________________________\n",
      "flatten_1 (Flatten)          (None, 3136)              0         \n",
      "_________________________________________________________________\n",
      "dense_2 (Dense)              (None, 512)               1606144   \n",
      "_________________________________________________________________\n",
      "activation_8 (Activation)    (None, 512)               0         \n",
      "_________________________________________________________________\n",
      "dense_3 (Dense)              (None, 6)                 3078      \n",
      "_________________________________________________________________\n",
      "activation_9 (Activation)    (None, 6)                 0         \n",
      "=================================================================\n",
      "Total params: 1,687,206\n",
      "Trainable params: 1,687,206\n",
      "Non-trainable params: 0\n",
      "_________________________________________________________________\n",
      "None\n"
     ]
    }
   ],
   "source": [
    "# modelo mas complejo - usar este\n",
    "input_shape = (WINDOW_LENGTH,) + INPUT_SHAPE\n",
    "model = Sequential()\n",
    "print(K.image_data_format())\n",
    "print(input_shape)\n",
    "if K.image_data_format() == 'channels_last':\n",
    "    # (width, height, channels)\n",
    "    model.add(Permute((2, 3, 1), input_shape=input_shape))\n",
    "elif K.image_data_format() == 'channels_first':\n",
    "    # (channels, width, height)\n",
    "    model.add(Permute((1, 2, 3), input_shape=input_shape))\n",
    "else:\n",
    "    raise RuntimeError('Unknown image_dim_ordering.')\n",
    "\n",
    "model.add(Convolution2D(32, (8, 8), strides=(4, 4)))\n",
    "model.add(Activation('relu'))\n",
    "model.add(Convolution2D(64, (4, 4), strides=(2, 2)))\n",
    "model.add(Activation('relu'))\n",
    "model.add(Convolution2D(64, (3, 3), strides=(1, 1)))\n",
    "model.add(Activation('relu'))\n",
    "model.add(Flatten())\n",
    "model.add(Dense(512))\n",
    "model.add(Activation('relu'))\n",
    "model.add(Dense(nb_actions))\n",
    "model.add(Activation('linear'))\n",
    "print(model.summary())"
   ]
  },
  {
   "cell_type": "markdown",
   "metadata": {
    "id": "OB9-_5HPGb2b"
   },
   "source": [
    "2. Implementación de la solución DQN"
   ]
  },
  {
   "cell_type": "code",
   "execution_count": 15,
   "metadata": {
    "id": "foSlxWH1Gb2b"
   },
   "outputs": [],
   "source": [
    "# memoria para almacenar la experiencia del agente\n",
    "memory = SequentialMemory(limit=1000, window_length=WINDOW_LENGTH)\n",
    "\n",
    "# processor\n",
    "processor = AtariProcessor()\n",
    "\n",
    "# policy que el agente va a seguir\n",
    "#policy = BoltzmannQPolicy()\n",
    "policy = LinearAnnealedPolicy(EpsGreedyQPolicy(), attr='eps',\n",
    "                              value_max=1., value_min=.1, value_test=.05,\n",
    "                              nb_steps=50)\n",
    "\n",
    "# definicion del agente\n",
    "dqn = DQNAgent(model=model, nb_actions=nb_actions, policy=policy,\n",
    "               memory=memory, processor=processor,\n",
    "               nb_steps_warmup=500, gamma=.99,\n",
    "               target_model_update=100,\n",
    "               train_interval=4)\n",
    "\n",
    "# compilacion del agente\n",
    "dqn.compile(Adam(learning_rate=.00025), metrics=['mae'])"
   ]
  },
  {
   "cell_type": "code",
   "execution_count": 16,
   "metadata": {},
   "outputs": [
    {
     "name": "stdout",
     "output_type": "stream",
     "text": [
      "Training for 2000 steps ...\n",
      "Interval 1 (0 steps performed)\n",
      "40/40 [==============================] - 0s 5ms/step - reward: 0.0000e+00\n",
      "Interval 2 (40 steps performed)\n",
      "40/40 [==============================] - 0s 4ms/step - reward: 0.0500\n",
      "Interval 3 (80 steps performed)\n",
      "40/40 [==============================] - 0s 4ms/step - reward: 0.0250\n",
      "Interval 4 (120 steps performed)\n",
      "40/40 [==============================] - 0s 3ms/step - reward: 0.0000e+00\n",
      "Interval 5 (160 steps performed)\n",
      "30/40 [=====================>........] - ETA: 0s - reward: 0.0667   \n",
      ">>> Eval @ step 199 -> avg reward: 17.75 -> history.history['episode_reward']\n",
      ">>> Nuevo récord: 17.75, pesos guardados en best_model_weights.h5f\n",
      "40/40 [==============================] - 10s 267ms/step - reward: 0.0750\n",
      "Interval 6 (200 steps performed)\n",
      "40/40 [==============================] - 0s 4ms/step - reward: 0.0000e+00\n",
      "1 episodes - episode_reward: 6.000 [6.000, 6.000] - ale.lives: 2.925\n",
      "\n",
      "Interval 7 (240 steps performed)\n",
      "40/40 [==============================] - 0s 4ms/step - reward: 0.0250\n",
      "Interval 8 (280 steps performed)\n",
      "40/40 [==============================] - 0s 4ms/step - reward: 0.0750\n",
      "Interval 9 (320 steps performed)\n",
      "40/40 [==============================] - 0s 4ms/step - reward: 0.0000e+00\n",
      "Interval 10 (360 steps performed)\n",
      "31/40 [======================>.......] - ETA: 0s - reward: 0.0323    \n",
      ">>> Eval @ step 399 -> avg reward: 19.25 -> history.history['episode_reward']\n",
      ">>> Nuevo récord: 19.25, pesos guardados en best_model_weights.h5f\n",
      "40/40 [==============================] - 11s 275ms/step - reward: 0.0500\n",
      "Interval 11 (400 steps performed)\n",
      "40/40 [==============================] - 0s 4ms/step - reward: 0.0000e+00\n",
      "1 episodes - episode_reward: 6.000 [6.000, 6.000] - ale.lives: 2.925\n",
      "\n",
      "Interval 12 (440 steps performed)\n",
      "40/40 [==============================] - 0s 3ms/step - reward: 0.0250\n",
      "Interval 13 (480 steps performed)\n",
      "40/40 [==============================] - 0s 4ms/step - reward: 0.0750\n",
      "Interval 14 (520 steps performed)\n",
      "40/40 [==============================] - 0s 4ms/step - reward: 0.0000e+00\n",
      "Interval 15 (560 steps performed)\n",
      "30/40 [=====================>........] - ETA: 0s - reward: 0.0333    \n",
      ">>> Eval @ step 599 -> avg reward: 18.00 -> history.history['episode_reward']\n",
      "40/40 [==============================] - 10s 259ms/step - reward: 0.0500\n",
      "Interval 16 (600 steps performed)\n",
      "40/40 [==============================] - 0s 4ms/step - reward: 0.0000e+00\n",
      "1 episodes - episode_reward: 6.000 [6.000, 6.000] - ale.lives: 2.925\n",
      "\n",
      "Interval 17 (640 steps performed)\n",
      "40/40 [==============================] - 0s 4ms/step - reward: 0.0250\n",
      "Interval 18 (680 steps performed)\n",
      "40/40 [==============================] - 0s 3ms/step - reward: 0.0500\n",
      "Interval 19 (720 steps performed)\n",
      "40/40 [==============================] - 0s 4ms/step - reward: 0.0000e+00\n",
      "Interval 20 (760 steps performed)\n",
      "37/40 [==========================>...] - ETA: 0s - reward: 0.0270    \n",
      ">>> Eval @ step 799 -> avg reward: 22.50 -> history.history['episode_reward']\n",
      ">>> Nuevo récord: 22.50, pesos guardados en best_model_weights.h5f\n",
      "40/40 [==============================] - 13s 338ms/step - reward: 0.0250\n",
      "Interval 21 (800 steps performed)\n",
      "40/40 [==============================] - 0s 4ms/step - reward: 0.0000e+00\n",
      "1 episodes - episode_reward: 4.000 [4.000, 4.000] - ale.lives: 2.925\n",
      "\n",
      "Interval 22 (840 steps performed)\n",
      "40/40 [==============================] - 0s 4ms/step - reward: 0.0500\n",
      "Interval 23 (880 steps performed)\n",
      "40/40 [==============================] - 0s 5ms/step - reward: 0.0500\n",
      "Interval 24 (920 steps performed)\n",
      "40/40 [==============================] - 0s 4ms/step - reward: 0.0000e+00\n",
      "Interval 25 (960 steps performed)\n",
      "36/40 [==========================>...] - ETA: 0s - reward: 0.0278    \n",
      ">>> Eval @ step 999 -> avg reward: 17.75 -> history.history['episode_reward']\n",
      "40/40 [==============================] - 12s 317ms/step - reward: 0.0500\n",
      "Interval 26 (1000 steps performed)\n",
      "40/40 [==============================] - 0s 4ms/step - reward: 0.0000e+00\n",
      "1 episodes - episode_reward: 6.000 [6.000, 6.000] - ale.lives: 2.925\n",
      "\n",
      "Interval 27 (1040 steps performed)\n",
      "40/40 [==============================] - 0s 3ms/step - reward: 0.0500\n",
      "Interval 28 (1080 steps performed)\n",
      "40/40 [==============================] - 0s 4ms/step - reward: 0.0250\n",
      "Interval 29 (1120 steps performed)\n",
      "40/40 [==============================] - 0s 3ms/step - reward: 0.0000e+00\n",
      "Interval 30 (1160 steps performed)\n",
      "32/40 [=======================>......] - ETA: 0s - reward: 0.0312    \n",
      ">>> Eval @ step 1199 -> avg reward: 19.00 -> history.history['episode_reward']\n",
      "40/40 [==============================] - 13s 327ms/step - reward: 0.0500\n",
      "Interval 31 (1200 steps performed)\n",
      "40/40 [==============================] - 0s 4ms/step - reward: 0.0000e+00\n",
      "1 episodes - episode_reward: 5.000 [5.000, 5.000] - ale.lives: 2.925\n",
      "\n",
      "Interval 32 (1240 steps performed)\n",
      "40/40 [==============================] - 0s 4ms/step - reward: 0.0250\n",
      "Interval 33 (1280 steps performed)\n",
      "40/40 [==============================] - 0s 3ms/step - reward: 0.0750\n",
      "Interval 34 (1320 steps performed)\n",
      "40/40 [==============================] - 0s 4ms/step - reward: 0.0250\n",
      "Interval 35 (1360 steps performed)\n",
      "32/40 [=======================>......] - ETA: 0s - reward: 0.0000e+00\n",
      ">>> Eval @ step 1399 -> avg reward: 14.75 -> history.history['episode_reward']\n",
      "40/40 [==============================] - 10s 261ms/step - reward: 0.0250\n",
      "Interval 36 (1400 steps performed)\n",
      "40/40 [==============================] - 0s 3ms/step - reward: 0.0000e+00\n",
      "1 episodes - episode_reward: 6.000 [6.000, 6.000] - ale.lives: 2.925\n",
      "\n",
      "Interval 37 (1440 steps performed)\n",
      "40/40 [==============================] - 0s 3ms/step - reward: 0.0500\n",
      "Interval 38 (1480 steps performed)\n",
      "40/40 [==============================] - 0s 3ms/step - reward: 0.0500\n",
      "Interval 39 (1520 steps performed)\n",
      "40/40 [==============================] - 0s 3ms/step - reward: 0.0000e+00\n",
      "Interval 40 (1560 steps performed)\n",
      "30/40 [=====================>........] - ETA: 0s - reward: 0.0667    \n",
      ">>> Eval @ step 1599 -> avg reward: 20.00 -> history.history['episode_reward']\n",
      "40/40 [==============================] - 11s 288ms/step - reward: 0.0500\n",
      "Interval 41 (1600 steps performed)\n",
      "40/40 [==============================] - 0s 4ms/step - reward: 0.0000e+00\n",
      "1 episodes - episode_reward: 6.000 [6.000, 6.000] - ale.lives: 2.925\n",
      "\n",
      "Interval 42 (1640 steps performed)\n",
      "40/40 [==============================] - 0s 4ms/step - reward: 0.0500\n",
      "Interval 43 (1680 steps performed)\n",
      "40/40 [==============================] - 0s 5ms/step - reward: 0.0250\n",
      "Interval 44 (1720 steps performed)\n",
      "40/40 [==============================] - 0s 5ms/step - reward: 0.0000e+00\n",
      "Interval 45 (1760 steps performed)\n",
      "37/40 [==========================>...] - ETA: 0s - reward: 0.0270    \n",
      ">>> Eval @ step 1799 -> avg reward: 22.75 -> history.history['episode_reward']\n",
      ">>> Nuevo récord: 22.75, pesos guardados en best_model_weights.h5f\n",
      "40/40 [==============================] - 17s 441ms/step - reward: 0.0250\n",
      "Interval 46 (1800 steps performed)\n",
      "40/40 [==============================] - 0s 4ms/step - reward: 0.0000e+00\n",
      "1 episodes - episode_reward: 4.000 [4.000, 4.000] - ale.lives: 2.925\n",
      "\n",
      "Interval 47 (1840 steps performed)\n",
      "40/40 [==============================] - 0s 4ms/step - reward: 0.0250\n",
      "Interval 48 (1880 steps performed)\n",
      "40/40 [==============================] - 0s 5ms/step - reward: 0.0750\n",
      "Interval 49 (1920 steps performed)\n",
      "40/40 [==============================] - 0s 5ms/step - reward: 0.0000e+00\n",
      "Interval 50 (1960 steps performed)\n",
      "39/40 [============================>.] - ETA: 0s - reward: 0.0256    \n",
      ">>> Eval @ step 1999 -> avg reward: 19.50 -> history.history['episode_reward']\n",
      "40/40 [==============================] - 14s 353ms/step - reward: 0.0250\n",
      "done, took 128.401 seconds\n"
     ]
    },
    {
     "data": {
      "text/plain": [
       "<tensorflow.python.keras.callbacks.History at 0x202dc6eee50>"
      ]
     },
     "execution_count": 16,
     "metadata": {},
     "output_type": "execute_result"
    }
   ],
   "source": [
    "# entrenamiento del agente\n",
    "weights_filename = 'apr_g9_dqn_{}_weights.h5f'.format(env_name)\n",
    "checkpoint_weights_filename = 'apr_g9_dqn_' + env_name + '_weights_{step}.h5f'\n",
    "log_filename = 'apr_g9_dqn_{}_log.json'.format(env_name)\n",
    "callbacks = [\n",
    "            #ModelIntervalCheckpoint(checkpoint_weights_filename, interval=2500),\n",
    "            FileLogger(log_filename, interval=30),\n",
    "            SaveBestRewardCallback(env, filename='best_model_weights.h5f', test_episodes=4, test_interval=200)]\n",
    "dqn.fit(env, callbacks=callbacks, nb_steps=2000, log_interval=40, visualize=False)\n",
    "\n",
    "# se graban los pesos finales luego de finalizar el entrenamiento\n",
    "#dqn.save_weights('apr_g9_dqn_{}_weights.h5f'.format(env_name), overwrite=True)"
   ]
  },
  {
   "cell_type": "code",
   "execution_count": 17,
   "metadata": {
    "id": "OHYryKd1Gb2b"
   },
   "outputs": [
    {
     "name": "stdout",
     "output_type": "stream",
     "text": [
      "Testing for 10 episodes ...\n",
      "Episode 1: reward: 24.000, steps: 1133\n",
      "Episode 2: reward: 14.000, steps: 665\n",
      "Episode 3: reward: 16.000, steps: 642\n",
      "Episode 4: reward: 16.000, steps: 641\n",
      "Episode 5: reward: 23.000, steps: 996\n",
      "Episode 6: reward: 16.000, steps: 642\n",
      "Episode 7: reward: 19.000, steps: 849\n",
      "Episode 8: reward: 19.000, steps: 812\n",
      "Episode 9: reward: 16.000, steps: 943\n",
      "Episode 10: reward: 16.000, steps: 652\n"
     ]
    },
    {
     "data": {
      "text/plain": [
       "<tensorflow.python.keras.callbacks.History at 0x20375862ee0>"
      ]
     },
     "execution_count": 17,
     "metadata": {},
     "output_type": "execute_result"
    }
   ],
   "source": [
    "# test de n episodios para calcular la recompensa final\n",
    "weights_filename = 'apr_g9_dqn_{}_weights.h5f'.format(env_name)\n",
    "dqn.load_weights('best_model_weights.h5f')\n",
    "dqn.test(env, nb_episodes=10, visualize=False)"
   ]
  },
  {
   "cell_type": "markdown",
   "metadata": {
    "id": "-NAlu8b1Gb2b"
   },
   "source": [
    "3. Justificación de los parámetros seleccionados y de los resultados obtenidos"
   ]
  },
  {
   "cell_type": "markdown",
   "metadata": {
    "id": "ANFQiicXK3sO"
   },
   "source": [
    "---"
   ]
  }
 ],
 "metadata": {
  "colab": {
   "provenance": []
  },
  "kernelspec": {
   "display_name": "env_apr_g9",
   "language": "python",
   "name": "env_apr_g9"
  },
  "language_info": {
   "codemirror_mode": {
    "name": "ipython",
    "version": 3
   },
   "file_extension": ".py",
   "mimetype": "text/x-python",
   "name": "python",
   "nbconvert_exporter": "python",
   "pygments_lexer": "ipython3",
   "version": "3.8.20"
  }
 },
 "nbformat": 4,
 "nbformat_minor": 4
}
