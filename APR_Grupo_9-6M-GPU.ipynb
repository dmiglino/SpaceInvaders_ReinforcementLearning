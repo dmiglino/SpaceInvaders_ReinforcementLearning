{
 "cells": [
  {
   "cell_type": "markdown",
   "metadata": {
    "id": "jUehXgCyIRdq"
   },
   "source": [
    "# Actividad - Proyecto práctico\n",
    "\n",
    "\n",
    "> La actividad se desarrollará en grupos pre-definidos de 2-3 alumnos. Se debe indicar los nombres en orden alfabético (de apellidos). Recordad que esta actividad se corresponde con un 30% de la nota final de la asignatura. Se debe entregar entregar el trabajo en la presente notebook.\n",
    "*   Alumno 1: Granizo, Mateo\n",
    "*   Alumno 2: Maiolo, Pablo\n",
    "*   Alumno 3: Miglino, Diego\n",
    "\n",
    "\n",
    "\n",
    "\n"
   ]
  },
  {
   "cell_type": "markdown",
   "metadata": {
    "id": "JwpYlnjWJhS9"
   },
   "source": [
    "---\n",
    "## **PARTE 1** - Instalación y requisitos previos\n",
    "\n",
    "> Las prácticas han sido preparadas para poder realizarse en el entorno de trabajo de Google Colab. Sin embargo, esta plataforma presenta ciertas incompatibilidades a la hora de visualizar la renderización en gym. Por ello, para obtener estas visualizaciones, se deberá trasladar el entorno de trabajo a local. Por ello, el presente dosier presenta instrucciones para poder trabajar en ambos entornos. Siga los siguientes pasos para un correcto funcionamiento:\n",
    "1.   **LOCAL:** Preparar el enviroment, siguiendo las intrucciones detalladas en la sección *1.1.Preparar enviroment*.\n",
    "2.  **AMBOS:** Modificar las variables \"mount\" y \"drive_mount\" a la carpeta de trabajo en drive en el caso de estar en Colab, y ejecturar la celda *1.2.Localizar entorno de trabajo*.\n",
    "3. **COLAB:** se deberá ejecutar las celdas correspondientes al montaje de la carpeta de trabajo en Drive. Esta corresponde a la sección *1.3.Montar carpeta de datos local*.\n",
    "4.  **AMBOS:** Instalar las librerías necesarias, siguiendo la sección *1.4.Instalar librerías necesarias*.\n"
   ]
  },
  {
   "cell_type": "markdown",
   "metadata": {
    "id": "RU2BPrK2JkP0"
   },
   "source": [
    "---\n",
    "### 1.1. Preparar enviroment (solo local)\n",
    "\n",
    "\n",
    "\n",
    "> Para preparar el entorno de trabajo en local, se han seguido los siguientes pasos:\n",
    "1. En Windows, puede ser necesario instalar las C++ Build Tools. Para ello, siga los siguientes pasos: https://towardsdatascience.com/how-to-install-openai-gym-in-a-windows-environment-338969e24d30.\n",
    "2. Instalar Anaconda\n",
    "3. Siguiendo el código que se presenta comentado en la próxima celda: Crear un enviroment, cambiar la ruta de trabajo, e instalar librerías básicas.\n",
    "\n",
    "\n",
    "```\n",
    "conda create --name miar_rl python=3.8\n",
    "conda activate miar_rl\n",
    "cd \"PATH_TO_FOLDER\"\n",
    "conda install git\n",
    "pip install jupyter\n",
    "```\n",
    "\n",
    "\n",
    "4. Abrir la notebook con *jupyter-notebook*.\n",
    "\n",
    "\n",
    "\n",
    "```\n",
    "jupyter-notebook\n",
    "```\n"
   ]
  },
  {
   "cell_type": "markdown",
   "metadata": {
    "id": "w-kixNPiJqTc"
   },
   "source": [
    "---\n",
    "### 1.2. Localizar entorno de trabajo: Google colab o local"
   ]
  },
  {
   "cell_type": "code",
   "execution_count": 1,
   "metadata": {
    "colab": {
     "base_uri": "https://localhost:8080/"
    },
    "id": "S_YDFwZ-JscI",
    "outputId": "01a99aa0-3d4e-4cd1-b1bc-309aef65070a"
   },
   "outputs": [
    {
     "name": "stdout",
     "output_type": "stream",
     "text": [
      "False\n"
     ]
    }
   ],
   "source": [
    "# ATENCIÓN!! Modificar ruta relativa a la práctica si es distinta (drive_root)\n",
    "mount='/content/gdrive'\n",
    "drive_root = mount + \"/My Drive/08_MIAR/actividades/TP_Grupal\"\n",
    "mount='./'\n",
    "\n",
    "try:\n",
    "  from google.colab import drive\n",
    "  IN_COLAB=True\n",
    "except:\n",
    "  IN_COLAB=False\n",
    "print(IN_COLAB)"
   ]
  },
  {
   "cell_type": "markdown",
   "metadata": {
    "id": "8Dp_a1iBJ0tf"
   },
   "source": [
    "---\n",
    "### 1.3. Montar carpeta de datos local (solo Colab)"
   ]
  },
  {
   "cell_type": "code",
   "execution_count": 2,
   "metadata": {
    "colab": {
     "base_uri": "https://localhost:8080/"
    },
    "id": "I6n7MIefJ21i",
    "outputId": "9a6fc610-9fb0-4f63-8562-46754d7d75fc",
    "scrolled": true
   },
   "outputs": [
    {
     "name": "stdout",
     "output_type": "stream",
     "text": [
      "Archivos en el directorio: \n",
      "['.git', '.ipynb_checkpoints', 'anaconda_projects', 'apr_g9_dqn_SpaceInvaders-v0_4M_log.json', 'apr_g9_dqn_SpaceInvaders-v0_6M_log.json', 'apr_g9_dqn_SpaceInvaders-v0_log.json', 'apr_g9_dqn_SpaceInvaders-v0_weights_1000000.h5f.data-00000-of-00001', 'apr_g9_dqn_SpaceInvaders-v0_weights_1000000.h5f.index', 'apr_g9_dqn_SpaceInvaders-v0_weights_1020000.h5f.data-00000-of-00001', 'apr_g9_dqn_SpaceInvaders-v0_weights_1020000.h5f.index', 'apr_g9_dqn_SpaceInvaders-v0_weights_1050000.h5f.data-00000-of-00001', 'apr_g9_dqn_SpaceInvaders-v0_weights_1050000.h5f.index', 'apr_g9_dqn_SpaceInvaders-v0_weights_1080000.h5f.data-00000-of-00001', 'apr_g9_dqn_SpaceInvaders-v0_weights_1080000.h5f.index', 'apr_g9_dqn_SpaceInvaders-v0_weights_1110000.h5f.data-00000-of-00001', 'apr_g9_dqn_SpaceInvaders-v0_weights_1110000.h5f.index', 'apr_g9_dqn_SpaceInvaders-v0_weights_1140000.h5f.data-00000-of-00001', 'apr_g9_dqn_SpaceInvaders-v0_weights_1140000.h5f.index', 'apr_g9_dqn_SpaceInvaders-v0_weights_1170000.h5f.data-00000-of-00001', 'apr_g9_dqn_SpaceInvaders-v0_weights_1170000.h5f.index', 'apr_g9_dqn_SpaceInvaders-v0_weights_120000.h5f.data-00000-of-00001', 'apr_g9_dqn_SpaceInvaders-v0_weights_120000.h5f.index', 'apr_g9_dqn_SpaceInvaders-v0_weights_1200000.h5f.data-00000-of-00001', 'apr_g9_dqn_SpaceInvaders-v0_weights_1200000.h5f.index', 'apr_g9_dqn_SpaceInvaders-v0_weights_1230000.h5f.data-00000-of-00001', 'apr_g9_dqn_SpaceInvaders-v0_weights_1230000.h5f.index', 'apr_g9_dqn_SpaceInvaders-v0_weights_1260000.h5f.data-00000-of-00001', 'apr_g9_dqn_SpaceInvaders-v0_weights_1260000.h5f.index', 'apr_g9_dqn_SpaceInvaders-v0_weights_1290000.h5f.data-00000-of-00001', 'apr_g9_dqn_SpaceInvaders-v0_weights_1290000.h5f.index', 'apr_g9_dqn_SpaceInvaders-v0_weights_1320000.h5f.data-00000-of-00001', 'apr_g9_dqn_SpaceInvaders-v0_weights_1320000.h5f.index', 'apr_g9_dqn_SpaceInvaders-v0_weights_1350000.h5f.data-00000-of-00001', 'apr_g9_dqn_SpaceInvaders-v0_weights_1350000.h5f.index', 'apr_g9_dqn_SpaceInvaders-v0_weights_1380000.h5f.data-00000-of-00001', 'apr_g9_dqn_SpaceInvaders-v0_weights_1380000.h5f.index', 'apr_g9_dqn_SpaceInvaders-v0_weights_1410000.h5f.data-00000-of-00001', 'apr_g9_dqn_SpaceInvaders-v0_weights_1410000.h5f.index', 'apr_g9_dqn_SpaceInvaders-v0_weights_1440000.h5f.data-00000-of-00001', 'apr_g9_dqn_SpaceInvaders-v0_weights_1440000.h5f.index', 'apr_g9_dqn_SpaceInvaders-v0_weights_1470000.h5f.data-00000-of-00001', 'apr_g9_dqn_SpaceInvaders-v0_weights_1470000.h5f.index', 'apr_g9_dqn_SpaceInvaders-v0_weights_150000.h5f.data-00000-of-00001', 'apr_g9_dqn_SpaceInvaders-v0_weights_150000.h5f.index', 'apr_g9_dqn_SpaceInvaders-v0_weights_1500000.h5f.data-00000-of-00001', 'apr_g9_dqn_SpaceInvaders-v0_weights_1500000.h5f.index', 'apr_g9_dqn_SpaceInvaders-v0_weights_1530000.h5f.data-00000-of-00001', 'apr_g9_dqn_SpaceInvaders-v0_weights_1530000.h5f.index', 'apr_g9_dqn_SpaceInvaders-v0_weights_1560000.h5f.data-00000-of-00001', 'apr_g9_dqn_SpaceInvaders-v0_weights_1560000.h5f.index', 'apr_g9_dqn_SpaceInvaders-v0_weights_1590000.h5f.data-00000-of-00001', 'apr_g9_dqn_SpaceInvaders-v0_weights_1590000.h5f.index', 'apr_g9_dqn_SpaceInvaders-v0_weights_1620000.h5f.data-00000-of-00001', 'apr_g9_dqn_SpaceInvaders-v0_weights_1620000.h5f.index', 'apr_g9_dqn_SpaceInvaders-v0_weights_1650000.h5f.data-00000-of-00001', 'apr_g9_dqn_SpaceInvaders-v0_weights_1650000.h5f.index', 'apr_g9_dqn_SpaceInvaders-v0_weights_1680000.h5f.data-00000-of-00001', 'apr_g9_dqn_SpaceInvaders-v0_weights_1680000.h5f.index', 'apr_g9_dqn_SpaceInvaders-v0_weights_1710000.h5f.data-00000-of-00001', 'apr_g9_dqn_SpaceInvaders-v0_weights_1710000.h5f.index', 'apr_g9_dqn_SpaceInvaders-v0_weights_1740000.h5f.data-00000-of-00001', 'apr_g9_dqn_SpaceInvaders-v0_weights_1740000.h5f.index', 'apr_g9_dqn_SpaceInvaders-v0_weights_1770000.h5f.data-00000-of-00001', 'apr_g9_dqn_SpaceInvaders-v0_weights_1770000.h5f.index', 'apr_g9_dqn_SpaceInvaders-v0_weights_180000.h5f.data-00000-of-00001', 'apr_g9_dqn_SpaceInvaders-v0_weights_180000.h5f.index', 'apr_g9_dqn_SpaceInvaders-v0_weights_1800000.h5f.data-00000-of-00001', 'apr_g9_dqn_SpaceInvaders-v0_weights_1800000.h5f.index', 'apr_g9_dqn_SpaceInvaders-v0_weights_1830000.h5f.data-00000-of-00001', 'apr_g9_dqn_SpaceInvaders-v0_weights_1830000.h5f.index', 'apr_g9_dqn_SpaceInvaders-v0_weights_1860000.h5f.data-00000-of-00001', 'apr_g9_dqn_SpaceInvaders-v0_weights_1860000.h5f.index', 'apr_g9_dqn_SpaceInvaders-v0_weights_1890000.h5f.data-00000-of-00001', 'apr_g9_dqn_SpaceInvaders-v0_weights_1890000.h5f.index', 'apr_g9_dqn_SpaceInvaders-v0_weights_1920000.h5f.data-00000-of-00001', 'apr_g9_dqn_SpaceInvaders-v0_weights_1920000.h5f.index', 'apr_g9_dqn_SpaceInvaders-v0_weights_1950000.h5f.data-00000-of-00001', 'apr_g9_dqn_SpaceInvaders-v0_weights_1950000.h5f.index', 'apr_g9_dqn_SpaceInvaders-v0_weights_1980000.h5f.data-00000-of-00001', 'apr_g9_dqn_SpaceInvaders-v0_weights_1980000.h5f.index', 'apr_g9_dqn_SpaceInvaders-v0_weights_2010000.h5f.data-00000-of-00001', 'apr_g9_dqn_SpaceInvaders-v0_weights_2010000.h5f.index', 'apr_g9_dqn_SpaceInvaders-v0_weights_2040000.h5f.data-00000-of-00001', 'apr_g9_dqn_SpaceInvaders-v0_weights_2040000.h5f.index', 'apr_g9_dqn_SpaceInvaders-v0_weights_2070000.h5f.data-00000-of-00001', 'apr_g9_dqn_SpaceInvaders-v0_weights_2070000.h5f.index', 'apr_g9_dqn_SpaceInvaders-v0_weights_210000.h5f.data-00000-of-00001', 'apr_g9_dqn_SpaceInvaders-v0_weights_210000.h5f.index', 'apr_g9_dqn_SpaceInvaders-v0_weights_2100000.h5f.data-00000-of-00001', 'apr_g9_dqn_SpaceInvaders-v0_weights_2100000.h5f.index', 'apr_g9_dqn_SpaceInvaders-v0_weights_2130000.h5f.data-00000-of-00001', 'apr_g9_dqn_SpaceInvaders-v0_weights_2130000.h5f.index', 'apr_g9_dqn_SpaceInvaders-v0_weights_2160000.h5f.data-00000-of-00001', 'apr_g9_dqn_SpaceInvaders-v0_weights_2160000.h5f.index', 'apr_g9_dqn_SpaceInvaders-v0_weights_2190000.h5f.data-00000-of-00001', 'apr_g9_dqn_SpaceInvaders-v0_weights_2190000.h5f.index', 'apr_g9_dqn_SpaceInvaders-v0_weights_2220000.h5f.data-00000-of-00001', 'apr_g9_dqn_SpaceInvaders-v0_weights_2220000.h5f.index', 'apr_g9_dqn_SpaceInvaders-v0_weights_2250000.h5f.data-00000-of-00001', 'apr_g9_dqn_SpaceInvaders-v0_weights_2250000.h5f.index', 'apr_g9_dqn_SpaceInvaders-v0_weights_2280000.h5f.data-00000-of-00001', 'apr_g9_dqn_SpaceInvaders-v0_weights_2280000.h5f.index', 'apr_g9_dqn_SpaceInvaders-v0_weights_2310000.h5f_temp', 'apr_g9_dqn_SpaceInvaders-v0_weights_240000.h5f.data-00000-of-00001', 'apr_g9_dqn_SpaceInvaders-v0_weights_240000.h5f.index', 'apr_g9_dqn_SpaceInvaders-v0_weights_250000.h5f.data-00000-of-00001', 'apr_g9_dqn_SpaceInvaders-v0_weights_250000.h5f.index', 'apr_g9_dqn_SpaceInvaders-v0_weights_270000.h5f.data-00000-of-00001', 'apr_g9_dqn_SpaceInvaders-v0_weights_270000.h5f.index', 'apr_g9_dqn_SpaceInvaders-v0_weights_30000.h5f.data-00000-of-00001', 'apr_g9_dqn_SpaceInvaders-v0_weights_30000.h5f.index', 'apr_g9_dqn_SpaceInvaders-v0_weights_300000.h5f.data-00000-of-00001', 'apr_g9_dqn_SpaceInvaders-v0_weights_300000.h5f.index', 'apr_g9_dqn_SpaceInvaders-v0_weights_330000.h5f.data-00000-of-00001', 'apr_g9_dqn_SpaceInvaders-v0_weights_330000.h5f.index', 'apr_g9_dqn_SpaceInvaders-v0_weights_360000.h5f.data-00000-of-00001', 'apr_g9_dqn_SpaceInvaders-v0_weights_360000.h5f.index', 'apr_g9_dqn_SpaceInvaders-v0_weights_390000.h5f.data-00000-of-00001', 'apr_g9_dqn_SpaceInvaders-v0_weights_390000.h5f.index', 'apr_g9_dqn_SpaceInvaders-v0_weights_420000.h5f.data-00000-of-00001', 'apr_g9_dqn_SpaceInvaders-v0_weights_420000.h5f.index', 'apr_g9_dqn_SpaceInvaders-v0_weights_450000.h5f.data-00000-of-00001', 'apr_g9_dqn_SpaceInvaders-v0_weights_450000.h5f.index', 'apr_g9_dqn_SpaceInvaders-v0_weights_480000.h5f.data-00000-of-00001', 'apr_g9_dqn_SpaceInvaders-v0_weights_480000.h5f.index', 'apr_g9_dqn_SpaceInvaders-v0_weights_500000.h5f.data-00000-of-00001', 'apr_g9_dqn_SpaceInvaders-v0_weights_500000.h5f.index', 'apr_g9_dqn_SpaceInvaders-v0_weights_510000.h5f.data-00000-of-00001', 'apr_g9_dqn_SpaceInvaders-v0_weights_510000.h5f.index', 'apr_g9_dqn_SpaceInvaders-v0_weights_540000.h5f.data-00000-of-00001', 'apr_g9_dqn_SpaceInvaders-v0_weights_540000.h5f.index', 'apr_g9_dqn_SpaceInvaders-v0_weights_570000.h5f.data-00000-of-00001', 'apr_g9_dqn_SpaceInvaders-v0_weights_570000.h5f.index', 'apr_g9_dqn_SpaceInvaders-v0_weights_60000.h5f.data-00000-of-00001', 'apr_g9_dqn_SpaceInvaders-v0_weights_60000.h5f.index', 'apr_g9_dqn_SpaceInvaders-v0_weights_600000.h5f.data-00000-of-00001', 'apr_g9_dqn_SpaceInvaders-v0_weights_600000.h5f.index', 'apr_g9_dqn_SpaceInvaders-v0_weights_630000.h5f.data-00000-of-00001', 'apr_g9_dqn_SpaceInvaders-v0_weights_630000.h5f.index', 'apr_g9_dqn_SpaceInvaders-v0_weights_660000.h5f.data-00000-of-00001', 'apr_g9_dqn_SpaceInvaders-v0_weights_660000.h5f.index', 'apr_g9_dqn_SpaceInvaders-v0_weights_690000.h5f.data-00000-of-00001', 'apr_g9_dqn_SpaceInvaders-v0_weights_690000.h5f.index', 'apr_g9_dqn_SpaceInvaders-v0_weights_720000.h5f.data-00000-of-00001', 'apr_g9_dqn_SpaceInvaders-v0_weights_720000.h5f.index', 'apr_g9_dqn_SpaceInvaders-v0_weights_750000.h5f.data-00000-of-00001', 'apr_g9_dqn_SpaceInvaders-v0_weights_750000.h5f.index', 'apr_g9_dqn_SpaceInvaders-v0_weights_780000.h5f.data-00000-of-00001', 'apr_g9_dqn_SpaceInvaders-v0_weights_780000.h5f.index', 'apr_g9_dqn_SpaceInvaders-v0_weights_810000.h5f.data-00000-of-00001', 'apr_g9_dqn_SpaceInvaders-v0_weights_810000.h5f.index', 'apr_g9_dqn_SpaceInvaders-v0_weights_840000.h5f.data-00000-of-00001', 'apr_g9_dqn_SpaceInvaders-v0_weights_840000.h5f.index', 'apr_g9_dqn_SpaceInvaders-v0_weights_870000.h5f.data-00000-of-00001', 'apr_g9_dqn_SpaceInvaders-v0_weights_870000.h5f.index', 'apr_g9_dqn_SpaceInvaders-v0_weights_90000.h5f.data-00000-of-00001', 'apr_g9_dqn_SpaceInvaders-v0_weights_90000.h5f.index', 'apr_g9_dqn_SpaceInvaders-v0_weights_900000.h5f.data-00000-of-00001', 'apr_g9_dqn_SpaceInvaders-v0_weights_900000.h5f.index', 'apr_g9_dqn_SpaceInvaders-v0_weights_930000.h5f.data-00000-of-00001', 'apr_g9_dqn_SpaceInvaders-v0_weights_930000.h5f.index', 'apr_g9_dqn_SpaceInvaders-v0_weights_960000.h5f.data-00000-of-00001', 'apr_g9_dqn_SpaceInvaders-v0_weights_960000.h5f.index', 'apr_g9_dqn_SpaceInvaders-v0_weights_990000.h5f.data-00000-of-00001', 'apr_g9_dqn_SpaceInvaders-v0_weights_990000.h5f.index', 'APR_Grupo_9-4M.ipynb', 'APR_Grupo_9-6M-GPU.ipynb', 'APR_Grupo_9-6M.ipynb', 'APR_Grupo_9.ipynb', 'best_model_weights.h5f.data-00000-of-00001', 'best_model_weights.h5f.index', 'best_model_weights_4M.h5f.data-00000-of-00001', 'best_model_weights_4M.h5f.index', 'best_model_weights_6M.h5f.data-00000-of-00001', 'best_model_weights_6M.h5f.index', 'checkpoint', 'grafico_recompensas.png', 'grafico_recompensas_4M.png', 'grafico_recompensas_6M.png', 'mejor_ejecucion.txt', 'mejor_ejecucion_4M.txt', 'mejor_ejecucion_6M.txt', 'README.md', 'test_rewards.npy', 'test_rewards_4M.npy', 'test_rewards_6M.npy']\n"
     ]
    }
   ],
   "source": [
    "# Switch to the directory on the Google Drive that you want to use\n",
    "import os\n",
    "if IN_COLAB:\n",
    "  print(\"We're running Colab\")\n",
    "\n",
    "  if IN_COLAB:\n",
    "    # Mount the Google Drive at mount\n",
    "    print(\"Colab: mounting Google drive on \", mount)\n",
    "\n",
    "    drive.mount(mount)\n",
    "\n",
    "    # Create drive_root if it doesn't exist\n",
    "    create_drive_root = True\n",
    "    if create_drive_root:\n",
    "      print(\"\\nColab: making sure \", drive_root, \" exists.\")\n",
    "      os.makedirs(drive_root, exist_ok=True)\n",
    "\n",
    "    # Change to the directory\n",
    "    print(\"\\nColab: Changing directory to \", drive_root)\n",
    "    %cd $drive_root\n",
    "# Verify we're in the correct working directory\n",
    "%pwd\n",
    "print(\"Archivos en el directorio: \")\n",
    "print(os.listdir())"
   ]
  },
  {
   "cell_type": "markdown",
   "metadata": {
    "id": "i1ZSL5bpJ560"
   },
   "source": [
    "---\n",
    "### 1.4. Instalar librerías necesarias"
   ]
  },
  {
   "cell_type": "code",
   "execution_count": 3,
   "metadata": {
    "colab": {
     "base_uri": "https://localhost:8080/",
     "height": 1000
    },
    "id": "UbVRjvHCJ8UF",
    "outputId": "fe539761-ae1b-4e9f-95de-9a3cfa9ae8bc",
    "scrolled": true
   },
   "outputs": [
    {
     "name": "stdout",
     "output_type": "stream",
     "text": [
      "Requirement already satisfied: gym==0.17.3 in c:\\users\\dmigl\\anaconda3\\envs\\env_apr_g9\\lib\\site-packages (0.17.3)\n",
      "Requirement already satisfied: scipy in c:\\users\\dmigl\\anaconda3\\envs\\env_apr_g9\\lib\\site-packages (from gym==0.17.3) (1.10.1)\n",
      "Requirement already satisfied: numpy>=1.10.4 in c:\\users\\dmigl\\anaconda3\\envs\\env_apr_g9\\lib\\site-packages (from gym==0.17.3) (1.24.4)\n",
      "Requirement already satisfied: pyglet<=1.5.0,>=1.4.0 in c:\\users\\dmigl\\anaconda3\\envs\\env_apr_g9\\lib\\site-packages (from gym==0.17.3) (1.5.0)\n",
      "Requirement already satisfied: cloudpickle<1.7.0,>=1.2.0 in c:\\users\\dmigl\\anaconda3\\envs\\env_apr_g9\\lib\\site-packages (from gym==0.17.3) (1.6.0)\n",
      "Requirement already satisfied: future in c:\\users\\dmigl\\anaconda3\\envs\\env_apr_g9\\lib\\site-packages (from pyglet<=1.5.0,>=1.4.0->gym==0.17.3) (1.0.0)\n",
      "Note: you may need to restart the kernel to use updated packages.\n",
      "Collecting git+https://github.com/Kojoley/atari-py.git\n",
      "  Cloning https://github.com/Kojoley/atari-py.git to c:\\users\\dmigl\\appdata\\local\\temp\\pip-req-build-r02cc9bg\n",
      "  Resolved https://github.com/Kojoley/atari-py.git to commit 86a1e05c0a95e9e6233c3a413521fdb34ca8a089\n",
      "  Preparing metadata (setup.py): started\n",
      "  Preparing metadata (setup.py): finished with status 'done'\n",
      "Requirement already satisfied: numpy in c:\\users\\dmigl\\anaconda3\\envs\\env_apr_g9\\lib\\site-packages (from atari-py==1.2.2) (1.24.4)\n",
      "Note: you may need to restart the kernel to use updated packages.\n"
     ]
    },
    {
     "name": "stderr",
     "output_type": "stream",
     "text": [
      "  Running command git clone --filter=blob:none --quiet https://github.com/Kojoley/atari-py.git 'C:\\Users\\dmigl\\AppData\\Local\\Temp\\pip-req-build-r02cc9bg'\n"
     ]
    },
    {
     "name": "stdout",
     "output_type": "stream",
     "text": [
      "Requirement already satisfied: pyglet==1.5.0 in c:\\users\\dmigl\\anaconda3\\envs\\env_apr_g9\\lib\\site-packages (1.5.0)\n",
      "Requirement already satisfied: future in c:\\users\\dmigl\\anaconda3\\envs\\env_apr_g9\\lib\\site-packages (from pyglet==1.5.0) (1.0.0)\n",
      "Note: you may need to restart the kernel to use updated packages.\n",
      "Requirement already satisfied: h5py==3.1.0 in c:\\users\\dmigl\\anaconda3\\envs\\env_apr_g9\\lib\\site-packages (3.1.0)\n",
      "Requirement already satisfied: numpy>=1.17.5 in c:\\users\\dmigl\\anaconda3\\envs\\env_apr_g9\\lib\\site-packages (from h5py==3.1.0) (1.24.4)\n",
      "Note: you may need to restart the kernel to use updated packages.\n",
      "Requirement already satisfied: Pillow==9.5.0 in c:\\users\\dmigl\\anaconda3\\envs\\env_apr_g9\\lib\\site-packages (9.5.0)\n",
      "Note: you may need to restart the kernel to use updated packages.\n",
      "Requirement already satisfied: keras-rl2==1.0.5 in c:\\users\\dmigl\\anaconda3\\envs\\env_apr_g9\\lib\\site-packages (1.0.5)\n",
      "Requirement already satisfied: tensorflow in c:\\users\\dmigl\\anaconda3\\envs\\env_apr_g9\\lib\\site-packages (from keras-rl2==1.0.5) (2.5.3)\n",
      "Collecting numpy~=1.19.2 (from tensorflow->keras-rl2==1.0.5)\n",
      "  Using cached numpy-1.19.5-cp38-cp38-win_amd64.whl.metadata (2.0 kB)\n",
      "Requirement already satisfied: absl-py~=0.10 in c:\\users\\dmigl\\anaconda3\\envs\\env_apr_g9\\lib\\site-packages (from tensorflow->keras-rl2==1.0.5) (0.15.0)\n",
      "Requirement already satisfied: astunparse~=1.6.3 in c:\\users\\dmigl\\anaconda3\\envs\\env_apr_g9\\lib\\site-packages (from tensorflow->keras-rl2==1.0.5) (1.6.3)\n",
      "Requirement already satisfied: flatbuffers~=1.12.0 in c:\\users\\dmigl\\anaconda3\\envs\\env_apr_g9\\lib\\site-packages (from tensorflow->keras-rl2==1.0.5) (1.12)\n",
      "Requirement already satisfied: google-pasta~=0.2 in c:\\users\\dmigl\\anaconda3\\envs\\env_apr_g9\\lib\\site-packages (from tensorflow->keras-rl2==1.0.5) (0.2.0)\n",
      "Requirement already satisfied: h5py~=3.1.0 in c:\\users\\dmigl\\anaconda3\\envs\\env_apr_g9\\lib\\site-packages (from tensorflow->keras-rl2==1.0.5) (3.1.0)\n",
      "Requirement already satisfied: keras-preprocessing~=1.1.2 in c:\\users\\dmigl\\anaconda3\\envs\\env_apr_g9\\lib\\site-packages (from tensorflow->keras-rl2==1.0.5) (1.1.2)\n",
      "Requirement already satisfied: opt-einsum~=3.3.0 in c:\\users\\dmigl\\anaconda3\\envs\\env_apr_g9\\lib\\site-packages (from tensorflow->keras-rl2==1.0.5) (3.3.0)\n",
      "Requirement already satisfied: protobuf>=3.9.2 in c:\\users\\dmigl\\anaconda3\\envs\\env_apr_g9\\lib\\site-packages (from tensorflow->keras-rl2==1.0.5) (3.20.3)\n",
      "Requirement already satisfied: six~=1.15.0 in c:\\users\\dmigl\\anaconda3\\envs\\env_apr_g9\\lib\\site-packages (from tensorflow->keras-rl2==1.0.5) (1.15.0)\n",
      "Requirement already satisfied: termcolor~=1.1.0 in c:\\users\\dmigl\\anaconda3\\envs\\env_apr_g9\\lib\\site-packages (from tensorflow->keras-rl2==1.0.5) (1.1.0)\n",
      "Requirement already satisfied: typing-extensions~=3.7.4 in c:\\users\\dmigl\\anaconda3\\envs\\env_apr_g9\\lib\\site-packages (from tensorflow->keras-rl2==1.0.5) (3.7.4.3)\n",
      "Requirement already satisfied: wheel~=0.35 in c:\\users\\dmigl\\anaconda3\\envs\\env_apr_g9\\lib\\site-packages (from tensorflow->keras-rl2==1.0.5) (0.44.0)\n",
      "Requirement already satisfied: wrapt~=1.12.1 in c:\\users\\dmigl\\anaconda3\\envs\\env_apr_g9\\lib\\site-packages (from tensorflow->keras-rl2==1.0.5) (1.12.1)\n",
      "Requirement already satisfied: gast==0.4.0 in c:\\users\\dmigl\\anaconda3\\envs\\env_apr_g9\\lib\\site-packages (from tensorflow->keras-rl2==1.0.5) (0.4.0)\n",
      "Requirement already satisfied: tensorboard~=2.5 in c:\\users\\dmigl\\anaconda3\\envs\\env_apr_g9\\lib\\site-packages (from tensorflow->keras-rl2==1.0.5) (2.11.2)\n",
      "Requirement already satisfied: tensorflow-estimator<2.6.0,>=2.5.0 in c:\\users\\dmigl\\anaconda3\\envs\\env_apr_g9\\lib\\site-packages (from tensorflow->keras-rl2==1.0.5) (2.5.0)\n",
      "Requirement already satisfied: keras-nightly~=2.5.0.dev in c:\\users\\dmigl\\anaconda3\\envs\\env_apr_g9\\lib\\site-packages (from tensorflow->keras-rl2==1.0.5) (2.5.0.dev2021032900)\n",
      "Requirement already satisfied: grpcio~=1.34.0 in c:\\users\\dmigl\\anaconda3\\envs\\env_apr_g9\\lib\\site-packages (from tensorflow->keras-rl2==1.0.5) (1.34.1)\n",
      "Requirement already satisfied: google-auth<3,>=1.6.3 in c:\\users\\dmigl\\anaconda3\\envs\\env_apr_g9\\lib\\site-packages (from tensorboard~=2.5->tensorflow->keras-rl2==1.0.5) (2.40.3)\n",
      "Requirement already satisfied: google-auth-oauthlib<0.5,>=0.4.1 in c:\\users\\dmigl\\anaconda3\\envs\\env_apr_g9\\lib\\site-packages (from tensorboard~=2.5->tensorflow->keras-rl2==1.0.5) (0.4.6)\n",
      "Requirement already satisfied: markdown>=2.6.8 in c:\\users\\dmigl\\anaconda3\\envs\\env_apr_g9\\lib\\site-packages (from tensorboard~=2.5->tensorflow->keras-rl2==1.0.5) (3.7)\n",
      "Requirement already satisfied: requests<3,>=2.21.0 in c:\\users\\dmigl\\anaconda3\\envs\\env_apr_g9\\lib\\site-packages (from tensorboard~=2.5->tensorflow->keras-rl2==1.0.5) (2.32.4)\n",
      "Requirement already satisfied: setuptools>=41.0.0 in c:\\users\\dmigl\\anaconda3\\envs\\env_apr_g9\\lib\\site-packages (from tensorboard~=2.5->tensorflow->keras-rl2==1.0.5) (75.3.2)\n",
      "Requirement already satisfied: tensorboard-data-server<0.7.0,>=0.6.0 in c:\\users\\dmigl\\anaconda3\\envs\\env_apr_g9\\lib\\site-packages (from tensorboard~=2.5->tensorflow->keras-rl2==1.0.5) (0.6.1)\n",
      "Requirement already satisfied: tensorboard-plugin-wit>=1.6.0 in c:\\users\\dmigl\\anaconda3\\envs\\env_apr_g9\\lib\\site-packages (from tensorboard~=2.5->tensorflow->keras-rl2==1.0.5) (1.8.1)\n",
      "Requirement already satisfied: werkzeug>=1.0.1 in c:\\users\\dmigl\\anaconda3\\envs\\env_apr_g9\\lib\\site-packages (from tensorboard~=2.5->tensorflow->keras-rl2==1.0.5) (3.0.6)\n",
      "Requirement already satisfied: cachetools<6.0,>=2.0.0 in c:\\users\\dmigl\\anaconda3\\envs\\env_apr_g9\\lib\\site-packages (from google-auth<3,>=1.6.3->tensorboard~=2.5->tensorflow->keras-rl2==1.0.5) (5.5.2)\n",
      "Requirement already satisfied: pyasn1-modules>=0.2.1 in c:\\users\\dmigl\\anaconda3\\envs\\env_apr_g9\\lib\\site-packages (from google-auth<3,>=1.6.3->tensorboard~=2.5->tensorflow->keras-rl2==1.0.5) (0.4.2)\n",
      "Requirement already satisfied: rsa<5,>=3.1.4 in c:\\users\\dmigl\\anaconda3\\envs\\env_apr_g9\\lib\\site-packages (from google-auth<3,>=1.6.3->tensorboard~=2.5->tensorflow->keras-rl2==1.0.5) (4.9.1)\n",
      "Requirement already satisfied: requests-oauthlib>=0.7.0 in c:\\users\\dmigl\\anaconda3\\envs\\env_apr_g9\\lib\\site-packages (from google-auth-oauthlib<0.5,>=0.4.1->tensorboard~=2.5->tensorflow->keras-rl2==1.0.5) (2.0.0)\n",
      "Requirement already satisfied: importlib-metadata>=4.4 in c:\\users\\dmigl\\anaconda3\\envs\\env_apr_g9\\lib\\site-packages (from markdown>=2.6.8->tensorboard~=2.5->tensorflow->keras-rl2==1.0.5) (8.5.0)\n",
      "Requirement already satisfied: charset_normalizer<4,>=2 in c:\\users\\dmigl\\anaconda3\\envs\\env_apr_g9\\lib\\site-packages (from requests<3,>=2.21.0->tensorboard~=2.5->tensorflow->keras-rl2==1.0.5) (3.4.2)\n",
      "Requirement already satisfied: idna<4,>=2.5 in c:\\users\\dmigl\\anaconda3\\envs\\env_apr_g9\\lib\\site-packages (from requests<3,>=2.21.0->tensorboard~=2.5->tensorflow->keras-rl2==1.0.5) (3.10)\n",
      "Requirement already satisfied: urllib3<3,>=1.21.1 in c:\\users\\dmigl\\anaconda3\\envs\\env_apr_g9\\lib\\site-packages (from requests<3,>=2.21.0->tensorboard~=2.5->tensorflow->keras-rl2==1.0.5) (2.2.3)\n",
      "Requirement already satisfied: certifi>=2017.4.17 in c:\\users\\dmigl\\anaconda3\\envs\\env_apr_g9\\lib\\site-packages (from requests<3,>=2.21.0->tensorboard~=2.5->tensorflow->keras-rl2==1.0.5) (2025.6.15)\n",
      "Requirement already satisfied: MarkupSafe>=2.1.1 in c:\\users\\dmigl\\anaconda3\\envs\\env_apr_g9\\lib\\site-packages (from werkzeug>=1.0.1->tensorboard~=2.5->tensorflow->keras-rl2==1.0.5) (2.1.5)\n",
      "Requirement already satisfied: zipp>=3.20 in c:\\users\\dmigl\\anaconda3\\envs\\env_apr_g9\\lib\\site-packages (from importlib-metadata>=4.4->markdown>=2.6.8->tensorboard~=2.5->tensorflow->keras-rl2==1.0.5) (3.20.2)\n",
      "Requirement already satisfied: pyasn1<0.7.0,>=0.6.1 in c:\\users\\dmigl\\anaconda3\\envs\\env_apr_g9\\lib\\site-packages (from pyasn1-modules>=0.2.1->google-auth<3,>=1.6.3->tensorboard~=2.5->tensorflow->keras-rl2==1.0.5) (0.6.1)\n",
      "Requirement already satisfied: oauthlib>=3.0.0 in c:\\users\\dmigl\\anaconda3\\envs\\env_apr_g9\\lib\\site-packages (from requests-oauthlib>=0.7.0->google-auth-oauthlib<0.5,>=0.4.1->tensorboard~=2.5->tensorflow->keras-rl2==1.0.5) (3.2.2)\n",
      "Using cached numpy-1.19.5-cp38-cp38-win_amd64.whl (13.3 MB)\n",
      "Installing collected packages: numpy\n",
      "  Attempting uninstall: numpy\n",
      "    Found existing installation: numpy 1.24.4\n",
      "    Uninstalling numpy-1.24.4:\n",
      "      Successfully uninstalled numpy-1.24.4\n",
      "Successfully installed numpy-1.19.5\n",
      "Note: you may need to restart the kernel to use updated packages.\n"
     ]
    },
    {
     "name": "stderr",
     "output_type": "stream",
     "text": [
      "  WARNING: The script f2py.exe is installed in 'C:\\Users\\dmigl\\anaconda3\\envs\\env_apr_g9\\Scripts' which is not on PATH.\n",
      "  Consider adding this directory to PATH or, if you prefer to suppress this warning, use --no-warn-script-location.\n"
     ]
    },
    {
     "name": "stdout",
     "output_type": "stream",
     "text": [
      "Requirement already satisfied: Keras==2.2.4 in c:\\users\\dmigl\\anaconda3\\envs\\env_apr_g9\\lib\\site-packages (2.2.4)\n",
      "Requirement already satisfied: numpy>=1.9.1 in c:\\users\\dmigl\\anaconda3\\envs\\env_apr_g9\\lib\\site-packages (from Keras==2.2.4) (1.19.5)\n",
      "Requirement already satisfied: scipy>=0.14 in c:\\users\\dmigl\\anaconda3\\envs\\env_apr_g9\\lib\\site-packages (from Keras==2.2.4) (1.10.1)\n",
      "Requirement already satisfied: six>=1.9.0 in c:\\users\\dmigl\\anaconda3\\envs\\env_apr_g9\\lib\\site-packages (from Keras==2.2.4) (1.15.0)\n",
      "Requirement already satisfied: pyyaml in c:\\users\\dmigl\\anaconda3\\envs\\env_apr_g9\\lib\\site-packages (from Keras==2.2.4) (6.0.2)\n",
      "Requirement already satisfied: h5py in c:\\users\\dmigl\\anaconda3\\envs\\env_apr_g9\\lib\\site-packages (from Keras==2.2.4) (3.1.0)\n",
      "Requirement already satisfied: keras-applications>=1.0.6 in c:\\users\\dmigl\\anaconda3\\envs\\env_apr_g9\\lib\\site-packages (from Keras==2.2.4) (1.0.8)\n",
      "Requirement already satisfied: keras-preprocessing>=1.0.5 in c:\\users\\dmigl\\anaconda3\\envs\\env_apr_g9\\lib\\site-packages (from Keras==2.2.4) (1.1.2)\n",
      "Note: you may need to restart the kernel to use updated packages.\n",
      "Requirement already satisfied: tensorflow==2.5.3 in c:\\users\\dmigl\\anaconda3\\envs\\env_apr_g9\\lib\\site-packages (2.5.3)Note: you may need to restart the kernel to use updated packages.\n",
      "\n",
      "Requirement already satisfied: numpy~=1.19.2 in c:\\users\\dmigl\\anaconda3\\envs\\env_apr_g9\\lib\\site-packages (from tensorflow==2.5.3) (1.19.5)\n",
      "Requirement already satisfied: absl-py~=0.10 in c:\\users\\dmigl\\anaconda3\\envs\\env_apr_g9\\lib\\site-packages (from tensorflow==2.5.3) (0.15.0)\n",
      "Requirement already satisfied: astunparse~=1.6.3 in c:\\users\\dmigl\\anaconda3\\envs\\env_apr_g9\\lib\\site-packages (from tensorflow==2.5.3) (1.6.3)\n",
      "Requirement already satisfied: flatbuffers~=1.12.0 in c:\\users\\dmigl\\anaconda3\\envs\\env_apr_g9\\lib\\site-packages (from tensorflow==2.5.3) (1.12)\n",
      "Requirement already satisfied: google-pasta~=0.2 in c:\\users\\dmigl\\anaconda3\\envs\\env_apr_g9\\lib\\site-packages (from tensorflow==2.5.3) (0.2.0)\n",
      "Requirement already satisfied: h5py~=3.1.0 in c:\\users\\dmigl\\anaconda3\\envs\\env_apr_g9\\lib\\site-packages (from tensorflow==2.5.3) (3.1.0)\n",
      "Requirement already satisfied: keras-preprocessing~=1.1.2 in c:\\users\\dmigl\\anaconda3\\envs\\env_apr_g9\\lib\\site-packages (from tensorflow==2.5.3) (1.1.2)\n",
      "Requirement already satisfied: opt-einsum~=3.3.0 in c:\\users\\dmigl\\anaconda3\\envs\\env_apr_g9\\lib\\site-packages (from tensorflow==2.5.3) (3.3.0)\n",
      "Requirement already satisfied: protobuf>=3.9.2 in c:\\users\\dmigl\\anaconda3\\envs\\env_apr_g9\\lib\\site-packages (from tensorflow==2.5.3) (3.20.3)\n",
      "Requirement already satisfied: six~=1.15.0 in c:\\users\\dmigl\\anaconda3\\envs\\env_apr_g9\\lib\\site-packages (from tensorflow==2.5.3) (1.15.0)\n",
      "Requirement already satisfied: termcolor~=1.1.0 in c:\\users\\dmigl\\anaconda3\\envs\\env_apr_g9\\lib\\site-packages (from tensorflow==2.5.3) (1.1.0)\n",
      "Requirement already satisfied: typing-extensions~=3.7.4 in c:\\users\\dmigl\\anaconda3\\envs\\env_apr_g9\\lib\\site-packages (from tensorflow==2.5.3) (3.7.4.3)\n",
      "Requirement already satisfied: wheel~=0.35 in c:\\users\\dmigl\\anaconda3\\envs\\env_apr_g9\\lib\\site-packages (from tensorflow==2.5.3) (0.44.0)\n",
      "Requirement already satisfied: wrapt~=1.12.1 in c:\\users\\dmigl\\anaconda3\\envs\\env_apr_g9\\lib\\site-packages (from tensorflow==2.5.3) (1.12.1)\n",
      "Requirement already satisfied: gast==0.4.0 in c:\\users\\dmigl\\anaconda3\\envs\\env_apr_g9\\lib\\site-packages (from tensorflow==2.5.3) (0.4.0)\n",
      "Requirement already satisfied: tensorboard~=2.5 in c:\\users\\dmigl\\anaconda3\\envs\\env_apr_g9\\lib\\site-packages (from tensorflow==2.5.3) (2.11.2)\n",
      "Requirement already satisfied: tensorflow-estimator<2.6.0,>=2.5.0 in c:\\users\\dmigl\\anaconda3\\envs\\env_apr_g9\\lib\\site-packages (from tensorflow==2.5.3) (2.5.0)\n",
      "Requirement already satisfied: keras-nightly~=2.5.0.dev in c:\\users\\dmigl\\anaconda3\\envs\\env_apr_g9\\lib\\site-packages (from tensorflow==2.5.3) (2.5.0.dev2021032900)\n",
      "Requirement already satisfied: grpcio~=1.34.0 in c:\\users\\dmigl\\anaconda3\\envs\\env_apr_g9\\lib\\site-packages (from tensorflow==2.5.3) (1.34.1)\n",
      "Requirement already satisfied: google-auth<3,>=1.6.3 in c:\\users\\dmigl\\anaconda3\\envs\\env_apr_g9\\lib\\site-packages (from tensorboard~=2.5->tensorflow==2.5.3) (2.40.3)\n",
      "Requirement already satisfied: google-auth-oauthlib<0.5,>=0.4.1 in c:\\users\\dmigl\\anaconda3\\envs\\env_apr_g9\\lib\\site-packages (from tensorboard~=2.5->tensorflow==2.5.3) (0.4.6)\n",
      "Requirement already satisfied: markdown>=2.6.8 in c:\\users\\dmigl\\anaconda3\\envs\\env_apr_g9\\lib\\site-packages (from tensorboard~=2.5->tensorflow==2.5.3) (3.7)\n",
      "Requirement already satisfied: requests<3,>=2.21.0 in c:\\users\\dmigl\\anaconda3\\envs\\env_apr_g9\\lib\\site-packages (from tensorboard~=2.5->tensorflow==2.5.3) (2.32.4)\n",
      "Requirement already satisfied: setuptools>=41.0.0 in c:\\users\\dmigl\\anaconda3\\envs\\env_apr_g9\\lib\\site-packages (from tensorboard~=2.5->tensorflow==2.5.3) (75.3.2)\n",
      "Requirement already satisfied: tensorboard-data-server<0.7.0,>=0.6.0 in c:\\users\\dmigl\\anaconda3\\envs\\env_apr_g9\\lib\\site-packages (from tensorboard~=2.5->tensorflow==2.5.3) (0.6.1)\n",
      "Requirement already satisfied: tensorboard-plugin-wit>=1.6.0 in c:\\users\\dmigl\\anaconda3\\envs\\env_apr_g9\\lib\\site-packages (from tensorboard~=2.5->tensorflow==2.5.3) (1.8.1)\n",
      "Requirement already satisfied: werkzeug>=1.0.1 in c:\\users\\dmigl\\anaconda3\\envs\\env_apr_g9\\lib\\site-packages (from tensorboard~=2.5->tensorflow==2.5.3) (3.0.6)\n",
      "Requirement already satisfied: cachetools<6.0,>=2.0.0 in c:\\users\\dmigl\\anaconda3\\envs\\env_apr_g9\\lib\\site-packages (from google-auth<3,>=1.6.3->tensorboard~=2.5->tensorflow==2.5.3) (5.5.2)\n",
      "Requirement already satisfied: pyasn1-modules>=0.2.1 in c:\\users\\dmigl\\anaconda3\\envs\\env_apr_g9\\lib\\site-packages (from google-auth<3,>=1.6.3->tensorboard~=2.5->tensorflow==2.5.3) (0.4.2)\n",
      "Requirement already satisfied: rsa<5,>=3.1.4 in c:\\users\\dmigl\\anaconda3\\envs\\env_apr_g9\\lib\\site-packages (from google-auth<3,>=1.6.3->tensorboard~=2.5->tensorflow==2.5.3) (4.9.1)\n",
      "Requirement already satisfied: requests-oauthlib>=0.7.0 in c:\\users\\dmigl\\anaconda3\\envs\\env_apr_g9\\lib\\site-packages (from google-auth-oauthlib<0.5,>=0.4.1->tensorboard~=2.5->tensorflow==2.5.3) (2.0.0)\n",
      "Requirement already satisfied: importlib-metadata>=4.4 in c:\\users\\dmigl\\anaconda3\\envs\\env_apr_g9\\lib\\site-packages (from markdown>=2.6.8->tensorboard~=2.5->tensorflow==2.5.3) (8.5.0)\n",
      "Requirement already satisfied: charset_normalizer<4,>=2 in c:\\users\\dmigl\\anaconda3\\envs\\env_apr_g9\\lib\\site-packages (from requests<3,>=2.21.0->tensorboard~=2.5->tensorflow==2.5.3) (3.4.2)\n",
      "Requirement already satisfied: idna<4,>=2.5 in c:\\users\\dmigl\\anaconda3\\envs\\env_apr_g9\\lib\\site-packages (from requests<3,>=2.21.0->tensorboard~=2.5->tensorflow==2.5.3) (3.10)\n",
      "Requirement already satisfied: urllib3<3,>=1.21.1 in c:\\users\\dmigl\\anaconda3\\envs\\env_apr_g9\\lib\\site-packages (from requests<3,>=2.21.0->tensorboard~=2.5->tensorflow==2.5.3) (2.2.3)\n",
      "Requirement already satisfied: certifi>=2017.4.17 in c:\\users\\dmigl\\anaconda3\\envs\\env_apr_g9\\lib\\site-packages (from requests<3,>=2.21.0->tensorboard~=2.5->tensorflow==2.5.3) (2025.6.15)\n",
      "Requirement already satisfied: MarkupSafe>=2.1.1 in c:\\users\\dmigl\\anaconda3\\envs\\env_apr_g9\\lib\\site-packages (from werkzeug>=1.0.1->tensorboard~=2.5->tensorflow==2.5.3) (2.1.5)\n",
      "Requirement already satisfied: zipp>=3.20 in c:\\users\\dmigl\\anaconda3\\envs\\env_apr_g9\\lib\\site-packages (from importlib-metadata>=4.4->markdown>=2.6.8->tensorboard~=2.5->tensorflow==2.5.3) (3.20.2)\n",
      "Requirement already satisfied: pyasn1<0.7.0,>=0.6.1 in c:\\users\\dmigl\\anaconda3\\envs\\env_apr_g9\\lib\\site-packages (from pyasn1-modules>=0.2.1->google-auth<3,>=1.6.3->tensorboard~=2.5->tensorflow==2.5.3) (0.6.1)\n",
      "Requirement already satisfied: oauthlib>=3.0.0 in c:\\users\\dmigl\\anaconda3\\envs\\env_apr_g9\\lib\\site-packages (from requests-oauthlib>=0.7.0->google-auth-oauthlib<0.5,>=0.4.1->tensorboard~=2.5->tensorflow==2.5.3) (3.2.2)\n",
      "Requirement already satisfied: torch==2.0.1 in c:\\users\\dmigl\\anaconda3\\envs\\env_apr_g9\\lib\\site-packages (2.0.1)Note: you may need to restart the kernel to use updated packages.\n",
      "\n",
      "Requirement already satisfied: filelock in c:\\users\\dmigl\\anaconda3\\envs\\env_apr_g9\\lib\\site-packages (from torch==2.0.1) (3.16.1)\n",
      "Requirement already satisfied: typing-extensions in c:\\users\\dmigl\\anaconda3\\envs\\env_apr_g9\\lib\\site-packages (from torch==2.0.1) (3.7.4.3)\n",
      "Requirement already satisfied: sympy in c:\\users\\dmigl\\anaconda3\\envs\\env_apr_g9\\lib\\site-packages (from torch==2.0.1) (1.13.3)\n",
      "Requirement already satisfied: networkx in c:\\users\\dmigl\\anaconda3\\envs\\env_apr_g9\\lib\\site-packages (from torch==2.0.1) (3.1)\n",
      "Requirement already satisfied: jinja2 in c:\\users\\dmigl\\anaconda3\\envs\\env_apr_g9\\lib\\site-packages (from torch==2.0.1) (3.1.6)\n",
      "Requirement already satisfied: MarkupSafe>=2.0 in c:\\users\\dmigl\\anaconda3\\envs\\env_apr_g9\\lib\\site-packages (from jinja2->torch==2.0.1) (2.1.5)\n",
      "Requirement already satisfied: mpmath<1.4,>=1.1.0 in c:\\users\\dmigl\\anaconda3\\envs\\env_apr_g9\\lib\\site-packages (from sympy->torch==2.0.1) (1.3.0)\n",
      "Requirement already satisfied: agents==1.4.0 in c:\\users\\dmigl\\anaconda3\\envs\\env_apr_g9\\lib\\site-packages (1.4.0)\n",
      "Requirement already satisfied: tensorflow in c:\\users\\dmigl\\anaconda3\\envs\\env_apr_g9\\lib\\site-packages (from agents==1.4.0) (2.5.3)\n",
      "Requirement already satisfied: gym in c:\\users\\dmigl\\anaconda3\\envs\\env_apr_g9\\lib\\site-packages (from agents==1.4.0) (0.17.3)\n",
      "Requirement already satisfied: ruamel.yaml in c:\\users\\dmigl\\anaconda3\\envs\\env_apr_g9\\lib\\site-packages (from agents==1.4.0) (0.18.14)\n",
      "Requirement already satisfied: scipy in c:\\users\\dmigl\\anaconda3\\envs\\env_apr_g9\\lib\\site-packages (from gym->agents==1.4.0) (1.10.1)\n",
      "Requirement already satisfied: numpy>=1.10.4 in c:\\users\\dmigl\\anaconda3\\envs\\env_apr_g9\\lib\\site-packages (from gym->agents==1.4.0) (1.19.5)\n",
      "Requirement already satisfied: pyglet<=1.5.0,>=1.4.0 in c:\\users\\dmigl\\anaconda3\\envs\\env_apr_g9\\lib\\site-packages (from gym->agents==1.4.0) (1.5.0)\n",
      "Requirement already satisfied: cloudpickle<1.7.0,>=1.2.0 in c:\\users\\dmigl\\anaconda3\\envs\\env_apr_g9\\lib\\site-packages (from gym->agents==1.4.0) (1.6.0)\n",
      "Requirement already satisfied: ruamel.yaml.clib>=0.2.7 in c:\\users\\dmigl\\anaconda3\\envs\\env_apr_g9\\lib\\site-packages (from ruamel.yaml->agents==1.4.0) (0.2.8)\n",
      "Requirement already satisfied: absl-py~=0.10 in c:\\users\\dmigl\\anaconda3\\envs\\env_apr_g9\\lib\\site-packages (from tensorflow->agents==1.4.0) (0.15.0)\n",
      "Requirement already satisfied: astunparse~=1.6.3 in c:\\users\\dmigl\\anaconda3\\envs\\env_apr_g9\\lib\\site-packages (from tensorflow->agents==1.4.0) (1.6.3)\n",
      "Requirement already satisfied: flatbuffers~=1.12.0 in c:\\users\\dmigl\\anaconda3\\envs\\env_apr_g9\\lib\\site-packages (from tensorflow->agents==1.4.0) (1.12)\n",
      "Requirement already satisfied: google-pasta~=0.2 in c:\\users\\dmigl\\anaconda3\\envs\\env_apr_g9\\lib\\site-packages (from tensorflow->agents==1.4.0) (0.2.0)\n",
      "Requirement already satisfied: h5py~=3.1.0 in c:\\users\\dmigl\\anaconda3\\envs\\env_apr_g9\\lib\\site-packages (from tensorflow->agents==1.4.0) (3.1.0)\n",
      "Requirement already satisfied: keras-preprocessing~=1.1.2 in c:\\users\\dmigl\\anaconda3\\envs\\env_apr_g9\\lib\\site-packages (from tensorflow->agents==1.4.0) (1.1.2)\n",
      "Requirement already satisfied: opt-einsum~=3.3.0 in c:\\users\\dmigl\\anaconda3\\envs\\env_apr_g9\\lib\\site-packages (from tensorflow->agents==1.4.0) (3.3.0)\n",
      "Requirement already satisfied: protobuf>=3.9.2 in c:\\users\\dmigl\\anaconda3\\envs\\env_apr_g9\\lib\\site-packages (from tensorflow->agents==1.4.0) (3.20.3)\n",
      "Requirement already satisfied: six~=1.15.0 in c:\\users\\dmigl\\anaconda3\\envs\\env_apr_g9\\lib\\site-packages (from tensorflow->agents==1.4.0) (1.15.0)\n",
      "Requirement already satisfied: termcolor~=1.1.0 in c:\\users\\dmigl\\anaconda3\\envs\\env_apr_g9\\lib\\site-packages (from tensorflow->agents==1.4.0) (1.1.0)\n",
      "Requirement already satisfied: typing-extensions~=3.7.4 in c:\\users\\dmigl\\anaconda3\\envs\\env_apr_g9\\lib\\site-packages (from tensorflow->agents==1.4.0) (3.7.4.3)\n",
      "Requirement already satisfied: wheel~=0.35 in c:\\users\\dmigl\\anaconda3\\envs\\env_apr_g9\\lib\\site-packages (from tensorflow->agents==1.4.0) (0.44.0)\n",
      "Requirement already satisfied: wrapt~=1.12.1 in c:\\users\\dmigl\\anaconda3\\envs\\env_apr_g9\\lib\\site-packages (from tensorflow->agents==1.4.0) (1.12.1)\n",
      "Requirement already satisfied: gast==0.4.0 in c:\\users\\dmigl\\anaconda3\\envs\\env_apr_g9\\lib\\site-packages (from tensorflow->agents==1.4.0) (0.4.0)\n",
      "Requirement already satisfied: tensorboard~=2.5 in c:\\users\\dmigl\\anaconda3\\envs\\env_apr_g9\\lib\\site-packages (from tensorflow->agents==1.4.0) (2.11.2)\n",
      "Requirement already satisfied: tensorflow-estimator<2.6.0,>=2.5.0 in c:\\users\\dmigl\\anaconda3\\envs\\env_apr_g9\\lib\\site-packages (from tensorflow->agents==1.4.0) (2.5.0)\n",
      "Requirement already satisfied: keras-nightly~=2.5.0.dev in c:\\users\\dmigl\\anaconda3\\envs\\env_apr_g9\\lib\\site-packages (from tensorflow->agents==1.4.0) (2.5.0.dev2021032900)\n",
      "Requirement already satisfied: grpcio~=1.34.0 in c:\\users\\dmigl\\anaconda3\\envs\\env_apr_g9\\lib\\site-packages (from tensorflow->agents==1.4.0) (1.34.1)\n",
      "Requirement already satisfied: future in c:\\users\\dmigl\\anaconda3\\envs\\env_apr_g9\\lib\\site-packages (from pyglet<=1.5.0,>=1.4.0->gym->agents==1.4.0) (1.0.0)\n",
      "Requirement already satisfied: google-auth<3,>=1.6.3 in c:\\users\\dmigl\\anaconda3\\envs\\env_apr_g9\\lib\\site-packages (from tensorboard~=2.5->tensorflow->agents==1.4.0) (2.40.3)\n",
      "Requirement already satisfied: google-auth-oauthlib<0.5,>=0.4.1 in c:\\users\\dmigl\\anaconda3\\envs\\env_apr_g9\\lib\\site-packages (from tensorboard~=2.5->tensorflow->agents==1.4.0) (0.4.6)\n",
      "Requirement already satisfied: markdown>=2.6.8 in c:\\users\\dmigl\\anaconda3\\envs\\env_apr_g9\\lib\\site-packages (from tensorboard~=2.5->tensorflow->agents==1.4.0) (3.7)\n",
      "Requirement already satisfied: requests<3,>=2.21.0 in c:\\users\\dmigl\\anaconda3\\envs\\env_apr_g9\\lib\\site-packages (from tensorboard~=2.5->tensorflow->agents==1.4.0) (2.32.4)\n",
      "Requirement already satisfied: setuptools>=41.0.0 in c:\\users\\dmigl\\anaconda3\\envs\\env_apr_g9\\lib\\site-packages (from tensorboard~=2.5->tensorflow->agents==1.4.0) (75.3.2)\n",
      "Requirement already satisfied: tensorboard-data-server<0.7.0,>=0.6.0 in c:\\users\\dmigl\\anaconda3\\envs\\env_apr_g9\\lib\\site-packages (from tensorboard~=2.5->tensorflow->agents==1.4.0) (0.6.1)\n",
      "Requirement already satisfied: tensorboard-plugin-wit>=1.6.0 in c:\\users\\dmigl\\anaconda3\\envs\\env_apr_g9\\lib\\site-packages (from tensorboard~=2.5->tensorflow->agents==1.4.0) (1.8.1)\n",
      "Requirement already satisfied: werkzeug>=1.0.1 in c:\\users\\dmigl\\anaconda3\\envs\\env_apr_g9\\lib\\site-packages (from tensorboard~=2.5->tensorflow->agents==1.4.0) (3.0.6)\n",
      "Requirement already satisfied: cachetools<6.0,>=2.0.0 in c:\\users\\dmigl\\anaconda3\\envs\\env_apr_g9\\lib\\site-packages (from google-auth<3,>=1.6.3->tensorboard~=2.5->tensorflow->agents==1.4.0) (5.5.2)\n",
      "Requirement already satisfied: pyasn1-modules>=0.2.1 in c:\\users\\dmigl\\anaconda3\\envs\\env_apr_g9\\lib\\site-packages (from google-auth<3,>=1.6.3->tensorboard~=2.5->tensorflow->agents==1.4.0) (0.4.2)\n",
      "Requirement already satisfied: rsa<5,>=3.1.4 in c:\\users\\dmigl\\anaconda3\\envs\\env_apr_g9\\lib\\site-packages (from google-auth<3,>=1.6.3->tensorboard~=2.5->tensorflow->agents==1.4.0) (4.9.1)\n",
      "Requirement already satisfied: requests-oauthlib>=0.7.0 in c:\\users\\dmigl\\anaconda3\\envs\\env_apr_g9\\lib\\site-packages (from google-auth-oauthlib<0.5,>=0.4.1->tensorboard~=2.5->tensorflow->agents==1.4.0) (2.0.0)\n",
      "Requirement already satisfied: importlib-metadata>=4.4 in c:\\users\\dmigl\\anaconda3\\envs\\env_apr_g9\\lib\\site-packages (from markdown>=2.6.8->tensorboard~=2.5->tensorflow->agents==1.4.0) (8.5.0)\n",
      "Requirement already satisfied: charset_normalizer<4,>=2 in c:\\users\\dmigl\\anaconda3\\envs\\env_apr_g9\\lib\\site-packages (from requests<3,>=2.21.0->tensorboard~=2.5->tensorflow->agents==1.4.0) (3.4.2)\n",
      "Requirement already satisfied: idna<4,>=2.5 in c:\\users\\dmigl\\anaconda3\\envs\\env_apr_g9\\lib\\site-packages (from requests<3,>=2.21.0->tensorboard~=2.5->tensorflow->agents==1.4.0) (3.10)\n",
      "Requirement already satisfied: urllib3<3,>=1.21.1 in c:\\users\\dmigl\\anaconda3\\envs\\env_apr_g9\\lib\\site-packages (from requests<3,>=2.21.0->tensorboard~=2.5->tensorflow->agents==1.4.0) (2.2.3)\n",
      "Requirement already satisfied: certifi>=2017.4.17 in c:\\users\\dmigl\\anaconda3\\envs\\env_apr_g9\\lib\\site-packages (from requests<3,>=2.21.0->tensorboard~=2.5->tensorflow->agents==1.4.0) (2025.6.15)\n",
      "Requirement already satisfied: MarkupSafe>=2.1.1 in c:\\users\\dmigl\\anaconda3\\envs\\env_apr_g9\\lib\\site-packages (from werkzeug>=1.0.1->tensorboard~=2.5->tensorflow->agents==1.4.0) (2.1.5)\n",
      "Requirement already satisfied: zipp>=3.20 in c:\\users\\dmigl\\anaconda3\\envs\\env_apr_g9\\lib\\site-packages (from importlib-metadata>=4.4->markdown>=2.6.8->tensorboard~=2.5->tensorflow->agents==1.4.0) (3.20.2)\n",
      "Requirement already satisfied: pyasn1<0.7.0,>=0.6.1 in c:\\users\\dmigl\\anaconda3\\envs\\env_apr_g9\\lib\\site-packages (from pyasn1-modules>=0.2.1->google-auth<3,>=1.6.3->tensorboard~=2.5->tensorflow->agents==1.4.0) (0.6.1)\n",
      "Requirement already satisfied: oauthlib>=3.0.0 in c:\\users\\dmigl\\anaconda3\\envs\\env_apr_g9\\lib\\site-packages (from requests-oauthlib>=0.7.0->google-auth-oauthlib<0.5,>=0.4.1->tensorboard~=2.5->tensorflow->agents==1.4.0) (3.2.2)\n",
      "Note: you may need to restart the kernel to use updated packages.\n"
     ]
    }
   ],
   "source": [
    "# ejecutar solo la primera vez..\n",
    "\n",
    "if IN_COLAB:\n",
    "  %pip install gym==0.17.3\n",
    "  %pip install git+https://github.com/Kojoley/atari-py.git\n",
    "  %pip install keras-rl2==1.0.5\n",
    "  %pip install tensorflow==2.12\n",
    "else:\n",
    "  %pip install gym==0.17.3\n",
    "  %pip install git+https://github.com/Kojoley/atari-py.git\n",
    "  %pip install pyglet==1.5.0\n",
    "  %pip install h5py==3.1.0\n",
    "  %pip install Pillow==9.5.0\n",
    "  %pip install keras-rl2==1.0.5\n",
    "  %pip install Keras==2.2.4\n",
    "  %pip install tensorflow==2.5.3\n",
    "  %pip install torch==2.0.1\n",
    "  %pip install agents==1.4.0\n",
    "  %pip install matplotlib==3.3.4"
   ]
  },
  {
   "cell_type": "markdown",
   "metadata": {
    "id": "4hzP_5ZuGb2X"
   },
   "source": [
    "---\n",
    "## **PARTE 2**. Enunciado\n",
    "\n",
    "Consideraciones a tener en cuenta:\n",
    "\n",
    "- El entorno sobre el que trabajaremos será _SpaceInvaders-v0_ y el algoritmo que usaremos será _DQN_.\n",
    "\n",
    "- Para nuestro ejercicio, el requisito mínimo será alcanzado cuando el agente consiga una **media de recompensa por encima de 20 puntos en modo test**. Por ello, esta media de la recompensa se calculará a partir del código de test en la última celda del notebook.\n",
    "\n",
    "Este proyecto práctico consta de tres partes:\n",
    "\n",
    "1.   Implementar la red neuronal que se usará en la solución\n",
    "2.   Implementar las distintas piezas de la solución DQN\n",
    "3.   Justificar la respuesta en relación a los resultados obtenidos\n",
    "\n",
    "**Rúbrica**: Se valorará la originalidad en la solución aportada, así como la capacidad de discutir los resultados de forma detallada. El requisito mínimo servirá para aprobar la actividad, bajo premisa de que la discusión del resultado sera apropiada.\n",
    "\n",
    "IMPORTANTE:\n",
    "\n",
    "* Si no se consigue una puntuación óptima, responder sobre la mejor puntuación obtenida.\n",
    "* Para entrenamientos largos, recordad que podéis usar checkpoints de vuestros modelos para retomar los entrenamientos. En este caso, recordad cambiar los parámetros adecuadamente (sobre todo los relacionados con el proceso de exploración).\n",
    "* Se deberá entregar unicamente el notebook y los pesos del mejor modelo en un fichero .zip, de forma organizada.\n",
    "* Cada alumno deberá de subir la solución de forma individual."
   ]
  },
  {
   "cell_type": "markdown",
   "metadata": {
    "id": "6_b3mzw8IzJP"
   },
   "source": [
    "---\n",
    "## **PARTE 3**. Desarrollo y preguntas"
   ]
  },
  {
   "cell_type": "markdown",
   "metadata": {
    "id": "duPmUNOVGb2a"
   },
   "source": [
    "#### Importar librerías"
   ]
  },
  {
   "cell_type": "code",
   "execution_count": 5,
   "metadata": {
    "id": "j3eRhgI-Gb2a"
   },
   "outputs": [],
   "source": [
    "from __future__ import division\n",
    "\n",
    "from PIL import Image\n",
    "import numpy as np\n",
    "import gym\n",
    "\n",
    "from tensorflow.keras.models import Sequential\n",
    "from tensorflow.keras.layers import Dense, Activation, Flatten, Convolution2D, Permute, Dropout\n",
    "from tensorflow.keras.optimizers import Adam\n",
    "from tensorflow.keras.initializers import HeNormal\n",
    "from tensorflow.keras.optimizers.schedules import ExponentialDecay\n",
    "import tensorflow.keras.backend as K\n",
    "\n",
    "from rl.agents.dqn import DQNAgent\n",
    "from rl.policy import LinearAnnealedPolicy, BoltzmannQPolicy, EpsGreedyQPolicy\n",
    "from rl.memory import SequentialMemory\n",
    "from rl.core import Processor\n",
    "from rl.callbacks import FileLogger, ModelIntervalCheckpoint"
   ]
  },
  {
   "cell_type": "markdown",
   "metadata": {
    "id": "f4jgQjzoGb2a"
   },
   "source": [
    "#### Configuración base"
   ]
  },
  {
   "cell_type": "code",
   "execution_count": 6,
   "metadata": {
    "colab": {
     "base_uri": "https://localhost:8080/"
    },
    "id": "jwOE6I_KGb2a",
    "outputId": "941f9c3a-e542-42e6-bd55-a097f9b71828"
   },
   "outputs": [
    {
     "name": "stdout",
     "output_type": "stream",
     "text": [
      "Numero de acciones disponibles: 6 -> ['NOOP', 'FIRE', 'RIGHT', 'LEFT', 'RIGHTFIRE', 'LEFTFIRE']\n",
      "Formato de las observaciones: Box(0, 255, (210, 160, 3), uint8)\n"
     ]
    }
   ],
   "source": [
    "INPUT_SHAPE = (84, 84)\n",
    "WINDOW_LENGTH = 4\n",
    "\n",
    "env_name = 'SpaceInvaders-v0'\n",
    "env = gym.make(env_name)\n",
    "\n",
    "np.random.seed(123)\n",
    "env.seed(123)\n",
    "nb_actions = env.action_space.n\n",
    "\n",
    "print(\"Numero de acciones disponibles: \" + str(nb_actions) + \" -> \" + str(env.unwrapped.get_action_meanings()))\n",
    "print(\"Formato de las observaciones: \" + str(env.observation_space))"
   ]
  },
  {
   "cell_type": "code",
   "execution_count": 7,
   "metadata": {
    "id": "9jGEZUcpGb2a"
   },
   "outputs": [],
   "source": [
    "class AtariProcessor(Processor):\n",
    "    def process_observation(self, observation):\n",
    "        assert observation.ndim == 3  # (height, width, channel)\n",
    "        # removemos la parte superior (score) y inferior (vida del jugador)\n",
    "        cropped = observation[20:200, 8:152]\n",
    "        img = Image.fromarray(cropped)\n",
    "        img = img.resize(INPUT_SHAPE, Image.LANCZOS).convert('L')\n",
    "        processed_observation = np.array(img)\n",
    "        assert processed_observation.shape == INPUT_SHAPE\n",
    "        return processed_observation.astype('uint8')\n",
    "\n",
    "    def process_state_batch(self, batch):\n",
    "        processed_batch = batch.astype('float32') / 255.\n",
    "        return processed_batch\n",
    "\n",
    "    def process_reward(self, reward):\n",
    "        return np.clip(reward, -1., 1.)"
   ]
  },
  {
   "cell_type": "code",
   "execution_count": 3,
   "metadata": {},
   "outputs": [
    {
     "name": "stdout",
     "output_type": "stream",
     "text": [
      "Versión de TensorFlow: 2.5.3\n",
      "[PhysicalDevice(name='/physical_device:GPU:0', device_type='GPU'), PhysicalDevice(name='/physical_device:GPU:1', device_type='GPU')]\n",
      "GPU detectada: PhysicalDevice(name='/physical_device:GPU:0', device_type='GPU')\n"
     ]
    }
   ],
   "source": [
    "import tensorflow as tf\n",
    "\n",
    "print(\"Versión de TensorFlow:\", tf.__version__)\n",
    "gpus = tf.config.experimental.list_physical_devices('GPU')\n",
    "print(gpus)\n",
    "\n",
    "if gpus:\n",
    "    for gpu in gpus:\n",
    "        tf.config.experimental.set_memory_growth(gpu, True)\n",
    "    print(\"GPU detectada:\", gpus[0])\n",
    "else:\n",
    "    print(\"No se detectó GPU\")"
   ]
  },
  {
   "cell_type": "code",
   "execution_count": 4,
   "metadata": {},
   "outputs": [
    {
     "name": "stdout",
     "output_type": "stream",
     "text": [
      "Paso 4: Configurando GPU...\n",
      "2 Physical GPUs, 2 Logical GPUs\n"
     ]
    }
   ],
   "source": [
    "print(\"Paso 4: Configurando GPU...\")\n",
    "gpus = tf.config.experimental.list_physical_devices('GPU')\n",
    "if gpus:\n",
    "    try:\n",
    "        for gpu in gpus:\n",
    "            tf.config.experimental.set_memory_growth(gpu, True)\n",
    "        logical_gpus = tf.config.experimental.list_logical_devices('GPU')\n",
    "        print(len(gpus), \"Physical GPUs,\", len(logical_gpus), \"Logical GPUs\")\n",
    "    except RuntimeError as e:\n",
    "        print(e)\n",
    "else:\n",
    "    print(\"No se detectaron GPUs.\")"
   ]
  },
  {
   "cell_type": "markdown",
   "metadata": {
    "id": "7yitXTADGb2b"
   },
   "source": [
    "1. Implementación de la red neuronal"
   ]
  },
  {
   "cell_type": "code",
   "execution_count": 8,
   "metadata": {
    "scrolled": true
   },
   "outputs": [
    {
     "name": "stdout",
     "output_type": "stream",
     "text": [
      "channels_last\n",
      "(4, 84, 84)\n",
      "Model: \"sequential\"\n",
      "_________________________________________________________________\n",
      "Layer (type)                 Output Shape              Param #   \n",
      "=================================================================\n",
      "permute (Permute)            (None, 84, 84, 4)         0         \n",
      "_________________________________________________________________\n",
      "conv2d (Conv2D)              (None, 20, 20, 32)        8224      \n",
      "_________________________________________________________________\n",
      "conv2d_1 (Conv2D)            (None, 9, 9, 64)          32832     \n",
      "_________________________________________________________________\n",
      "conv2d_2 (Conv2D)            (None, 7, 7, 64)          36928     \n",
      "_________________________________________________________________\n",
      "flatten (Flatten)            (None, 3136)              0         \n",
      "_________________________________________________________________\n",
      "dense (Dense)                (None, 512)               1606144   \n",
      "_________________________________________________________________\n",
      "dropout (Dropout)            (None, 512)               0         \n",
      "_________________________________________________________________\n",
      "dense_1 (Dense)              (None, 256)               131328    \n",
      "_________________________________________________________________\n",
      "dropout_1 (Dropout)          (None, 256)               0         \n",
      "_________________________________________________________________\n",
      "dense_2 (Dense)              (None, 6)                 1542      \n",
      "=================================================================\n",
      "Total params: 1,816,998\n",
      "Trainable params: 1,816,998\n",
      "Non-trainable params: 0\n",
      "_________________________________________________________________\n",
      "None\n"
     ]
    }
   ],
   "source": [
    "# modelo mas complejo - usar este\n",
    "input_shape = (WINDOW_LENGTH,) + INPUT_SHAPE\n",
    "model = Sequential()\n",
    "print(K.image_data_format())\n",
    "print(input_shape)\n",
    "\n",
    "if K.image_data_format() == 'channels_last':\n",
    "    # (width, height, channels)\n",
    "    model.add(Permute((2, 3, 1), input_shape=input_shape))\n",
    "elif K.image_data_format() == 'channels_first':\n",
    "    # (channels, width, height)\n",
    "    model.add(Permute((1, 2, 3), input_shape=input_shape))\n",
    "else:\n",
    "    raise RuntimeError('Unknown image_dim_ordering.')\n",
    "\n",
    "# Capas convolucionales mejoradas con inicialización HeNormal\n",
    "model.add(Convolution2D(32, (8, 8), strides=(4, 4), \n",
    "                       activation='relu', kernel_initializer=HeNormal()))\n",
    " # model.add(BatchNormalization())\n",
    "\n",
    "model.add(Convolution2D(64, (4, 4), strides=(2, 2), \n",
    "                       activation='relu', kernel_initializer=HeNormal()))\n",
    " # model.add(BatchNormalization())\n",
    "\n",
    "model.add(Convolution2D(64, (3, 3), strides=(1, 1), \n",
    "                       activation='relu', kernel_initializer=HeNormal()))\n",
    " # model.add(BatchNormalization())\n",
    "\n",
    "model.add(Flatten())\n",
    "\n",
    "# Capas densas con dropout y batch normalization\n",
    "model.add(Dense(512, activation='relu', kernel_initializer=HeNormal()))\n",
    " # model.add(BatchNormalization())\n",
    "model.add(Dropout(0.3))\n",
    "\n",
    "model.add(Dense(256, activation='relu', kernel_initializer=HeNormal()))\n",
    " # model.add(BatchNormalization())\n",
    "model.add(Dropout(0.2))\n",
    "\n",
    "# Capa de salida\n",
    "model.add(Dense(nb_actions, activation='linear', kernel_initializer=HeNormal()))\n",
    "\n",
    "print(model.summary())"
   ]
  },
  {
   "cell_type": "markdown",
   "metadata": {
    "id": "OB9-_5HPGb2b"
   },
   "source": [
    "2. Implementación de la solución DQN"
   ]
  },
  {
   "cell_type": "code",
   "execution_count": 9,
   "metadata": {},
   "outputs": [],
   "source": [
    "from rl.callbacks import Callback\n",
    "\n",
    "class HyperparameterMonitorCallback(Callback):\n",
    "    \"\"\"Callback para monitorear el estado de la memoria de los actuales valores de los hiperparametros\"\"\"\n",
    "    \n",
    "    def __init__(self, interval=5000):\n",
    "        self.interval = interval\n",
    "        self.steps_since_log = 0\n",
    "        \n",
    "    def on_step_end(self, step, logs=None):\n",
    "        self.steps_since_log += 1\n",
    "        if self.steps_since_log >= self.interval:\n",
    "            self.steps_since_log = 0\n",
    "            \n",
    "            print(f\"\\n>>> Memoria e Hiperparametros:\")\n",
    "            \n",
    "            # Estado de la memoria/buffer\n",
    "            memory = self.model.memory\n",
    "            print(f\"    [MEMORY] Memory Size: {len(memory)}\")\n",
    "            print(f\"    [MEMORY] Elite Fraction: {memory.elite_fraction}\")\n",
    "            \n",
    "            # Valores de los hiperparametros\n",
    "            print(f\"    [TRAIN] Batch Size: {dqn.batch_size}\")\n",
    "            print(f\"    [TRAIN] Step actual: {self.model.step}\")\n",
    "            \n",
    "            policy = getattr(self.model, 'policy', None)\n",
    "            if isinstance(policy, LinearAnnealedPolicy):\n",
    "                eps = policy.get_current_value()\n",
    "                print(f\"    [POLICY] epsilon actual: {eps:.4f}\")\n",
    "            optimizer = self.model.model.optimizer\n",
    "            lr_schedule = optimizer.learning_rate\n",
    "\n",
    "            if isinstance(lr_schedule, ExponentialDecay):\n",
    "                # Usamos el número de paso actual para evaluar el schedule\n",
    "                current_lr = float(lr_schedule(self.model.step).numpy())\n",
    "            else:\n",
    "                # Puede ser una variable o valor fijo\n",
    "                current_lr = float(K.get_value(lr_schedule))\n",
    "            print(f\"    [LR] Learning rate actual: {current_lr:.6f}\")\n",
    "            \n",
    "\n",
    "    def on_episode_end(self, episode, logs=None):\n",
    "        \"\"\"Mostrar stats al final del episodio\"\"\"\n",
    "        pass"
   ]
  },
  {
   "cell_type": "code",
   "execution_count": 11,
   "metadata": {},
   "outputs": [],
   "source": [
    "from rl.callbacks import Callback\n",
    "\n",
    "class BatchSizeSchedulerCallback(Callback):\n",
    "    def __init__(self, total_steps, initial_bs=32, schedule=None):\n",
    "        self.total_steps = total_steps\n",
    "        self.initial_bs = initial_bs\n",
    "        self.schedule = schedule if schedule else [(1/3, 2), (2/3, 2)]\n",
    "        self.applied = [False] * len(self.schedule)\n",
    "\n",
    "    def on_train_begin(self, logs=None):\n",
    "        self.model.batch_size = self.initial_bs\n",
    "        print(f\"[BATCH] Entrenamiento iniciado con batch_size={self.initial_bs}\")\n",
    "\n",
    "    def on_step_end(self, step, logs=None):\n",
    "        current_step = self.model.step  # paso global del agente\n",
    "\n",
    "        for i, (threshold_frac, multiplier) in enumerate(self.schedule):\n",
    "            if not self.applied[i] and current_step >= int(self.total_steps * threshold_frac):\n",
    "                new_bs = self.model.batch_size * multiplier\n",
    "                self.model.batch_size = new_bs\n",
    "                self.applied[i] = True\n",
    "                print(f\"[BATCH] Step {current_step}: batch_size actualizado a {new_bs}\")\n"
   ]
  },
  {
   "cell_type": "code",
   "execution_count": 14,
   "metadata": {},
   "outputs": [],
   "source": [
    "import numpy as np\n",
    "import copy\n",
    "import random\n",
    "from collections import deque\n",
    "from rl.memory import sample_batch_indexes, zeroed_observation\n",
    "\n",
    "class ElitistSequentialMemory(SequentialMemory):\n",
    "    def __init__(self, limit, window_length=1, elite_fraction=0.5, batch_size=128, reward_threshold=0.0, **kwargs):\n",
    "        super().__init__(limit=limit, window_length=window_length, **kwargs)\n",
    "        self.elite_fraction = elite_fraction\n",
    "        self.batch_size = batch_size\n",
    "        self.reward_threshold = reward_threshold\n",
    "        self.limit = limit\n",
    "        self.window_length = window_length\n",
    "\n",
    "        self.elite_fraction = elite_fraction  # porcentaje del batch que será elite\n",
    "        self.reward_threshold = reward_threshold  # criterio de recompensa mínima para ser elite\n",
    "        \n",
    "        self.actions = []\n",
    "        self.rewards = []\n",
    "        self.terminals = []\n",
    "        self.observations = []\n",
    "\n",
    "    def append(self, observation, action, reward, terminal, training=True):\n",
    "        super().append(observation, action, reward, terminal, training=training)\n",
    "        if not training:\n",
    "            return\n",
    "\n",
    "        if reward < 0:\n",
    "            print(f\"\\n[MEMORY] NEGATIVA {reward:.2f}\")\n",
    "\n",
    "        if len(self.observations) < self.limit:\n",
    "            self.observations.append(observation)\n",
    "            self.actions.append(action)\n",
    "            self.rewards.append(reward)\n",
    "            self.terminals.append(terminal)\n",
    "            # print(f\"\\n[MEMORY] Agregada experiencia nueva con reward {reward:.2f}\")\n",
    "        else:\n",
    "            # Buscar el índice de la peor experiencia actual\n",
    "            min_reward = min(self.rewards)\n",
    "            if reward > min_reward:\n",
    "                idx = self.rewards.index(min_reward)\n",
    "                #if reward > 0:\n",
    "                #    print(f\"\\n[MEMORY] Reemplazada exp (old: {min_reward:.2f}) -> nueva: {reward:.2f}\")\n",
    "                self.observations[idx] = observation\n",
    "                self.actions[idx] = action\n",
    "                self.rewards[idx] = reward\n",
    "                self.terminals[idx] = terminal\n",
    "\n",
    "    def sample(self, batch_size, batch_idxs=None):\n",
    "        all_experiences = super().sample(batch_size * 4)\n",
    "    \n",
    "        # Definimos una recompensa mínima para considerar élite (podés ajustar)\n",
    "        rewards = [e.reward for e in all_experiences]\n",
    "        threshold = np.percentile(rewards, 100 * (1 - self.elite_fraction))  # por ejemplo, top 20%\n",
    "    \n",
    "        elite = [e for e in all_experiences if e.reward >= threshold]\n",
    "        elite_ids = set(id(e) for e in elite)\n",
    "    \n",
    "        elite_count = min(len(elite), int(self.elite_fraction * batch_size))\n",
    "        selected_elite = elite[:elite_count]\n",
    "    \n",
    "        remaining = batch_size - len(selected_elite)\n",
    "        others = [e for e in all_experiences if id(e) not in elite_ids]\n",
    "    \n",
    "        if len(others) >= remaining:\n",
    "            final_others = others[:remaining]\n",
    "        else:\n",
    "            # Si no hay suficientes \"otros\", completamos duplicando de los mejores\n",
    "            needed = remaining - len(others)\n",
    "            if len(others) > 0:\n",
    "                final_others = others + random.choices(others, k=needed)\n",
    "            else:\n",
    "                final_others = random.choices(selected_elite, k=remaining)\n",
    "        \n",
    "        final_batch = selected_elite + final_others\n",
    "        #print(f\"\\n[MEMORY] Se muestrea un batch de {batch_size} con {len(selected_elite)} exp de elite y {len(final_others)} restantes.\")\n",
    "        assert len(final_batch) == batch_size\n",
    "        return final_batch\n",
    "\n",
    "    @property\n",
    "    def nb_entries(self):\n",
    "        return len(self.observations)\n",
    "\n",
    "    def get_config(self):\n",
    "        config = super().get_config()\n",
    "        config['limit'] = self.limit\n",
    "        return config\n",
    "    \n",
    "    def __len__(self):\n",
    "        return len(self.observations)\n"
   ]
  },
  {
   "cell_type": "code",
   "execution_count": 16,
   "metadata": {},
   "outputs": [],
   "source": [
    "from rl.callbacks import Callback\n",
    "import numpy as np\n",
    "import math\n",
    "\n",
    "class AdaptiveEliteTuningAndSaveBestModelCallback(Callback):\n",
    "    def __init__(self, \n",
    "                 env,\n",
    "                 filename='best_model.h5f',\n",
    "                 test_episodes=5,\n",
    "                 warmup_steps=1000,\n",
    "                 monitor_interval=1000,\n",
    "                 improve_threshold=1.0,\n",
    "                 decay_threshold=0.1,\n",
    "                 decay_factor=0.7,\n",
    "                 grow_factor=0.7,\n",
    "                 min_elite=0.1,\n",
    "                 max_elite=0.9):\n",
    "        \n",
    "        self.env = env\n",
    "        self.filename = filename\n",
    "        self.test_episodes = test_episodes\n",
    "        self.warmup_steps = warmup_steps\n",
    "        self.monitor_interval = monitor_interval\n",
    "        self.improve_threshold = improve_threshold\n",
    "        self.decay_threshold = decay_threshold\n",
    "        self.decay_factor = decay_factor\n",
    "        self.grow_factor = grow_factor\n",
    "        self.min_elite = min_elite\n",
    "        self.max_elite = max_elite\n",
    "        self.best_avg_reward = -np.inf\n",
    "        self.steps_since_last_eval = 0\n",
    "\n",
    "    def on_step_end(self, step, logs=None):\n",
    "        self.steps_since_last_eval += 1\n",
    "        \n",
    "        if self.steps_since_last_eval >= self.monitor_interval and self.steps_since_last_eval >= self.warmup_steps:\n",
    "            self.steps_since_last_eval = 0\n",
    "            saved_step = self.model.step\n",
    "\n",
    "            # Evaluación\n",
    "            history = self.model.test(\n",
    "                self.env,\n",
    "                nb_episodes=self.test_episodes,\n",
    "                visualize=False,\n",
    "                verbose=0\n",
    "            )\n",
    "            \n",
    "            avg_reward = np.mean(history.history['episode_reward'])\n",
    "            max_reward = np.max(history.history['episode_reward'])\n",
    "            delta = avg_reward - self.best_avg_reward\n",
    "            print(f\"\\n>>> {self.best_avg_reward}\")\n",
    "\n",
    "            # Restaurar contador del modelo (importante para evitar errores internos)\n",
    "            self.model.step = saved_step\n",
    "            self.model.training = True\n",
    "\n",
    "            print(f\"\\n>>> Step {saved_step} -> Avg={avg_reward:.2f}, Max={max_reward:.2f} -> {history.history['episode_reward']} -> Mejor Actual: {self.best_avg_reward:.2f}\")\n",
    "\n",
    "            # Guardar pesos si mejora\n",
    "            if avg_reward > self.best_avg_reward:\n",
    "                self.best_avg_reward = avg_reward\n",
    "                self.model.save_weights(self.filename, overwrite=True)\n",
    "                print(f\">>> Nuevo Máximo: {avg_reward:.2f} -> Guardado en {self.filename}\")\n",
    "\n",
    "            # Ajuste de elite_fraction si la memoria lo permite\n",
    "            if not math.isinf(delta):\n",
    "                mem = getattr(self.model, 'memory', None)\n",
    "                current_elite = getattr(mem, 'elite_fraction', None)\n",
    "    \n",
    "                if current_elite is not None:\n",
    "                    print(f\"[AdaptiveElite] Δ={delta:.2f}, elite_fraction={current_elite:.2f}\")\n",
    "                    if delta > self.improve_threshold:\n",
    "                        new_elite = min(current_elite * self.grow_factor, self.max_elite)\n",
    "                        print(f\"[AdaptiveElite] Mejora → Aumento elite_fraction a {new_elite:.2f}\")\n",
    "                        mem.elite_fraction = new_elite\n",
    "                    elif delta < self.decay_threshold:\n",
    "                        new_elite = max(current_elite * self.decay_factor, self.min_elite)\n",
    "                        print(f\"[AdaptiveElite] Estancamiento → Reduzco elite_fraction a {new_elite:.2f}\")\n",
    "                        mem.elite_fraction = new_elite\n"
   ]
  },
  {
   "cell_type": "code",
   "execution_count": 17,
   "metadata": {
    "id": "foSlxWH1Gb2b"
   },
   "outputs": [
    {
     "name": "stdout",
     "output_type": "stream",
     "text": [
      "Elitist Sequential Memory configurada: elite_fraction=0.6, batch_size=128, reward_threshold=0.5\n",
      "Estrategia configurada: value_max=1.0, value_min=0.1, nb_steps=5000000\n",
      "Agente configurado: nb_steps_warmup=120000, gamma=0.991, target_model_update=30000\n",
      "Learning Rate configurado: initial_lr=0.0001, decay_rate=0.96, decay_steps=5000000\n"
     ]
    }
   ],
   "source": [
    "\n",
    "from tensorflow.keras.optimizers.schedules import ExponentialDecay\n",
    "\n",
    "# memoria para almacenar la experiencia del agente\n",
    "# memory = SequentialMemory(limit=10000, window_length=WINDOW_LENGTH)\n",
    "# memory = EpisodeParameterMemory(limit=100000, window_length=WINDOW_LENGTH)\n",
    "# memory = PrioritizedMemory(limit=100000, alpha=.6, start_beta=.4, end_beta=1., steps_annealed=100000, window_length=WINDOW_LENGTH)\n",
    "\n",
    "# Memoria con priorizacion de mejores episodios \n",
    "# memory = PrioritizedExperienceReplay(\n",
    "#     limit=3000,           # Tamaño de memoria\n",
    "#     alpha=0.75,              # Priorización: 0.6 es un buen balance\n",
    "#     beta_start=0.4,         # Importance sampling inicial\n",
    "#     beta_frames=2500,     # Frames para annealing (75% del entrenamiento)\n",
    "#     epsilon=1e-6,           # Evitar prioridades cero\n",
    "#     window_length=WINDOW_LENGTH,\n",
    "#    ignore_episode_boundaries=False\n",
    "# )\n",
    "# print(f\"Prioritized Experience Replay configurado: alpha={memory.alpha}, beta_start={memory.beta_start}\")\n",
    "memory = ElitistSequentialMemory(\n",
    "    limit=5000000,\n",
    "    window_length=4,\n",
    "    elite_fraction=0.6,     # Usar 70% de experiencias con buen reward\n",
    "    reward_threshold=0.5    # Solo se considera “elite” si el reward > 0.5\n",
    ")\n",
    "print(f\"Elitist Sequential Memory configurada: elite_fraction={memory.elite_fraction}, batch_size={memory.batch_size}, reward_threshold={memory.reward_threshold}\")\n",
    "\n",
    "# processor\n",
    "processor = AtariProcessor()\n",
    "\n",
    "# policy que el agente va a seguir\n",
    "#policy = BoltzmannQPolicy()\n",
    "policy = LinearAnnealedPolicy(EpsGreedyQPolicy(), attr='eps',\n",
    "                              value_max=1.00, value_min=0.1, \n",
    "                              value_test=.05, nb_steps=5000000)\n",
    "print(f\"Estrategia configurada: value_max={policy.value_max}, value_min={policy.value_min}, nb_steps={policy.nb_steps}\")\n",
    "\n",
    "# definicion del agente\n",
    "dqn = DQNAgent(model=model, nb_actions=nb_actions, policy=policy,\n",
    "               memory=memory, processor=processor,\n",
    "               nb_steps_warmup=120000, gamma=.991, batch_size=32,\n",
    "               target_model_update=30000, train_interval=4, delta_clip=1.0,\n",
    "               enable_double_dqn=True, enable_dueling_network=False)\n",
    "print(f\"Agente configurado: nb_steps_warmup={dqn.nb_steps_warmup}, gamma={dqn.gamma}, target_model_update={dqn.target_model_update}\")\n",
    "\n",
    "# compilacion del agente\n",
    "initial_learning_rate = 0.0001  # Learning rate más conservador\n",
    "lr_schedule = ExponentialDecay(\n",
    "    initial_learning_rate,\n",
    "    decay_steps=5000000,\n",
    "    decay_rate=0.96,\n",
    "    staircase=True\n",
    ")\n",
    "dqn.compile(Adam(learning_rate=lr_schedule), metrics=['mae'])\n",
    "print(f\"Learning Rate configurado: initial_lr={initial_learning_rate}, decay_rate={lr_schedule.decay_rate}, decay_steps={lr_schedule.decay_steps}\")"
   ]
  },
  {
   "cell_type": "code",
   "execution_count": 18,
   "metadata": {},
   "outputs": [
    {
     "name": "stdout",
     "output_type": "stream",
     "text": [
      "[BATCH] Entrenamiento iniciado con batch_size=32\n",
      "Training for 6000000 steps ...\n",
      "Interval 1 (0 steps performed)\n"
     ]
    },
    {
     "name": "stderr",
     "output_type": "stream",
     "text": [
      "C:\\Users\\diegom\\anaconda3\\envs\\env_apr_g9\\lib\\site-packages\\tensorflow\\python\\keras\\engine\\training.py:2424: UserWarning: `Model.state_updates` will be removed in a future version. This property should not be used in TensorFlow 2.0, as `updates` are applied automatically.\n",
      "  warnings.warn('`Model.state_updates` will be removed in a future version. '\n"
     ]
    },
    {
     "name": "stdout",
     "output_type": "stream",
     "text": [
      "done, took 3.120 seconds...................] - ETA: 2:15 - reward: 0.0000e+00    \n"
     ]
    }
   ],
   "source": [
    "# entrenamiento del agent\n",
    "#weights_filename = 'apr_g9_dqn_{}_weights.h5f'.format(env_name)\n",
    "checkpoint_weights_filename = 'apr_g9_dqn_' + env_name + '_weights_{step}_6M_GPU.h5f'\n",
    "log_filename = 'apr_g9_dqn_{}_6M_log.json'.format(env_name)\n",
    "total_steps = 6000000\n",
    "\n",
    "callbacks = [\n",
    "    ModelIntervalCheckpoint(checkpoint_weights_filename, interval=total_steps/100),\n",
    "    FileLogger(log_filename, interval=total_steps/100),\n",
    "    #SaveBestRewardCallback(env, filename='best_model_weights_6M.h5f', test_episodes=5, test_interval=500),\n",
    "    #AdaptiveEliteFractionCallback(env, monitor_interval=100, improve_threshold=1.0, decay_threshold=0.1, decay_factor=0.7, grow_factor=0.7, min_elite=0.2, max_elite=0.8),\n",
    "    AdaptiveEliteTuningAndSaveBestModelCallback(env, filename='best_model_weights_6M.h5f', test_episodes=8, warmup_steps=dqn.nb_steps_warmup, monitor_interval=total_steps/100, improve_threshold=1.0, decay_threshold=0.1, decay_factor=0.9, grow_factor=1.1, min_elite=0.2, max_elite=0.8),\n",
    "    BatchSizeSchedulerCallback(total_steps=total_steps, initial_bs=32, schedule=[(1/3, 2), (3/4, 2)]),\n",
    "    HyperparameterMonitorCallback(interval=60000)\n",
    "]\n",
    "entrenamiento = dqn.fit(env, callbacks=callbacks, nb_steps=total_steps, log_interval=30000, visualize=False, verbose=1)\n",
    "\n",
    "# se graban los pesos finales luego de finalizar el entrenamiento\n",
    "#dqn.save_weights('apr_g9_dqn_{}_weights.h5f'.format(env_name), overwrite=True)"
   ]
  },
  {
   "cell_type": "code",
   "execution_count": null,
   "metadata": {
    "id": "OHYryKd1Gb2b",
    "scrolled": true
   },
   "outputs": [],
   "source": [
    "from gym.wrappers import Monitor\n",
    "\n",
    "# cargar mejor modelo\"\n",
    "dqn.load_weights('best_model_weights_6M.h5f')\n",
    "\n",
    "# test normal + guardar recompensas\n",
    "history = dqn.test(env, nb_episodes=1000, visualize=False)\n",
    "episode_rewards = history.history['episode_reward']\n",
    "np.save('test_rewards_6M.npy', episode_rewards)\n",
    "\n",
    "# Mostrar los resultados\n",
    "mejor_reward = np.max(episode_rewards)\n",
    "mejor_epi = np.argmax(episode_rewards) + 1\n",
    "print(f\"\\nPromedio de recompensas: {np.mean(history.history['episode_reward'])}\")\n",
    "print(f\"Mejor Episodio {mejor_epi} con Recompensa = {mejor_reward}\")\n",
    "\n",
    "# Guardar la mejor recompensa en un archivo\n",
    "with open('mejor_ejecucion_6M.txt', 'w') as f:\n",
    "    f.write(f\"Mejor episodio: {mejor_epi} con Recompensa: {mejor_reward}\\n\")\n",
    "    \n",
    "# correr episodio con video\n",
    "# video_env = Monitor(gym.make(env_name), './video', force=True)\n",
    "# dqn.test(video_env, nb_episodes=1, visualize=False)\n",
    "# video_env.close()\n"
   ]
  },
  {
   "cell_type": "code",
   "execution_count": null,
   "metadata": {},
   "outputs": [],
   "source": [
    "import matplotlib.pyplot as plt\n",
    "rewards = np.load('test_rewards_6M.npy')\n",
    "plt.figure(figsize=(14, 10))\n",
    "plt.plot(rewards)\n",
    "plt.title(\"Recompensa por episodio\")\n",
    "plt.xlabel(\"Episodio\")\n",
    "plt.ylabel(\"Recompensa\")\n",
    "plt.grid()\n",
    "plt.savefig(\"grafico_recompensas_6M.png\")\n",
    "plt.show()"
   ]
  },
  {
   "cell_type": "code",
   "execution_count": null,
   "metadata": {},
   "outputs": [],
   "source": [
    "plt.figure(figsize=(14, 10))\n",
    "plt.hist(rewards, bins=range(int(min(rewards)), int(max(rewards)) + 2), edgecolor='black')\n",
    "plt.title('Histograma de Recompensas.test')\n",
    "plt.xlabel('Recompensa por Episodio')\n",
    "plt.ylabel('Frecuencia')\n",
    "plt.grid(True)\n",
    "plt.show()"
   ]
  },
  {
   "cell_type": "markdown",
   "metadata": {
    "id": "-NAlu8b1Gb2b"
   },
   "source": [
    "3. Justificación de los parámetros seleccionados y de los resultados obtenidos"
   ]
  },
  {
   "cell_type": "code",
   "execution_count": 6,
   "metadata": {},
   "outputs": [
    {
     "name": "stdout",
     "output_type": "stream",
     "text": [
      "Note: you may need to restart the kernel to use updated packages.\n"
     ]
    },
    {
     "name": "stderr",
     "output_type": "stream",
     "text": [
      "ERROR: Could not find a version that satisfies the requirement cudatoolkit==11.2 (from versions: none)\n",
      "ERROR: No matching distribution found for cudatoolkit==11.2\n"
     ]
    }
   ],
   "source": [
    "#%pip uninstall tensorflow\n",
    "#%pip install tensorflow-gpu==2.5.0\n",
    "%pip install cudatoolkit==11.2"
   ]
  },
  {
   "cell_type": "markdown",
   "metadata": {
    "id": "ANFQiicXK3sO"
   },
   "source": [
    "---"
   ]
  }
 ],
 "metadata": {
  "colab": {
   "provenance": []
  },
  "kernelspec": {
   "display_name": "env_apr_g9",
   "language": "python",
   "name": "env_apr_g9"
  },
  "language_info": {
   "codemirror_mode": {
    "name": "ipython",
    "version": 3
   },
   "file_extension": ".py",
   "mimetype": "text/x-python",
   "name": "python",
   "nbconvert_exporter": "python",
   "pygments_lexer": "ipython3",
   "version": "3.8.20"
  }
 },
 "nbformat": 4,
 "nbformat_minor": 4
}
